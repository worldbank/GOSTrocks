{
 "cells": [
  {
   "cell_type": "markdown",
   "metadata": {},
   "source": [
    "# Summarize files and folders in AWS\n",
    "\n",
    "This notebook provides an example of how to list files in an AWS bucket (including a prefix search) and group according to folder definitions"
   ]
  },
  {
   "cell_type": "code",
   "execution_count": 38,
   "metadata": {},
   "outputs": [],
   "source": [
    "import sys, os\n",
    "\n",
    "import boto3\n",
    "import urllib3\n",
    "\n",
    "import pandas as pd\n",
    "\n",
    "from tqdm.notebook import tqdm\n",
    "\n",
    "urllib3.disable_warnings(urllib3.exceptions.InsecureRequestWarning)"
   ]
  },
  {
   "cell_type": "code",
   "execution_count": 41,
   "metadata": {},
   "outputs": [],
   "source": [
    "bucket = \"fathom-products-flood\"\n",
    "prefix = \"flood-map-3\"\n",
    "region = \"us-east-1\"\n",
    "s3Session = boto3.Session(profile_name=\"fathom\")\n",
    "s3client = s3Session.client(\"s3\", verify=False)\n",
    "\n",
    "upBucket = \"wbg-geography01\"\n",
    "upPrefix = \"FATHOM\"\n",
    "uploadSession = boto3.Session(profile_name=\"default\")\n",
    "uploadClient = uploadSession.client(\"s3\", verify=False)\n",
    "\n",
    "out_folder = \"C:/WBG/Work/Projects/FATHOM/data\""
   ]
  },
  {
   "cell_type": "code",
   "execution_count": 33,
   "metadata": {},
   "outputs": [
    {
     "data": {
      "text/plain": [
       "524"
      ]
     },
     "execution_count": 33,
     "metadata": {},
     "output_type": "execute_result"
    }
   ],
   "source": [
    "# read in prefixes to process from txt file\n",
    "in_txt = \"C:/WBG/Work/Projects/FATHOM/full_layers_commands.txt\"\n",
    "\n",
    "with open(in_txt, \"r\") as f:\n",
    "    lines = f.readlines()\n",
    "\n",
    "all_models = []\n",
    "for line in lines:\n",
    "    if line.startswith(\"aws\"):\n",
    "        sel_model = lines[4].split(\" \")[3].split(\"/\")[-1]\n",
    "        all_models.append(sel_model)\n",
    "\n",
    "len(all_models)"
   ]
  },
  {
   "cell_type": "code",
   "execution_count": 34,
   "metadata": {
    "scrolled": true
   },
   "outputs": [],
   "source": [
    "def get_all_files(cPrefix):\n",
    "    # Loop through the S3 bucket and get all the file keys\n",
    "    more_results = True\n",
    "    try:\n",
    "        del token  # noqa\n",
    "    except Exception:\n",
    "        pass\n",
    "    loops = 0\n",
    "\n",
    "    all_res = []\n",
    "    while more_results:\n",
    "        if loops > 0:\n",
    "            objects = s3client.list_objects_v2(\n",
    "                Bucket=bucket,\n",
    "                ContinuationToken=token,  # noqa\n",
    "                Prefix=cPrefix,  # noqa\n",
    "            )\n",
    "        else:\n",
    "            objects = s3client.list_objects_v2(Bucket=bucket, Prefix=cPrefix)\n",
    "        more_results = objects[\"IsTruncated\"]\n",
    "        if more_results:\n",
    "            token = objects[\"NextContinuationToken\"]\n",
    "        loops += 1\n",
    "        for res in objects[\"Contents\"]:\n",
    "            all_res.append(res)\n",
    "    inD = pd.DataFrame(all_res)\n",
    "    inD[\"folder\"] = inD[\"Key\"].apply(lambda x: \"_\".join(x.split(\"/\")[:]))\n",
    "    inD.sort_values(\"LastModified\", ascending=False)\n",
    "    inD['YEAR'] = inD['LastModified'].dt.year\n",
    "    inD['YEAR_MONTH'] = inD['LastModified'].dt.year * 100 + inD['LastModified'].dt.month\n",
    "    return(inD)"
   ]
  },
  {
   "cell_type": "code",
   "execution_count": 43,
   "metadata": {},
   "outputs": [
    {
     "data": {
      "application/vnd.jupyter.widget-view+json": {
       "model_id": "85442423325c4539ab83ee98f7dc1715",
       "version_major": 2,
       "version_minor": 0
      },
      "text/plain": [
       "  0%|          | 0/524 [00:00<?, ?it/s]"
      ]
     },
     "metadata": {},
     "output_type": "display_data"
    },
    {
     "name": "stdout",
     "output_type": "stream",
     "text": [
      "Completed loop: 0\n",
      "Completed loop: 1\n",
      "Completed loop: 2\n",
      "Completed loop: 3\n",
      "Completed loop: 4\n",
      "Completed loop: 5\n",
      "Completed loop: 6\n",
      "Completed loop: 7\n",
      "Completed loop: 8\n",
      "Completed loop: 9\n",
      "Completed loop: 10\n",
      "Completed loop: 11\n",
      "Completed loop: 12\n",
      "Completed loop: 13\n",
      "Completed loop: 14\n",
      "Completed loop: 15\n",
      "Completed loop: 16\n",
      "Completed loop: 17\n",
      "Completed loop: 18\n",
      "Completed loop: 19\n"
     ]
    },
    {
     "data": {
      "application/vnd.jupyter.widget-view+json": {
       "model_id": "d693945787284d1e82fd75fbf07fd8a5",
       "version_major": 2,
       "version_minor": 0
      },
      "text/plain": [
       "  0%|          | 0/1946 [00:00<?, ?it/s]"
      ]
     },
     "metadata": {},
     "output_type": "display_data"
    }
   ],
   "source": [
    "cur_model = all_models[0]\n",
    "processed = []\n",
    "\n",
    "for cur_model in tqdm(all_models):\n",
    "    curD = get_all_files(f\"{prefix}/{cur_model}\")\n",
    "    selD = curD[curD['YEAR'] == 2025]\n",
    "\n",
    "    cur_out_folder = f\"{out_folder}/{cur_model}\"\n",
    "    if not os.path.exists(cur_out_folder):\n",
    "        os.makedirs(cur_out_folder)\n",
    "\n",
    "    # Download the Key for each row in selD\n",
    "    for idx, row in tqdm(selD.iterrows(), total=selD.shape[0]):\n",
    "        out_fp = f\"{cur_out_folder}/{row['Key'].split('/')[-1]}\"\n",
    "        if not os.path.exists(out_fp):\n",
    "            s3client.download_file(bucket, row[\"Key\"], out_fp)    \n",
    "        # Upload to new bucket\n",
    "        uploadClient.upload_file(out_fp, upBucket, f\"{upPrefix}/{cur_model}/{row['Key'].split('/')[-1]}\")\n",
    "    os.rmdir(cur_out_folder)\n",
    "    processed.append(cur_model)\n"
   ]
  },
  {
   "cell_type": "code",
   "execution_count": 42,
   "metadata": {},
   "outputs": [
    {
     "data": {
      "application/vnd.jupyter.widget-view+json": {
       "model_id": "1a40a74a1cd3448a9a5f7eef0f0e1262",
       "version_major": 2,
       "version_minor": 0
      },
      "text/plain": [
       "  0%|          | 0/1946 [00:00<?, ?it/s]"
      ]
     },
     "metadata": {},
     "output_type": "display_data"
    }
   ],
   "source": [
    "\n",
    "\n"
   ]
  },
  {
   "cell_type": "code",
   "execution_count": 19,
   "metadata": {},
   "outputs": [
    {
     "data": {
      "text/plain": [
       "YEAR_MONTH\n",
       "202402    14032\n",
       "202403     3273\n",
       "202508     1946\n",
       "Name: count, dtype: int64"
      ]
     },
     "execution_count": 19,
     "metadata": {},
     "output_type": "execute_result"
    }
   ],
   "source": [
    "curD['YEAR_MONTH'].value_counts().sort_index()"
   ]
  },
  {
   "cell_type": "code",
   "execution_count": null,
   "metadata": {},
   "outputs": [],
   "source": [
    "inD"
   ]
  },
  {
   "cell_type": "code",
   "execution_count": null,
   "metadata": {},
   "outputs": [],
   "source": [
    "inD.sort_values(\"LastModified\", ascending=False)"
   ]
  },
  {
   "cell_type": "code",
   "execution_count": null,
   "metadata": {},
   "outputs": [],
   "source": []
  }
 ],
 "metadata": {
  "kernelspec": {
   "display_name": "gostrocks",
   "language": "python",
   "name": "python3"
  },
  "language_info": {
   "codemirror_mode": {
    "name": "ipython",
    "version": 3
   },
   "file_extension": ".py",
   "mimetype": "text/x-python",
   "name": "python",
   "nbconvert_exporter": "python",
   "pygments_lexer": "ipython3",
   "version": "3.10.16"
  }
 },
 "nbformat": 4,
 "nbformat_minor": 2
}
