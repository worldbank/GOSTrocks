{
 "cells": [
  {
   "cell_type": "code",
   "execution_count": 31,
   "metadata": {},
   "outputs": [],
   "source": [
    "import sys\n",
    "import os\n",
    "import rasterio\n",
    "import fiona\n",
    "\n",
    "import pandas as pd\n",
    "import geopandas as gpd\n",
    "\n",
    "sys.path.insert(0, \"../../src\")\n",
    "import GOSTrocks.rasterMisc as rMisc\n",
    "from GOSTrocks.misc import tPrint"
   ]
  },
  {
   "cell_type": "code",
   "execution_count": 37,
   "metadata": {},
   "outputs": [],
   "source": [
    "base_folder = r\"C:\\WBG\\Work\\Projects\\COL_forests\"\n",
    "input_folder = os.path.join(base_folder, \"INPUT\")\n",
    "forests_folder = os.path.join(input_folder, \"Forest Data\", \"Mapbiomas\")\n",
    "\n",
    "output_folder = os.path.join(base_folder, \"OUTPUT\")\n",
    "zonal_output_folder = os.path.join(output_folder, \"Zonal Statistics\")\n",
    "if not os.path.exists(zonal_output_folder):\n",
    "    os.makedirs(zonal_output_folder)\n",
    "\n",
    "# Identify shape datasets\n",
    "shape_files = {}\n",
    "for root, dirs, files in os.walk(input_folder):\n",
    "    for file in files:\n",
    "        if file.endswith(\".shp\") or file.endswith(\".kml\") or file.endswith(\".geojson\"):\n",
    "            shapefile = os.path.join(root, file)\n",
    "            shape_group = os.path.basename(root)\n",
    "            if shape_group not in shape_files:\n",
    "                shape_files[shape_group] = []\n",
    "            shape_files[shape_group].append(shapefile)"
   ]
  },
  {
   "cell_type": "code",
   "execution_count": 25,
   "metadata": {},
   "outputs": [
    {
     "name": "stdout",
     "output_type": "stream",
     "text": [
      "BioCarbon:\n",
      "Cercarbono:\n",
      "Colcx:\n",
      "Colombia Municipalities:\n",
      "Verra:\n"
     ]
    }
   ],
   "source": [
    "aoi_files = []\n",
    "\n",
    "for key, items in shape_files.items():\n",
    "    print(f\"{key}:\")\n",
    "    out_file = os.path.join(output_folder, f\"{key}.geojson\")\n",
    "    if not os.path.exists(out_file):\n",
    "        all_shapes = []\n",
    "        for item in items:\n",
    "            try:\n",
    "                for layer in fiona.listlayers(item):\n",
    "                    cur_shp = gpd.read_file(item, layer=layer)\n",
    "                    cur_shp[\"source\"] = key\n",
    "                    cur_shp[\"source_file\"] = os.path.basename(item)\n",
    "                    cur_shp[\"geometry\"] = cur_shp[\"geometry\"].buffer(0)\n",
    "                    all_shapes.append(cur_shp)\n",
    "            except:\n",
    "                print(f\"Error reading {key}: {item}\")\n",
    "                continue\n",
    "        all_shapes = pd.concat(all_shapes)\n",
    "        all_shapes = all_shapes.reset_index(drop=True)\n",
    "        all_shapes.to_file(out_file, driver=\"GeoJSON\", index=False)\n",
    "    aoi_files.append(out_file)"
   ]
  },
  {
   "cell_type": "code",
   "execution_count": 30,
   "metadata": {},
   "outputs": [],
   "source": [
    "# Define LC categories\n",
    "lc_defs = {\n",
    "    \"All_Forest\": {\n",
    "        1: \"All_forest\",\n",
    "        3: \"Forest\",\n",
    "        5: \"Mangrove\",\n",
    "        6: \"Flooded Forest\",\n",
    "        49: \"Wood sand vegetation\",\n",
    "    },\n",
    "    \"All_Natural non-forest\": {\n",
    "        10: \"All_Natural non-forest\",\n",
    "        11: \"Wetland\",\n",
    "        12: \"Grassland\",\n",
    "        32: \"Tidal flat\",\n",
    "        29: \"Rocky outcrop\",\n",
    "        50: \"Herbaceous sand vegetation\",\n",
    "        13: \"Other non-forest\",\n",
    "    },\n",
    "    \"All_Agriculture\": {\n",
    "        14: \"All_Agriculture\",\n",
    "        9: \"Forest plantation\",\n",
    "        35: \"Palm oil plantation\",\n",
    "        21: \"Mosiac agriculture\",\n",
    "    },\n",
    "    \"All_non_vegetated\": {\n",
    "        22: \"All_non_vegetated\",\n",
    "        23: \"Beach\",\n",
    "        24: \"Infrastructure\",\n",
    "        30: \"Mining\",\n",
    "        68: \"Other natural\",\n",
    "        25: \"Other non_vegetated\",\n",
    "    },\n",
    "    \"All_Water\": {\n",
    "        26: \"All_Water\",\n",
    "        33: \"River, lake, ocean\",\n",
    "        31: \"Aquaculture\",\n",
    "        34: \"Glacier\",\n",
    "        27: \"No Data\",\n",
    "    },\n",
    "}\n",
    "\n",
    "# Generate a list of unique land cover values\n",
    "lc_unq = []\n",
    "for lc_label, items in lc_defs.items():\n",
    "    for key, value in items.items():\n",
    "        lc_unq.append(key)"
   ]
  },
  {
   "cell_type": "code",
   "execution_count": 24,
   "metadata": {},
   "outputs": [
    {
     "data": {
      "text/plain": [
       "['C:\\\\WBG\\\\Work\\\\Projects\\\\COL_forests\\\\INPUT\\\\Forest Data\\\\Mapbiomas\\\\Tif\\\\mapbiomas_colombia_2000.tif',\n",
       " 'C:\\\\WBG\\\\Work\\\\Projects\\\\COL_forests\\\\INPUT\\\\Forest Data\\\\Mapbiomas\\\\Tif\\\\mapbiomas_colombia_2001.tif',\n",
       " 'C:\\\\WBG\\\\Work\\\\Projects\\\\COL_forests\\\\INPUT\\\\Forest Data\\\\Mapbiomas\\\\Tif\\\\mapbiomas_colombia_2002.tif',\n",
       " 'C:\\\\WBG\\\\Work\\\\Projects\\\\COL_forests\\\\INPUT\\\\Forest Data\\\\Mapbiomas\\\\Tif\\\\mapbiomas_colombia_2003.tif',\n",
       " 'C:\\\\WBG\\\\Work\\\\Projects\\\\COL_forests\\\\INPUT\\\\Forest Data\\\\Mapbiomas\\\\Tif\\\\mapbiomas_colombia_2004.tif',\n",
       " 'C:\\\\WBG\\\\Work\\\\Projects\\\\COL_forests\\\\INPUT\\\\Forest Data\\\\Mapbiomas\\\\Tif\\\\mapbiomas_colombia_2005.tif',\n",
       " 'C:\\\\WBG\\\\Work\\\\Projects\\\\COL_forests\\\\INPUT\\\\Forest Data\\\\Mapbiomas\\\\Tif\\\\mapbiomas_colombia_2006.tif',\n",
       " 'C:\\\\WBG\\\\Work\\\\Projects\\\\COL_forests\\\\INPUT\\\\Forest Data\\\\Mapbiomas\\\\Tif\\\\mapbiomas_colombia_2007.tif',\n",
       " 'C:\\\\WBG\\\\Work\\\\Projects\\\\COL_forests\\\\INPUT\\\\Forest Data\\\\Mapbiomas\\\\Tif\\\\mapbiomas_colombia_2008.tif',\n",
       " 'C:\\\\WBG\\\\Work\\\\Projects\\\\COL_forests\\\\INPUT\\\\Forest Data\\\\Mapbiomas\\\\Tif\\\\mapbiomas_colombia_2009.tif',\n",
       " 'C:\\\\WBG\\\\Work\\\\Projects\\\\COL_forests\\\\INPUT\\\\Forest Data\\\\Mapbiomas\\\\Tif\\\\mapbiomas_colombia_2010.tif',\n",
       " 'C:\\\\WBG\\\\Work\\\\Projects\\\\COL_forests\\\\INPUT\\\\Forest Data\\\\Mapbiomas\\\\Tif\\\\mapbiomas_colombia_2011.tif',\n",
       " 'C:\\\\WBG\\\\Work\\\\Projects\\\\COL_forests\\\\INPUT\\\\Forest Data\\\\Mapbiomas\\\\Tif\\\\mapbiomas_colombia_2012.tif',\n",
       " 'C:\\\\WBG\\\\Work\\\\Projects\\\\COL_forests\\\\INPUT\\\\Forest Data\\\\Mapbiomas\\\\Tif\\\\mapbiomas_colombia_2013.tif',\n",
       " 'C:\\\\WBG\\\\Work\\\\Projects\\\\COL_forests\\\\INPUT\\\\Forest Data\\\\Mapbiomas\\\\Tif\\\\mapbiomas_colombia_2014.tif',\n",
       " 'C:\\\\WBG\\\\Work\\\\Projects\\\\COL_forests\\\\INPUT\\\\Forest Data\\\\Mapbiomas\\\\Tif\\\\mapbiomas_colombia_2015.tif',\n",
       " 'C:\\\\WBG\\\\Work\\\\Projects\\\\COL_forests\\\\INPUT\\\\Forest Data\\\\Mapbiomas\\\\Tif\\\\mapbiomas_colombia_2016.tif',\n",
       " 'C:\\\\WBG\\\\Work\\\\Projects\\\\COL_forests\\\\INPUT\\\\Forest Data\\\\Mapbiomas\\\\Tif\\\\mapbiomas_colombia_2017.tif',\n",
       " 'C:\\\\WBG\\\\Work\\\\Projects\\\\COL_forests\\\\INPUT\\\\Forest Data\\\\Mapbiomas\\\\Tif\\\\mapbiomas_colombia_2018.tif',\n",
       " 'C:\\\\WBG\\\\Work\\\\Projects\\\\COL_forests\\\\INPUT\\\\Forest Data\\\\Mapbiomas\\\\Tif\\\\mapbiomas_colombia_2019.tif',\n",
       " 'C:\\\\WBG\\\\Work\\\\Projects\\\\COL_forests\\\\INPUT\\\\Forest Data\\\\Mapbiomas\\\\Tif\\\\mapbiomas_colombia_2020.tif',\n",
       " 'C:\\\\WBG\\\\Work\\\\Projects\\\\COL_forests\\\\INPUT\\\\Forest Data\\\\Mapbiomas\\\\Tif\\\\mapbiomas_colombia_2021.tif',\n",
       " 'C:\\\\WBG\\\\Work\\\\Projects\\\\COL_forests\\\\INPUT\\\\Forest Data\\\\Mapbiomas\\\\Tif\\\\mapbiomas_colombia_2022.tif',\n",
       " 'C:\\\\WBG\\\\Work\\\\Projects\\\\COL_forests\\\\INPUT\\\\Forest Data\\\\Mapbiomas\\\\Tif\\\\mapbiomas_colombia_2023.tif']"
      ]
     },
     "execution_count": 24,
     "metadata": {},
     "output_type": "execute_result"
    }
   ],
   "source": [
    "lc_tiffs = []\n",
    "for root, dirs, files in os.walk(forests_folder):\n",
    "    for file in files:\n",
    "        if file.endswith(\".tif\") or file.endswith(\".tiff\"):\n",
    "            lc_tiff = os.path.join(root, file)\n",
    "            lc_tiffs.append(lc_tiff)\n",
    "lc_tiffs"
   ]
  },
  {
   "cell_type": "code",
   "execution_count": 40,
   "metadata": {},
   "outputs": [
    {
     "name": "stdout",
     "output_type": "stream",
     "text": [
      "18:26:34\tProcessing BioCarbon.geojson with mapbiomas_colombia_2000.tif\n",
      "18:26:42\tProcessing Cercarbono.geojson with mapbiomas_colombia_2000.tif\n"
     ]
    },
    {
     "name": "stderr",
     "output_type": "stream",
     "text": [
      "c:\\wbg\\Anaconda3\\envs\\s2s_ingest\\lib\\site-packages\\pyogrio\\raw.py:198: RuntimeWarning: Non closed ring detected. To avoid accepting it, set the OGR_GEOMETRY_ACCEPT_UNCLOSED_RING configuration option to NO\n",
      "  return ogr_read(\n",
      "c:\\wbg\\Anaconda3\\envs\\s2s_ingest\\lib\\site-packages\\rasterio\\transform.py:410: RuntimeWarning: invalid value encountered in cast\n",
      "  new_rows = np.floor(new_rows).astype(dtype=\"int32\")\n",
      "c:\\wbg\\Anaconda3\\envs\\s2s_ingest\\lib\\site-packages\\rasterio\\transform.py:411: RuntimeWarning: invalid value encountered in cast\n",
      "  new_cols = np.floor(new_cols).astype(dtype=\"int32\")\n",
      "c:\\wbg\\Anaconda3\\envs\\s2s_ingest\\lib\\site-packages\\rasterio\\features.py:336: ShapeSkipWarning: Invalid or empty shape {'type': 'Polygon', 'coordinates': ()} at index 0 will not be rasterized.\n",
      "  warnings.warn(\n",
      "c:\\wbg\\Anaconda3\\envs\\s2s_ingest\\lib\\site-packages\\rasterio\\transform.py:410: RuntimeWarning: invalid value encountered in cast\n",
      "  new_rows = np.floor(new_rows).astype(dtype=\"int32\")\n",
      "c:\\wbg\\Anaconda3\\envs\\s2s_ingest\\lib\\site-packages\\rasterio\\transform.py:411: RuntimeWarning: invalid value encountered in cast\n",
      "  new_cols = np.floor(new_cols).astype(dtype=\"int32\")\n",
      "c:\\wbg\\Anaconda3\\envs\\s2s_ingest\\lib\\site-packages\\rasterio\\features.py:336: ShapeSkipWarning: Invalid or empty shape {'type': 'Polygon', 'coordinates': ()} at index 0 will not be rasterized.\n",
      "  warnings.warn(\n",
      "c:\\wbg\\Anaconda3\\envs\\s2s_ingest\\lib\\site-packages\\rasterio\\transform.py:410: RuntimeWarning: invalid value encountered in cast\n",
      "  new_rows = np.floor(new_rows).astype(dtype=\"int32\")\n",
      "c:\\wbg\\Anaconda3\\envs\\s2s_ingest\\lib\\site-packages\\rasterio\\transform.py:411: RuntimeWarning: invalid value encountered in cast\n",
      "  new_cols = np.floor(new_cols).astype(dtype=\"int32\")\n",
      "c:\\wbg\\Anaconda3\\envs\\s2s_ingest\\lib\\site-packages\\rasterio\\features.py:336: ShapeSkipWarning: Invalid or empty shape {'type': 'Polygon', 'coordinates': ()} at index 0 will not be rasterized.\n",
      "  warnings.warn(\n",
      "c:\\wbg\\Anaconda3\\envs\\s2s_ingest\\lib\\site-packages\\rasterio\\transform.py:410: RuntimeWarning: invalid value encountered in cast\n",
      "  new_rows = np.floor(new_rows).astype(dtype=\"int32\")\n",
      "c:\\wbg\\Anaconda3\\envs\\s2s_ingest\\lib\\site-packages\\rasterio\\transform.py:411: RuntimeWarning: invalid value encountered in cast\n",
      "  new_cols = np.floor(new_cols).astype(dtype=\"int32\")\n",
      "c:\\wbg\\Anaconda3\\envs\\s2s_ingest\\lib\\site-packages\\rasterio\\features.py:336: ShapeSkipWarning: Invalid or empty shape {'type': 'Polygon', 'coordinates': ()} at index 0 will not be rasterized.\n",
      "  warnings.warn(\n"
     ]
    },
    {
     "name": "stdout",
     "output_type": "stream",
     "text": [
      "18:26:49\tProcessing Colcx.geojson with mapbiomas_colombia_2000.tif\n"
     ]
    },
    {
     "name": "stderr",
     "output_type": "stream",
     "text": [
      "c:\\wbg\\Anaconda3\\envs\\s2s_ingest\\lib\\site-packages\\rasterio\\transform.py:410: RuntimeWarning: invalid value encountered in cast\n",
      "  new_rows = np.floor(new_rows).astype(dtype=\"int32\")\n",
      "c:\\wbg\\Anaconda3\\envs\\s2s_ingest\\lib\\site-packages\\rasterio\\transform.py:411: RuntimeWarning: invalid value encountered in cast\n",
      "  new_cols = np.floor(new_cols).astype(dtype=\"int32\")\n",
      "c:\\wbg\\Anaconda3\\envs\\s2s_ingest\\lib\\site-packages\\rasterio\\features.py:336: ShapeSkipWarning: Invalid or empty shape {'type': 'Polygon', 'coordinates': ()} at index 0 will not be rasterized.\n",
      "  warnings.warn(\n",
      "c:\\wbg\\Anaconda3\\envs\\s2s_ingest\\lib\\site-packages\\rasterio\\transform.py:410: RuntimeWarning: invalid value encountered in cast\n",
      "  new_rows = np.floor(new_rows).astype(dtype=\"int32\")\n",
      "c:\\wbg\\Anaconda3\\envs\\s2s_ingest\\lib\\site-packages\\rasterio\\transform.py:411: RuntimeWarning: invalid value encountered in cast\n",
      "  new_cols = np.floor(new_cols).astype(dtype=\"int32\")\n",
      "c:\\wbg\\Anaconda3\\envs\\s2s_ingest\\lib\\site-packages\\rasterio\\features.py:336: ShapeSkipWarning: Invalid or empty shape {'type': 'Polygon', 'coordinates': ()} at index 0 will not be rasterized.\n",
      "  warnings.warn(\n"
     ]
    },
    {
     "name": "stdout",
     "output_type": "stream",
     "text": [
      "18:26:51\tProcessing Colombia Municipalities.geojson with mapbiomas_colombia_2000.tif\n",
      "18:28:23\tProcessing Verra.geojson with mapbiomas_colombia_2000.tif\n",
      "18:29:16\tProcessing BioCarbon.geojson with mapbiomas_colombia_2001.tif\n",
      "18:29:24\tProcessing Cercarbono.geojson with mapbiomas_colombia_2001.tif\n"
     ]
    },
    {
     "name": "stderr",
     "output_type": "stream",
     "text": [
      "c:\\wbg\\Anaconda3\\envs\\s2s_ingest\\lib\\site-packages\\pyogrio\\raw.py:198: RuntimeWarning: Non closed ring detected. To avoid accepting it, set the OGR_GEOMETRY_ACCEPT_UNCLOSED_RING configuration option to NO\n",
      "  return ogr_read(\n",
      "c:\\wbg\\Anaconda3\\envs\\s2s_ingest\\lib\\site-packages\\rasterio\\transform.py:410: RuntimeWarning: invalid value encountered in cast\n",
      "  new_rows = np.floor(new_rows).astype(dtype=\"int32\")\n",
      "c:\\wbg\\Anaconda3\\envs\\s2s_ingest\\lib\\site-packages\\rasterio\\transform.py:411: RuntimeWarning: invalid value encountered in cast\n",
      "  new_cols = np.floor(new_cols).astype(dtype=\"int32\")\n",
      "c:\\wbg\\Anaconda3\\envs\\s2s_ingest\\lib\\site-packages\\rasterio\\features.py:336: ShapeSkipWarning: Invalid or empty shape {'type': 'Polygon', 'coordinates': ()} at index 0 will not be rasterized.\n",
      "  warnings.warn(\n",
      "c:\\wbg\\Anaconda3\\envs\\s2s_ingest\\lib\\site-packages\\rasterio\\transform.py:410: RuntimeWarning: invalid value encountered in cast\n",
      "  new_rows = np.floor(new_rows).astype(dtype=\"int32\")\n",
      "c:\\wbg\\Anaconda3\\envs\\s2s_ingest\\lib\\site-packages\\rasterio\\transform.py:411: RuntimeWarning: invalid value encountered in cast\n",
      "  new_cols = np.floor(new_cols).astype(dtype=\"int32\")\n",
      "c:\\wbg\\Anaconda3\\envs\\s2s_ingest\\lib\\site-packages\\rasterio\\features.py:336: ShapeSkipWarning: Invalid or empty shape {'type': 'Polygon', 'coordinates': ()} at index 0 will not be rasterized.\n",
      "  warnings.warn(\n",
      "c:\\wbg\\Anaconda3\\envs\\s2s_ingest\\lib\\site-packages\\rasterio\\transform.py:410: RuntimeWarning: invalid value encountered in cast\n",
      "  new_rows = np.floor(new_rows).astype(dtype=\"int32\")\n",
      "c:\\wbg\\Anaconda3\\envs\\s2s_ingest\\lib\\site-packages\\rasterio\\transform.py:411: RuntimeWarning: invalid value encountered in cast\n",
      "  new_cols = np.floor(new_cols).astype(dtype=\"int32\")\n",
      "c:\\wbg\\Anaconda3\\envs\\s2s_ingest\\lib\\site-packages\\rasterio\\features.py:336: ShapeSkipWarning: Invalid or empty shape {'type': 'Polygon', 'coordinates': ()} at index 0 will not be rasterized.\n",
      "  warnings.warn(\n",
      "c:\\wbg\\Anaconda3\\envs\\s2s_ingest\\lib\\site-packages\\rasterio\\transform.py:410: RuntimeWarning: invalid value encountered in cast\n",
      "  new_rows = np.floor(new_rows).astype(dtype=\"int32\")\n",
      "c:\\wbg\\Anaconda3\\envs\\s2s_ingest\\lib\\site-packages\\rasterio\\transform.py:411: RuntimeWarning: invalid value encountered in cast\n",
      "  new_cols = np.floor(new_cols).astype(dtype=\"int32\")\n",
      "c:\\wbg\\Anaconda3\\envs\\s2s_ingest\\lib\\site-packages\\rasterio\\features.py:336: ShapeSkipWarning: Invalid or empty shape {'type': 'Polygon', 'coordinates': ()} at index 0 will not be rasterized.\n",
      "  warnings.warn(\n"
     ]
    },
    {
     "name": "stdout",
     "output_type": "stream",
     "text": [
      "18:29:30\tProcessing Colcx.geojson with mapbiomas_colombia_2001.tif\n"
     ]
    },
    {
     "name": "stderr",
     "output_type": "stream",
     "text": [
      "c:\\wbg\\Anaconda3\\envs\\s2s_ingest\\lib\\site-packages\\rasterio\\transform.py:410: RuntimeWarning: invalid value encountered in cast\n",
      "  new_rows = np.floor(new_rows).astype(dtype=\"int32\")\n",
      "c:\\wbg\\Anaconda3\\envs\\s2s_ingest\\lib\\site-packages\\rasterio\\transform.py:411: RuntimeWarning: invalid value encountered in cast\n",
      "  new_cols = np.floor(new_cols).astype(dtype=\"int32\")\n",
      "c:\\wbg\\Anaconda3\\envs\\s2s_ingest\\lib\\site-packages\\rasterio\\features.py:336: ShapeSkipWarning: Invalid or empty shape {'type': 'Polygon', 'coordinates': ()} at index 0 will not be rasterized.\n",
      "  warnings.warn(\n",
      "c:\\wbg\\Anaconda3\\envs\\s2s_ingest\\lib\\site-packages\\rasterio\\transform.py:410: RuntimeWarning: invalid value encountered in cast\n",
      "  new_rows = np.floor(new_rows).astype(dtype=\"int32\")\n",
      "c:\\wbg\\Anaconda3\\envs\\s2s_ingest\\lib\\site-packages\\rasterio\\transform.py:411: RuntimeWarning: invalid value encountered in cast\n",
      "  new_cols = np.floor(new_cols).astype(dtype=\"int32\")\n",
      "c:\\wbg\\Anaconda3\\envs\\s2s_ingest\\lib\\site-packages\\rasterio\\features.py:336: ShapeSkipWarning: Invalid or empty shape {'type': 'Polygon', 'coordinates': ()} at index 0 will not be rasterized.\n",
      "  warnings.warn(\n"
     ]
    },
    {
     "name": "stdout",
     "output_type": "stream",
     "text": [
      "18:29:32\tProcessing Colombia Municipalities.geojson with mapbiomas_colombia_2001.tif\n",
      "18:31:11\tProcessing Verra.geojson with mapbiomas_colombia_2001.tif\n",
      "18:32:34\tProcessing BioCarbon.geojson with mapbiomas_colombia_2002.tif\n",
      "18:32:41\tProcessing Cercarbono.geojson with mapbiomas_colombia_2002.tif\n"
     ]
    },
    {
     "name": "stderr",
     "output_type": "stream",
     "text": [
      "c:\\wbg\\Anaconda3\\envs\\s2s_ingest\\lib\\site-packages\\pyogrio\\raw.py:198: RuntimeWarning: Non closed ring detected. To avoid accepting it, set the OGR_GEOMETRY_ACCEPT_UNCLOSED_RING configuration option to NO\n",
      "  return ogr_read(\n",
      "c:\\wbg\\Anaconda3\\envs\\s2s_ingest\\lib\\site-packages\\rasterio\\transform.py:410: RuntimeWarning: invalid value encountered in cast\n",
      "  new_rows = np.floor(new_rows).astype(dtype=\"int32\")\n",
      "c:\\wbg\\Anaconda3\\envs\\s2s_ingest\\lib\\site-packages\\rasterio\\transform.py:411: RuntimeWarning: invalid value encountered in cast\n",
      "  new_cols = np.floor(new_cols).astype(dtype=\"int32\")\n",
      "c:\\wbg\\Anaconda3\\envs\\s2s_ingest\\lib\\site-packages\\rasterio\\features.py:336: ShapeSkipWarning: Invalid or empty shape {'type': 'Polygon', 'coordinates': ()} at index 0 will not be rasterized.\n",
      "  warnings.warn(\n",
      "c:\\wbg\\Anaconda3\\envs\\s2s_ingest\\lib\\site-packages\\rasterio\\transform.py:410: RuntimeWarning: invalid value encountered in cast\n",
      "  new_rows = np.floor(new_rows).astype(dtype=\"int32\")\n",
      "c:\\wbg\\Anaconda3\\envs\\s2s_ingest\\lib\\site-packages\\rasterio\\transform.py:411: RuntimeWarning: invalid value encountered in cast\n",
      "  new_cols = np.floor(new_cols).astype(dtype=\"int32\")\n",
      "c:\\wbg\\Anaconda3\\envs\\s2s_ingest\\lib\\site-packages\\rasterio\\features.py:336: ShapeSkipWarning: Invalid or empty shape {'type': 'Polygon', 'coordinates': ()} at index 0 will not be rasterized.\n",
      "  warnings.warn(\n",
      "c:\\wbg\\Anaconda3\\envs\\s2s_ingest\\lib\\site-packages\\rasterio\\transform.py:410: RuntimeWarning: invalid value encountered in cast\n",
      "  new_rows = np.floor(new_rows).astype(dtype=\"int32\")\n",
      "c:\\wbg\\Anaconda3\\envs\\s2s_ingest\\lib\\site-packages\\rasterio\\transform.py:411: RuntimeWarning: invalid value encountered in cast\n",
      "  new_cols = np.floor(new_cols).astype(dtype=\"int32\")\n",
      "c:\\wbg\\Anaconda3\\envs\\s2s_ingest\\lib\\site-packages\\rasterio\\features.py:336: ShapeSkipWarning: Invalid or empty shape {'type': 'Polygon', 'coordinates': ()} at index 0 will not be rasterized.\n",
      "  warnings.warn(\n",
      "c:\\wbg\\Anaconda3\\envs\\s2s_ingest\\lib\\site-packages\\rasterio\\transform.py:410: RuntimeWarning: invalid value encountered in cast\n",
      "  new_rows = np.floor(new_rows).astype(dtype=\"int32\")\n",
      "c:\\wbg\\Anaconda3\\envs\\s2s_ingest\\lib\\site-packages\\rasterio\\transform.py:411: RuntimeWarning: invalid value encountered in cast\n",
      "  new_cols = np.floor(new_cols).astype(dtype=\"int32\")\n",
      "c:\\wbg\\Anaconda3\\envs\\s2s_ingest\\lib\\site-packages\\rasterio\\features.py:336: ShapeSkipWarning: Invalid or empty shape {'type': 'Polygon', 'coordinates': ()} at index 0 will not be rasterized.\n",
      "  warnings.warn(\n"
     ]
    },
    {
     "name": "stdout",
     "output_type": "stream",
     "text": [
      "18:32:47\tProcessing Colcx.geojson with mapbiomas_colombia_2002.tif\n"
     ]
    },
    {
     "name": "stderr",
     "output_type": "stream",
     "text": [
      "c:\\wbg\\Anaconda3\\envs\\s2s_ingest\\lib\\site-packages\\rasterio\\transform.py:410: RuntimeWarning: invalid value encountered in cast\n",
      "  new_rows = np.floor(new_rows).astype(dtype=\"int32\")\n",
      "c:\\wbg\\Anaconda3\\envs\\s2s_ingest\\lib\\site-packages\\rasterio\\transform.py:411: RuntimeWarning: invalid value encountered in cast\n",
      "  new_cols = np.floor(new_cols).astype(dtype=\"int32\")\n",
      "c:\\wbg\\Anaconda3\\envs\\s2s_ingest\\lib\\site-packages\\rasterio\\features.py:336: ShapeSkipWarning: Invalid or empty shape {'type': 'Polygon', 'coordinates': ()} at index 0 will not be rasterized.\n",
      "  warnings.warn(\n",
      "c:\\wbg\\Anaconda3\\envs\\s2s_ingest\\lib\\site-packages\\rasterio\\transform.py:410: RuntimeWarning: invalid value encountered in cast\n",
      "  new_rows = np.floor(new_rows).astype(dtype=\"int32\")\n",
      "c:\\wbg\\Anaconda3\\envs\\s2s_ingest\\lib\\site-packages\\rasterio\\transform.py:411: RuntimeWarning: invalid value encountered in cast\n",
      "  new_cols = np.floor(new_cols).astype(dtype=\"int32\")\n",
      "c:\\wbg\\Anaconda3\\envs\\s2s_ingest\\lib\\site-packages\\rasterio\\features.py:336: ShapeSkipWarning: Invalid or empty shape {'type': 'Polygon', 'coordinates': ()} at index 0 will not be rasterized.\n",
      "  warnings.warn(\n"
     ]
    },
    {
     "name": "stdout",
     "output_type": "stream",
     "text": [
      "18:32:48\tProcessing Colombia Municipalities.geojson with mapbiomas_colombia_2002.tif\n",
      "18:34:25\tProcessing Verra.geojson with mapbiomas_colombia_2002.tif\n",
      "18:35:40\tProcessing BioCarbon.geojson with mapbiomas_colombia_2003.tif\n",
      "18:35:47\tProcessing Cercarbono.geojson with mapbiomas_colombia_2003.tif\n"
     ]
    },
    {
     "name": "stderr",
     "output_type": "stream",
     "text": [
      "c:\\wbg\\Anaconda3\\envs\\s2s_ingest\\lib\\site-packages\\pyogrio\\raw.py:198: RuntimeWarning: Non closed ring detected. To avoid accepting it, set the OGR_GEOMETRY_ACCEPT_UNCLOSED_RING configuration option to NO\n",
      "  return ogr_read(\n",
      "c:\\wbg\\Anaconda3\\envs\\s2s_ingest\\lib\\site-packages\\rasterio\\transform.py:410: RuntimeWarning: invalid value encountered in cast\n",
      "  new_rows = np.floor(new_rows).astype(dtype=\"int32\")\n",
      "c:\\wbg\\Anaconda3\\envs\\s2s_ingest\\lib\\site-packages\\rasterio\\transform.py:411: RuntimeWarning: invalid value encountered in cast\n",
      "  new_cols = np.floor(new_cols).astype(dtype=\"int32\")\n",
      "c:\\wbg\\Anaconda3\\envs\\s2s_ingest\\lib\\site-packages\\rasterio\\features.py:336: ShapeSkipWarning: Invalid or empty shape {'type': 'Polygon', 'coordinates': ()} at index 0 will not be rasterized.\n",
      "  warnings.warn(\n",
      "c:\\wbg\\Anaconda3\\envs\\s2s_ingest\\lib\\site-packages\\rasterio\\transform.py:410: RuntimeWarning: invalid value encountered in cast\n",
      "  new_rows = np.floor(new_rows).astype(dtype=\"int32\")\n",
      "c:\\wbg\\Anaconda3\\envs\\s2s_ingest\\lib\\site-packages\\rasterio\\transform.py:411: RuntimeWarning: invalid value encountered in cast\n",
      "  new_cols = np.floor(new_cols).astype(dtype=\"int32\")\n",
      "c:\\wbg\\Anaconda3\\envs\\s2s_ingest\\lib\\site-packages\\rasterio\\features.py:336: ShapeSkipWarning: Invalid or empty shape {'type': 'Polygon', 'coordinates': ()} at index 0 will not be rasterized.\n",
      "  warnings.warn(\n",
      "c:\\wbg\\Anaconda3\\envs\\s2s_ingest\\lib\\site-packages\\rasterio\\transform.py:410: RuntimeWarning: invalid value encountered in cast\n",
      "  new_rows = np.floor(new_rows).astype(dtype=\"int32\")\n",
      "c:\\wbg\\Anaconda3\\envs\\s2s_ingest\\lib\\site-packages\\rasterio\\transform.py:411: RuntimeWarning: invalid value encountered in cast\n",
      "  new_cols = np.floor(new_cols).astype(dtype=\"int32\")\n",
      "c:\\wbg\\Anaconda3\\envs\\s2s_ingest\\lib\\site-packages\\rasterio\\features.py:336: ShapeSkipWarning: Invalid or empty shape {'type': 'Polygon', 'coordinates': ()} at index 0 will not be rasterized.\n",
      "  warnings.warn(\n",
      "c:\\wbg\\Anaconda3\\envs\\s2s_ingest\\lib\\site-packages\\rasterio\\transform.py:410: RuntimeWarning: invalid value encountered in cast\n",
      "  new_rows = np.floor(new_rows).astype(dtype=\"int32\")\n",
      "c:\\wbg\\Anaconda3\\envs\\s2s_ingest\\lib\\site-packages\\rasterio\\transform.py:411: RuntimeWarning: invalid value encountered in cast\n",
      "  new_cols = np.floor(new_cols).astype(dtype=\"int32\")\n",
      "c:\\wbg\\Anaconda3\\envs\\s2s_ingest\\lib\\site-packages\\rasterio\\features.py:336: ShapeSkipWarning: Invalid or empty shape {'type': 'Polygon', 'coordinates': ()} at index 0 will not be rasterized.\n",
      "  warnings.warn(\n"
     ]
    },
    {
     "name": "stdout",
     "output_type": "stream",
     "text": [
      "18:35:53\tProcessing Colcx.geojson with mapbiomas_colombia_2003.tif\n"
     ]
    },
    {
     "name": "stderr",
     "output_type": "stream",
     "text": [
      "c:\\wbg\\Anaconda3\\envs\\s2s_ingest\\lib\\site-packages\\rasterio\\transform.py:410: RuntimeWarning: invalid value encountered in cast\n",
      "  new_rows = np.floor(new_rows).astype(dtype=\"int32\")\n",
      "c:\\wbg\\Anaconda3\\envs\\s2s_ingest\\lib\\site-packages\\rasterio\\transform.py:411: RuntimeWarning: invalid value encountered in cast\n",
      "  new_cols = np.floor(new_cols).astype(dtype=\"int32\")\n",
      "c:\\wbg\\Anaconda3\\envs\\s2s_ingest\\lib\\site-packages\\rasterio\\features.py:336: ShapeSkipWarning: Invalid or empty shape {'type': 'Polygon', 'coordinates': ()} at index 0 will not be rasterized.\n",
      "  warnings.warn(\n",
      "c:\\wbg\\Anaconda3\\envs\\s2s_ingest\\lib\\site-packages\\rasterio\\transform.py:410: RuntimeWarning: invalid value encountered in cast\n",
      "  new_rows = np.floor(new_rows).astype(dtype=\"int32\")\n",
      "c:\\wbg\\Anaconda3\\envs\\s2s_ingest\\lib\\site-packages\\rasterio\\transform.py:411: RuntimeWarning: invalid value encountered in cast\n",
      "  new_cols = np.floor(new_cols).astype(dtype=\"int32\")\n",
      "c:\\wbg\\Anaconda3\\envs\\s2s_ingest\\lib\\site-packages\\rasterio\\features.py:336: ShapeSkipWarning: Invalid or empty shape {'type': 'Polygon', 'coordinates': ()} at index 0 will not be rasterized.\n",
      "  warnings.warn(\n"
     ]
    },
    {
     "name": "stdout",
     "output_type": "stream",
     "text": [
      "18:35:55\tProcessing Colombia Municipalities.geojson with mapbiomas_colombia_2003.tif\n",
      "18:37:32\tProcessing Verra.geojson with mapbiomas_colombia_2003.tif\n",
      "18:38:48\tProcessing BioCarbon.geojson with mapbiomas_colombia_2004.tif\n",
      "18:38:55\tProcessing Cercarbono.geojson with mapbiomas_colombia_2004.tif\n"
     ]
    },
    {
     "name": "stderr",
     "output_type": "stream",
     "text": [
      "c:\\wbg\\Anaconda3\\envs\\s2s_ingest\\lib\\site-packages\\pyogrio\\raw.py:198: RuntimeWarning: Non closed ring detected. To avoid accepting it, set the OGR_GEOMETRY_ACCEPT_UNCLOSED_RING configuration option to NO\n",
      "  return ogr_read(\n",
      "c:\\wbg\\Anaconda3\\envs\\s2s_ingest\\lib\\site-packages\\rasterio\\transform.py:410: RuntimeWarning: invalid value encountered in cast\n",
      "  new_rows = np.floor(new_rows).astype(dtype=\"int32\")\n",
      "c:\\wbg\\Anaconda3\\envs\\s2s_ingest\\lib\\site-packages\\rasterio\\transform.py:411: RuntimeWarning: invalid value encountered in cast\n",
      "  new_cols = np.floor(new_cols).astype(dtype=\"int32\")\n",
      "c:\\wbg\\Anaconda3\\envs\\s2s_ingest\\lib\\site-packages\\rasterio\\features.py:336: ShapeSkipWarning: Invalid or empty shape {'type': 'Polygon', 'coordinates': ()} at index 0 will not be rasterized.\n",
      "  warnings.warn(\n",
      "c:\\wbg\\Anaconda3\\envs\\s2s_ingest\\lib\\site-packages\\rasterio\\transform.py:410: RuntimeWarning: invalid value encountered in cast\n",
      "  new_rows = np.floor(new_rows).astype(dtype=\"int32\")\n",
      "c:\\wbg\\Anaconda3\\envs\\s2s_ingest\\lib\\site-packages\\rasterio\\transform.py:411: RuntimeWarning: invalid value encountered in cast\n",
      "  new_cols = np.floor(new_cols).astype(dtype=\"int32\")\n",
      "c:\\wbg\\Anaconda3\\envs\\s2s_ingest\\lib\\site-packages\\rasterio\\features.py:336: ShapeSkipWarning: Invalid or empty shape {'type': 'Polygon', 'coordinates': ()} at index 0 will not be rasterized.\n",
      "  warnings.warn(\n",
      "c:\\wbg\\Anaconda3\\envs\\s2s_ingest\\lib\\site-packages\\rasterio\\transform.py:410: RuntimeWarning: invalid value encountered in cast\n",
      "  new_rows = np.floor(new_rows).astype(dtype=\"int32\")\n",
      "c:\\wbg\\Anaconda3\\envs\\s2s_ingest\\lib\\site-packages\\rasterio\\transform.py:411: RuntimeWarning: invalid value encountered in cast\n",
      "  new_cols = np.floor(new_cols).astype(dtype=\"int32\")\n",
      "c:\\wbg\\Anaconda3\\envs\\s2s_ingest\\lib\\site-packages\\rasterio\\features.py:336: ShapeSkipWarning: Invalid or empty shape {'type': 'Polygon', 'coordinates': ()} at index 0 will not be rasterized.\n",
      "  warnings.warn(\n",
      "c:\\wbg\\Anaconda3\\envs\\s2s_ingest\\lib\\site-packages\\rasterio\\transform.py:410: RuntimeWarning: invalid value encountered in cast\n",
      "  new_rows = np.floor(new_rows).astype(dtype=\"int32\")\n",
      "c:\\wbg\\Anaconda3\\envs\\s2s_ingest\\lib\\site-packages\\rasterio\\transform.py:411: RuntimeWarning: invalid value encountered in cast\n",
      "  new_cols = np.floor(new_cols).astype(dtype=\"int32\")\n",
      "c:\\wbg\\Anaconda3\\envs\\s2s_ingest\\lib\\site-packages\\rasterio\\features.py:336: ShapeSkipWarning: Invalid or empty shape {'type': 'Polygon', 'coordinates': ()} at index 0 will not be rasterized.\n",
      "  warnings.warn(\n"
     ]
    },
    {
     "name": "stdout",
     "output_type": "stream",
     "text": [
      "18:39:01\tProcessing Colcx.geojson with mapbiomas_colombia_2004.tif\n"
     ]
    },
    {
     "name": "stderr",
     "output_type": "stream",
     "text": [
      "c:\\wbg\\Anaconda3\\envs\\s2s_ingest\\lib\\site-packages\\rasterio\\transform.py:410: RuntimeWarning: invalid value encountered in cast\n",
      "  new_rows = np.floor(new_rows).astype(dtype=\"int32\")\n",
      "c:\\wbg\\Anaconda3\\envs\\s2s_ingest\\lib\\site-packages\\rasterio\\transform.py:411: RuntimeWarning: invalid value encountered in cast\n",
      "  new_cols = np.floor(new_cols).astype(dtype=\"int32\")\n",
      "c:\\wbg\\Anaconda3\\envs\\s2s_ingest\\lib\\site-packages\\rasterio\\features.py:336: ShapeSkipWarning: Invalid or empty shape {'type': 'Polygon', 'coordinates': ()} at index 0 will not be rasterized.\n",
      "  warnings.warn(\n",
      "c:\\wbg\\Anaconda3\\envs\\s2s_ingest\\lib\\site-packages\\rasterio\\transform.py:410: RuntimeWarning: invalid value encountered in cast\n",
      "  new_rows = np.floor(new_rows).astype(dtype=\"int32\")\n",
      "c:\\wbg\\Anaconda3\\envs\\s2s_ingest\\lib\\site-packages\\rasterio\\transform.py:411: RuntimeWarning: invalid value encountered in cast\n",
      "  new_cols = np.floor(new_cols).astype(dtype=\"int32\")\n",
      "c:\\wbg\\Anaconda3\\envs\\s2s_ingest\\lib\\site-packages\\rasterio\\features.py:336: ShapeSkipWarning: Invalid or empty shape {'type': 'Polygon', 'coordinates': ()} at index 0 will not be rasterized.\n",
      "  warnings.warn(\n"
     ]
    },
    {
     "name": "stdout",
     "output_type": "stream",
     "text": [
      "18:39:03\tProcessing Colombia Municipalities.geojson with mapbiomas_colombia_2004.tif\n",
      "18:40:41\tProcessing Verra.geojson with mapbiomas_colombia_2004.tif\n",
      "18:42:00\tProcessing BioCarbon.geojson with mapbiomas_colombia_2005.tif\n",
      "18:42:07\tProcessing Cercarbono.geojson with mapbiomas_colombia_2005.tif\n"
     ]
    },
    {
     "name": "stderr",
     "output_type": "stream",
     "text": [
      "c:\\wbg\\Anaconda3\\envs\\s2s_ingest\\lib\\site-packages\\pyogrio\\raw.py:198: RuntimeWarning: Non closed ring detected. To avoid accepting it, set the OGR_GEOMETRY_ACCEPT_UNCLOSED_RING configuration option to NO\n",
      "  return ogr_read(\n",
      "c:\\wbg\\Anaconda3\\envs\\s2s_ingest\\lib\\site-packages\\rasterio\\transform.py:410: RuntimeWarning: invalid value encountered in cast\n",
      "  new_rows = np.floor(new_rows).astype(dtype=\"int32\")\n",
      "c:\\wbg\\Anaconda3\\envs\\s2s_ingest\\lib\\site-packages\\rasterio\\transform.py:411: RuntimeWarning: invalid value encountered in cast\n",
      "  new_cols = np.floor(new_cols).astype(dtype=\"int32\")\n",
      "c:\\wbg\\Anaconda3\\envs\\s2s_ingest\\lib\\site-packages\\rasterio\\features.py:336: ShapeSkipWarning: Invalid or empty shape {'type': 'Polygon', 'coordinates': ()} at index 0 will not be rasterized.\n",
      "  warnings.warn(\n",
      "c:\\wbg\\Anaconda3\\envs\\s2s_ingest\\lib\\site-packages\\rasterio\\transform.py:410: RuntimeWarning: invalid value encountered in cast\n",
      "  new_rows = np.floor(new_rows).astype(dtype=\"int32\")\n",
      "c:\\wbg\\Anaconda3\\envs\\s2s_ingest\\lib\\site-packages\\rasterio\\transform.py:411: RuntimeWarning: invalid value encountered in cast\n",
      "  new_cols = np.floor(new_cols).astype(dtype=\"int32\")\n",
      "c:\\wbg\\Anaconda3\\envs\\s2s_ingest\\lib\\site-packages\\rasterio\\features.py:336: ShapeSkipWarning: Invalid or empty shape {'type': 'Polygon', 'coordinates': ()} at index 0 will not be rasterized.\n",
      "  warnings.warn(\n",
      "c:\\wbg\\Anaconda3\\envs\\s2s_ingest\\lib\\site-packages\\rasterio\\transform.py:410: RuntimeWarning: invalid value encountered in cast\n",
      "  new_rows = np.floor(new_rows).astype(dtype=\"int32\")\n",
      "c:\\wbg\\Anaconda3\\envs\\s2s_ingest\\lib\\site-packages\\rasterio\\transform.py:411: RuntimeWarning: invalid value encountered in cast\n",
      "  new_cols = np.floor(new_cols).astype(dtype=\"int32\")\n",
      "c:\\wbg\\Anaconda3\\envs\\s2s_ingest\\lib\\site-packages\\rasterio\\features.py:336: ShapeSkipWarning: Invalid or empty shape {'type': 'Polygon', 'coordinates': ()} at index 0 will not be rasterized.\n",
      "  warnings.warn(\n",
      "c:\\wbg\\Anaconda3\\envs\\s2s_ingest\\lib\\site-packages\\rasterio\\transform.py:410: RuntimeWarning: invalid value encountered in cast\n",
      "  new_rows = np.floor(new_rows).astype(dtype=\"int32\")\n",
      "c:\\wbg\\Anaconda3\\envs\\s2s_ingest\\lib\\site-packages\\rasterio\\transform.py:411: RuntimeWarning: invalid value encountered in cast\n",
      "  new_cols = np.floor(new_cols).astype(dtype=\"int32\")\n",
      "c:\\wbg\\Anaconda3\\envs\\s2s_ingest\\lib\\site-packages\\rasterio\\features.py:336: ShapeSkipWarning: Invalid or empty shape {'type': 'Polygon', 'coordinates': ()} at index 0 will not be rasterized.\n",
      "  warnings.warn(\n"
     ]
    },
    {
     "name": "stdout",
     "output_type": "stream",
     "text": [
      "18:42:13\tProcessing Colcx.geojson with mapbiomas_colombia_2005.tif\n"
     ]
    },
    {
     "name": "stderr",
     "output_type": "stream",
     "text": [
      "c:\\wbg\\Anaconda3\\envs\\s2s_ingest\\lib\\site-packages\\rasterio\\transform.py:410: RuntimeWarning: invalid value encountered in cast\n",
      "  new_rows = np.floor(new_rows).astype(dtype=\"int32\")\n",
      "c:\\wbg\\Anaconda3\\envs\\s2s_ingest\\lib\\site-packages\\rasterio\\transform.py:411: RuntimeWarning: invalid value encountered in cast\n",
      "  new_cols = np.floor(new_cols).astype(dtype=\"int32\")\n",
      "c:\\wbg\\Anaconda3\\envs\\s2s_ingest\\lib\\site-packages\\rasterio\\features.py:336: ShapeSkipWarning: Invalid or empty shape {'type': 'Polygon', 'coordinates': ()} at index 0 will not be rasterized.\n",
      "  warnings.warn(\n",
      "c:\\wbg\\Anaconda3\\envs\\s2s_ingest\\lib\\site-packages\\rasterio\\transform.py:410: RuntimeWarning: invalid value encountered in cast\n",
      "  new_rows = np.floor(new_rows).astype(dtype=\"int32\")\n",
      "c:\\wbg\\Anaconda3\\envs\\s2s_ingest\\lib\\site-packages\\rasterio\\transform.py:411: RuntimeWarning: invalid value encountered in cast\n",
      "  new_cols = np.floor(new_cols).astype(dtype=\"int32\")\n",
      "c:\\wbg\\Anaconda3\\envs\\s2s_ingest\\lib\\site-packages\\rasterio\\features.py:336: ShapeSkipWarning: Invalid or empty shape {'type': 'Polygon', 'coordinates': ()} at index 0 will not be rasterized.\n",
      "  warnings.warn(\n"
     ]
    },
    {
     "name": "stdout",
     "output_type": "stream",
     "text": [
      "18:42:14\tProcessing Colombia Municipalities.geojson with mapbiomas_colombia_2005.tif\n",
      "18:43:48\tProcessing Verra.geojson with mapbiomas_colombia_2005.tif\n",
      "18:45:04\tProcessing BioCarbon.geojson with mapbiomas_colombia_2006.tif\n",
      "18:45:11\tProcessing Cercarbono.geojson with mapbiomas_colombia_2006.tif\n"
     ]
    },
    {
     "name": "stderr",
     "output_type": "stream",
     "text": [
      "c:\\wbg\\Anaconda3\\envs\\s2s_ingest\\lib\\site-packages\\pyogrio\\raw.py:198: RuntimeWarning: Non closed ring detected. To avoid accepting it, set the OGR_GEOMETRY_ACCEPT_UNCLOSED_RING configuration option to NO\n",
      "  return ogr_read(\n",
      "c:\\wbg\\Anaconda3\\envs\\s2s_ingest\\lib\\site-packages\\rasterio\\transform.py:410: RuntimeWarning: invalid value encountered in cast\n",
      "  new_rows = np.floor(new_rows).astype(dtype=\"int32\")\n",
      "c:\\wbg\\Anaconda3\\envs\\s2s_ingest\\lib\\site-packages\\rasterio\\transform.py:411: RuntimeWarning: invalid value encountered in cast\n",
      "  new_cols = np.floor(new_cols).astype(dtype=\"int32\")\n",
      "c:\\wbg\\Anaconda3\\envs\\s2s_ingest\\lib\\site-packages\\rasterio\\features.py:336: ShapeSkipWarning: Invalid or empty shape {'type': 'Polygon', 'coordinates': ()} at index 0 will not be rasterized.\n",
      "  warnings.warn(\n",
      "c:\\wbg\\Anaconda3\\envs\\s2s_ingest\\lib\\site-packages\\rasterio\\transform.py:410: RuntimeWarning: invalid value encountered in cast\n",
      "  new_rows = np.floor(new_rows).astype(dtype=\"int32\")\n",
      "c:\\wbg\\Anaconda3\\envs\\s2s_ingest\\lib\\site-packages\\rasterio\\transform.py:411: RuntimeWarning: invalid value encountered in cast\n",
      "  new_cols = np.floor(new_cols).astype(dtype=\"int32\")\n",
      "c:\\wbg\\Anaconda3\\envs\\s2s_ingest\\lib\\site-packages\\rasterio\\features.py:336: ShapeSkipWarning: Invalid or empty shape {'type': 'Polygon', 'coordinates': ()} at index 0 will not be rasterized.\n",
      "  warnings.warn(\n",
      "c:\\wbg\\Anaconda3\\envs\\s2s_ingest\\lib\\site-packages\\rasterio\\transform.py:410: RuntimeWarning: invalid value encountered in cast\n",
      "  new_rows = np.floor(new_rows).astype(dtype=\"int32\")\n",
      "c:\\wbg\\Anaconda3\\envs\\s2s_ingest\\lib\\site-packages\\rasterio\\transform.py:411: RuntimeWarning: invalid value encountered in cast\n",
      "  new_cols = np.floor(new_cols).astype(dtype=\"int32\")\n",
      "c:\\wbg\\Anaconda3\\envs\\s2s_ingest\\lib\\site-packages\\rasterio\\features.py:336: ShapeSkipWarning: Invalid or empty shape {'type': 'Polygon', 'coordinates': ()} at index 0 will not be rasterized.\n",
      "  warnings.warn(\n",
      "c:\\wbg\\Anaconda3\\envs\\s2s_ingest\\lib\\site-packages\\rasterio\\transform.py:410: RuntimeWarning: invalid value encountered in cast\n",
      "  new_rows = np.floor(new_rows).astype(dtype=\"int32\")\n",
      "c:\\wbg\\Anaconda3\\envs\\s2s_ingest\\lib\\site-packages\\rasterio\\transform.py:411: RuntimeWarning: invalid value encountered in cast\n",
      "  new_cols = np.floor(new_cols).astype(dtype=\"int32\")\n",
      "c:\\wbg\\Anaconda3\\envs\\s2s_ingest\\lib\\site-packages\\rasterio\\features.py:336: ShapeSkipWarning: Invalid or empty shape {'type': 'Polygon', 'coordinates': ()} at index 0 will not be rasterized.\n",
      "  warnings.warn(\n"
     ]
    },
    {
     "name": "stdout",
     "output_type": "stream",
     "text": [
      "18:45:18\tProcessing Colcx.geojson with mapbiomas_colombia_2006.tif\n"
     ]
    },
    {
     "name": "stderr",
     "output_type": "stream",
     "text": [
      "c:\\wbg\\Anaconda3\\envs\\s2s_ingest\\lib\\site-packages\\rasterio\\transform.py:410: RuntimeWarning: invalid value encountered in cast\n",
      "  new_rows = np.floor(new_rows).astype(dtype=\"int32\")\n",
      "c:\\wbg\\Anaconda3\\envs\\s2s_ingest\\lib\\site-packages\\rasterio\\transform.py:411: RuntimeWarning: invalid value encountered in cast\n",
      "  new_cols = np.floor(new_cols).astype(dtype=\"int32\")\n",
      "c:\\wbg\\Anaconda3\\envs\\s2s_ingest\\lib\\site-packages\\rasterio\\features.py:336: ShapeSkipWarning: Invalid or empty shape {'type': 'Polygon', 'coordinates': ()} at index 0 will not be rasterized.\n",
      "  warnings.warn(\n",
      "c:\\wbg\\Anaconda3\\envs\\s2s_ingest\\lib\\site-packages\\rasterio\\transform.py:410: RuntimeWarning: invalid value encountered in cast\n",
      "  new_rows = np.floor(new_rows).astype(dtype=\"int32\")\n",
      "c:\\wbg\\Anaconda3\\envs\\s2s_ingest\\lib\\site-packages\\rasterio\\transform.py:411: RuntimeWarning: invalid value encountered in cast\n",
      "  new_cols = np.floor(new_cols).astype(dtype=\"int32\")\n",
      "c:\\wbg\\Anaconda3\\envs\\s2s_ingest\\lib\\site-packages\\rasterio\\features.py:336: ShapeSkipWarning: Invalid or empty shape {'type': 'Polygon', 'coordinates': ()} at index 0 will not be rasterized.\n",
      "  warnings.warn(\n"
     ]
    },
    {
     "name": "stdout",
     "output_type": "stream",
     "text": [
      "18:45:20\tProcessing Colombia Municipalities.geojson with mapbiomas_colombia_2006.tif\n",
      "18:46:54\tProcessing Verra.geojson with mapbiomas_colombia_2006.tif\n",
      "18:48:09\tProcessing BioCarbon.geojson with mapbiomas_colombia_2007.tif\n",
      "18:48:16\tProcessing Cercarbono.geojson with mapbiomas_colombia_2007.tif\n"
     ]
    },
    {
     "name": "stderr",
     "output_type": "stream",
     "text": [
      "c:\\wbg\\Anaconda3\\envs\\s2s_ingest\\lib\\site-packages\\pyogrio\\raw.py:198: RuntimeWarning: Non closed ring detected. To avoid accepting it, set the OGR_GEOMETRY_ACCEPT_UNCLOSED_RING configuration option to NO\n",
      "  return ogr_read(\n",
      "c:\\wbg\\Anaconda3\\envs\\s2s_ingest\\lib\\site-packages\\rasterio\\transform.py:410: RuntimeWarning: invalid value encountered in cast\n",
      "  new_rows = np.floor(new_rows).astype(dtype=\"int32\")\n",
      "c:\\wbg\\Anaconda3\\envs\\s2s_ingest\\lib\\site-packages\\rasterio\\transform.py:411: RuntimeWarning: invalid value encountered in cast\n",
      "  new_cols = np.floor(new_cols).astype(dtype=\"int32\")\n",
      "c:\\wbg\\Anaconda3\\envs\\s2s_ingest\\lib\\site-packages\\rasterio\\features.py:336: ShapeSkipWarning: Invalid or empty shape {'type': 'Polygon', 'coordinates': ()} at index 0 will not be rasterized.\n",
      "  warnings.warn(\n",
      "c:\\wbg\\Anaconda3\\envs\\s2s_ingest\\lib\\site-packages\\rasterio\\transform.py:410: RuntimeWarning: invalid value encountered in cast\n",
      "  new_rows = np.floor(new_rows).astype(dtype=\"int32\")\n",
      "c:\\wbg\\Anaconda3\\envs\\s2s_ingest\\lib\\site-packages\\rasterio\\transform.py:411: RuntimeWarning: invalid value encountered in cast\n",
      "  new_cols = np.floor(new_cols).astype(dtype=\"int32\")\n",
      "c:\\wbg\\Anaconda3\\envs\\s2s_ingest\\lib\\site-packages\\rasterio\\features.py:336: ShapeSkipWarning: Invalid or empty shape {'type': 'Polygon', 'coordinates': ()} at index 0 will not be rasterized.\n",
      "  warnings.warn(\n",
      "c:\\wbg\\Anaconda3\\envs\\s2s_ingest\\lib\\site-packages\\rasterio\\transform.py:410: RuntimeWarning: invalid value encountered in cast\n",
      "  new_rows = np.floor(new_rows).astype(dtype=\"int32\")\n",
      "c:\\wbg\\Anaconda3\\envs\\s2s_ingest\\lib\\site-packages\\rasterio\\transform.py:411: RuntimeWarning: invalid value encountered in cast\n",
      "  new_cols = np.floor(new_cols).astype(dtype=\"int32\")\n",
      "c:\\wbg\\Anaconda3\\envs\\s2s_ingest\\lib\\site-packages\\rasterio\\features.py:336: ShapeSkipWarning: Invalid or empty shape {'type': 'Polygon', 'coordinates': ()} at index 0 will not be rasterized.\n",
      "  warnings.warn(\n",
      "c:\\wbg\\Anaconda3\\envs\\s2s_ingest\\lib\\site-packages\\rasterio\\transform.py:410: RuntimeWarning: invalid value encountered in cast\n",
      "  new_rows = np.floor(new_rows).astype(dtype=\"int32\")\n",
      "c:\\wbg\\Anaconda3\\envs\\s2s_ingest\\lib\\site-packages\\rasterio\\transform.py:411: RuntimeWarning: invalid value encountered in cast\n",
      "  new_cols = np.floor(new_cols).astype(dtype=\"int32\")\n",
      "c:\\wbg\\Anaconda3\\envs\\s2s_ingest\\lib\\site-packages\\rasterio\\features.py:336: ShapeSkipWarning: Invalid or empty shape {'type': 'Polygon', 'coordinates': ()} at index 0 will not be rasterized.\n",
      "  warnings.warn(\n"
     ]
    },
    {
     "name": "stdout",
     "output_type": "stream",
     "text": [
      "18:48:22\tProcessing Colcx.geojson with mapbiomas_colombia_2007.tif\n"
     ]
    },
    {
     "name": "stderr",
     "output_type": "stream",
     "text": [
      "c:\\wbg\\Anaconda3\\envs\\s2s_ingest\\lib\\site-packages\\rasterio\\transform.py:410: RuntimeWarning: invalid value encountered in cast\n",
      "  new_rows = np.floor(new_rows).astype(dtype=\"int32\")\n",
      "c:\\wbg\\Anaconda3\\envs\\s2s_ingest\\lib\\site-packages\\rasterio\\transform.py:411: RuntimeWarning: invalid value encountered in cast\n",
      "  new_cols = np.floor(new_cols).astype(dtype=\"int32\")\n",
      "c:\\wbg\\Anaconda3\\envs\\s2s_ingest\\lib\\site-packages\\rasterio\\features.py:336: ShapeSkipWarning: Invalid or empty shape {'type': 'Polygon', 'coordinates': ()} at index 0 will not be rasterized.\n",
      "  warnings.warn(\n",
      "c:\\wbg\\Anaconda3\\envs\\s2s_ingest\\lib\\site-packages\\rasterio\\transform.py:410: RuntimeWarning: invalid value encountered in cast\n",
      "  new_rows = np.floor(new_rows).astype(dtype=\"int32\")\n",
      "c:\\wbg\\Anaconda3\\envs\\s2s_ingest\\lib\\site-packages\\rasterio\\transform.py:411: RuntimeWarning: invalid value encountered in cast\n",
      "  new_cols = np.floor(new_cols).astype(dtype=\"int32\")\n",
      "c:\\wbg\\Anaconda3\\envs\\s2s_ingest\\lib\\site-packages\\rasterio\\features.py:336: ShapeSkipWarning: Invalid or empty shape {'type': 'Polygon', 'coordinates': ()} at index 0 will not be rasterized.\n",
      "  warnings.warn(\n"
     ]
    },
    {
     "name": "stdout",
     "output_type": "stream",
     "text": [
      "18:48:24\tProcessing Colombia Municipalities.geojson with mapbiomas_colombia_2007.tif\n",
      "18:49:58\tProcessing Verra.geojson with mapbiomas_colombia_2007.tif\n",
      "18:51:14\tProcessing BioCarbon.geojson with mapbiomas_colombia_2008.tif\n",
      "18:51:21\tProcessing Cercarbono.geojson with mapbiomas_colombia_2008.tif\n"
     ]
    },
    {
     "name": "stderr",
     "output_type": "stream",
     "text": [
      "c:\\wbg\\Anaconda3\\envs\\s2s_ingest\\lib\\site-packages\\pyogrio\\raw.py:198: RuntimeWarning: Non closed ring detected. To avoid accepting it, set the OGR_GEOMETRY_ACCEPT_UNCLOSED_RING configuration option to NO\n",
      "  return ogr_read(\n",
      "c:\\wbg\\Anaconda3\\envs\\s2s_ingest\\lib\\site-packages\\rasterio\\transform.py:410: RuntimeWarning: invalid value encountered in cast\n",
      "  new_rows = np.floor(new_rows).astype(dtype=\"int32\")\n",
      "c:\\wbg\\Anaconda3\\envs\\s2s_ingest\\lib\\site-packages\\rasterio\\transform.py:411: RuntimeWarning: invalid value encountered in cast\n",
      "  new_cols = np.floor(new_cols).astype(dtype=\"int32\")\n",
      "c:\\wbg\\Anaconda3\\envs\\s2s_ingest\\lib\\site-packages\\rasterio\\features.py:336: ShapeSkipWarning: Invalid or empty shape {'type': 'Polygon', 'coordinates': ()} at index 0 will not be rasterized.\n",
      "  warnings.warn(\n",
      "c:\\wbg\\Anaconda3\\envs\\s2s_ingest\\lib\\site-packages\\rasterio\\transform.py:410: RuntimeWarning: invalid value encountered in cast\n",
      "  new_rows = np.floor(new_rows).astype(dtype=\"int32\")\n",
      "c:\\wbg\\Anaconda3\\envs\\s2s_ingest\\lib\\site-packages\\rasterio\\transform.py:411: RuntimeWarning: invalid value encountered in cast\n",
      "  new_cols = np.floor(new_cols).astype(dtype=\"int32\")\n",
      "c:\\wbg\\Anaconda3\\envs\\s2s_ingest\\lib\\site-packages\\rasterio\\features.py:336: ShapeSkipWarning: Invalid or empty shape {'type': 'Polygon', 'coordinates': ()} at index 0 will not be rasterized.\n",
      "  warnings.warn(\n",
      "c:\\wbg\\Anaconda3\\envs\\s2s_ingest\\lib\\site-packages\\rasterio\\transform.py:410: RuntimeWarning: invalid value encountered in cast\n",
      "  new_rows = np.floor(new_rows).astype(dtype=\"int32\")\n",
      "c:\\wbg\\Anaconda3\\envs\\s2s_ingest\\lib\\site-packages\\rasterio\\transform.py:411: RuntimeWarning: invalid value encountered in cast\n",
      "  new_cols = np.floor(new_cols).astype(dtype=\"int32\")\n",
      "c:\\wbg\\Anaconda3\\envs\\s2s_ingest\\lib\\site-packages\\rasterio\\features.py:336: ShapeSkipWarning: Invalid or empty shape {'type': 'Polygon', 'coordinates': ()} at index 0 will not be rasterized.\n",
      "  warnings.warn(\n",
      "c:\\wbg\\Anaconda3\\envs\\s2s_ingest\\lib\\site-packages\\rasterio\\transform.py:410: RuntimeWarning: invalid value encountered in cast\n",
      "  new_rows = np.floor(new_rows).astype(dtype=\"int32\")\n",
      "c:\\wbg\\Anaconda3\\envs\\s2s_ingest\\lib\\site-packages\\rasterio\\transform.py:411: RuntimeWarning: invalid value encountered in cast\n",
      "  new_cols = np.floor(new_cols).astype(dtype=\"int32\")\n",
      "c:\\wbg\\Anaconda3\\envs\\s2s_ingest\\lib\\site-packages\\rasterio\\features.py:336: ShapeSkipWarning: Invalid or empty shape {'type': 'Polygon', 'coordinates': ()} at index 0 will not be rasterized.\n",
      "  warnings.warn(\n"
     ]
    },
    {
     "name": "stdout",
     "output_type": "stream",
     "text": [
      "18:51:27\tProcessing Colcx.geojson with mapbiomas_colombia_2008.tif\n"
     ]
    },
    {
     "name": "stderr",
     "output_type": "stream",
     "text": [
      "c:\\wbg\\Anaconda3\\envs\\s2s_ingest\\lib\\site-packages\\rasterio\\transform.py:410: RuntimeWarning: invalid value encountered in cast\n",
      "  new_rows = np.floor(new_rows).astype(dtype=\"int32\")\n",
      "c:\\wbg\\Anaconda3\\envs\\s2s_ingest\\lib\\site-packages\\rasterio\\transform.py:411: RuntimeWarning: invalid value encountered in cast\n",
      "  new_cols = np.floor(new_cols).astype(dtype=\"int32\")\n",
      "c:\\wbg\\Anaconda3\\envs\\s2s_ingest\\lib\\site-packages\\rasterio\\features.py:336: ShapeSkipWarning: Invalid or empty shape {'type': 'Polygon', 'coordinates': ()} at index 0 will not be rasterized.\n",
      "  warnings.warn(\n",
      "c:\\wbg\\Anaconda3\\envs\\s2s_ingest\\lib\\site-packages\\rasterio\\transform.py:410: RuntimeWarning: invalid value encountered in cast\n",
      "  new_rows = np.floor(new_rows).astype(dtype=\"int32\")\n",
      "c:\\wbg\\Anaconda3\\envs\\s2s_ingest\\lib\\site-packages\\rasterio\\transform.py:411: RuntimeWarning: invalid value encountered in cast\n",
      "  new_cols = np.floor(new_cols).astype(dtype=\"int32\")\n",
      "c:\\wbg\\Anaconda3\\envs\\s2s_ingest\\lib\\site-packages\\rasterio\\features.py:336: ShapeSkipWarning: Invalid or empty shape {'type': 'Polygon', 'coordinates': ()} at index 0 will not be rasterized.\n",
      "  warnings.warn(\n"
     ]
    },
    {
     "name": "stdout",
     "output_type": "stream",
     "text": [
      "18:51:29\tProcessing Colombia Municipalities.geojson with mapbiomas_colombia_2008.tif\n",
      "18:53:02\tProcessing Verra.geojson with mapbiomas_colombia_2008.tif\n",
      "18:54:19\tProcessing BioCarbon.geojson with mapbiomas_colombia_2009.tif\n",
      "18:54:26\tProcessing Cercarbono.geojson with mapbiomas_colombia_2009.tif\n"
     ]
    },
    {
     "name": "stderr",
     "output_type": "stream",
     "text": [
      "c:\\wbg\\Anaconda3\\envs\\s2s_ingest\\lib\\site-packages\\pyogrio\\raw.py:198: RuntimeWarning: Non closed ring detected. To avoid accepting it, set the OGR_GEOMETRY_ACCEPT_UNCLOSED_RING configuration option to NO\n",
      "  return ogr_read(\n",
      "c:\\wbg\\Anaconda3\\envs\\s2s_ingest\\lib\\site-packages\\rasterio\\transform.py:410: RuntimeWarning: invalid value encountered in cast\n",
      "  new_rows = np.floor(new_rows).astype(dtype=\"int32\")\n",
      "c:\\wbg\\Anaconda3\\envs\\s2s_ingest\\lib\\site-packages\\rasterio\\transform.py:411: RuntimeWarning: invalid value encountered in cast\n",
      "  new_cols = np.floor(new_cols).astype(dtype=\"int32\")\n",
      "c:\\wbg\\Anaconda3\\envs\\s2s_ingest\\lib\\site-packages\\rasterio\\features.py:336: ShapeSkipWarning: Invalid or empty shape {'type': 'Polygon', 'coordinates': ()} at index 0 will not be rasterized.\n",
      "  warnings.warn(\n",
      "c:\\wbg\\Anaconda3\\envs\\s2s_ingest\\lib\\site-packages\\rasterio\\transform.py:410: RuntimeWarning: invalid value encountered in cast\n",
      "  new_rows = np.floor(new_rows).astype(dtype=\"int32\")\n",
      "c:\\wbg\\Anaconda3\\envs\\s2s_ingest\\lib\\site-packages\\rasterio\\transform.py:411: RuntimeWarning: invalid value encountered in cast\n",
      "  new_cols = np.floor(new_cols).astype(dtype=\"int32\")\n",
      "c:\\wbg\\Anaconda3\\envs\\s2s_ingest\\lib\\site-packages\\rasterio\\features.py:336: ShapeSkipWarning: Invalid or empty shape {'type': 'Polygon', 'coordinates': ()} at index 0 will not be rasterized.\n",
      "  warnings.warn(\n",
      "c:\\wbg\\Anaconda3\\envs\\s2s_ingest\\lib\\site-packages\\rasterio\\transform.py:410: RuntimeWarning: invalid value encountered in cast\n",
      "  new_rows = np.floor(new_rows).astype(dtype=\"int32\")\n",
      "c:\\wbg\\Anaconda3\\envs\\s2s_ingest\\lib\\site-packages\\rasterio\\transform.py:411: RuntimeWarning: invalid value encountered in cast\n",
      "  new_cols = np.floor(new_cols).astype(dtype=\"int32\")\n",
      "c:\\wbg\\Anaconda3\\envs\\s2s_ingest\\lib\\site-packages\\rasterio\\features.py:336: ShapeSkipWarning: Invalid or empty shape {'type': 'Polygon', 'coordinates': ()} at index 0 will not be rasterized.\n",
      "  warnings.warn(\n",
      "c:\\wbg\\Anaconda3\\envs\\s2s_ingest\\lib\\site-packages\\rasterio\\transform.py:410: RuntimeWarning: invalid value encountered in cast\n",
      "  new_rows = np.floor(new_rows).astype(dtype=\"int32\")\n",
      "c:\\wbg\\Anaconda3\\envs\\s2s_ingest\\lib\\site-packages\\rasterio\\transform.py:411: RuntimeWarning: invalid value encountered in cast\n",
      "  new_cols = np.floor(new_cols).astype(dtype=\"int32\")\n",
      "c:\\wbg\\Anaconda3\\envs\\s2s_ingest\\lib\\site-packages\\rasterio\\features.py:336: ShapeSkipWarning: Invalid or empty shape {'type': 'Polygon', 'coordinates': ()} at index 0 will not be rasterized.\n",
      "  warnings.warn(\n"
     ]
    },
    {
     "name": "stdout",
     "output_type": "stream",
     "text": [
      "18:54:32\tProcessing Colcx.geojson with mapbiomas_colombia_2009.tif\n"
     ]
    },
    {
     "name": "stderr",
     "output_type": "stream",
     "text": [
      "c:\\wbg\\Anaconda3\\envs\\s2s_ingest\\lib\\site-packages\\rasterio\\transform.py:410: RuntimeWarning: invalid value encountered in cast\n",
      "  new_rows = np.floor(new_rows).astype(dtype=\"int32\")\n",
      "c:\\wbg\\Anaconda3\\envs\\s2s_ingest\\lib\\site-packages\\rasterio\\transform.py:411: RuntimeWarning: invalid value encountered in cast\n",
      "  new_cols = np.floor(new_cols).astype(dtype=\"int32\")\n",
      "c:\\wbg\\Anaconda3\\envs\\s2s_ingest\\lib\\site-packages\\rasterio\\features.py:336: ShapeSkipWarning: Invalid or empty shape {'type': 'Polygon', 'coordinates': ()} at index 0 will not be rasterized.\n",
      "  warnings.warn(\n",
      "c:\\wbg\\Anaconda3\\envs\\s2s_ingest\\lib\\site-packages\\rasterio\\transform.py:410: RuntimeWarning: invalid value encountered in cast\n",
      "  new_rows = np.floor(new_rows).astype(dtype=\"int32\")\n",
      "c:\\wbg\\Anaconda3\\envs\\s2s_ingest\\lib\\site-packages\\rasterio\\transform.py:411: RuntimeWarning: invalid value encountered in cast\n",
      "  new_cols = np.floor(new_cols).astype(dtype=\"int32\")\n",
      "c:\\wbg\\Anaconda3\\envs\\s2s_ingest\\lib\\site-packages\\rasterio\\features.py:336: ShapeSkipWarning: Invalid or empty shape {'type': 'Polygon', 'coordinates': ()} at index 0 will not be rasterized.\n",
      "  warnings.warn(\n"
     ]
    },
    {
     "name": "stdout",
     "output_type": "stream",
     "text": [
      "18:54:34\tProcessing Colombia Municipalities.geojson with mapbiomas_colombia_2009.tif\n",
      "18:56:08\tProcessing Verra.geojson with mapbiomas_colombia_2009.tif\n",
      "18:57:25\tProcessing BioCarbon.geojson with mapbiomas_colombia_2010.tif\n",
      "18:57:32\tProcessing Cercarbono.geojson with mapbiomas_colombia_2010.tif\n"
     ]
    },
    {
     "name": "stderr",
     "output_type": "stream",
     "text": [
      "c:\\wbg\\Anaconda3\\envs\\s2s_ingest\\lib\\site-packages\\pyogrio\\raw.py:198: RuntimeWarning: Non closed ring detected. To avoid accepting it, set the OGR_GEOMETRY_ACCEPT_UNCLOSED_RING configuration option to NO\n",
      "  return ogr_read(\n",
      "c:\\wbg\\Anaconda3\\envs\\s2s_ingest\\lib\\site-packages\\rasterio\\transform.py:410: RuntimeWarning: invalid value encountered in cast\n",
      "  new_rows = np.floor(new_rows).astype(dtype=\"int32\")\n",
      "c:\\wbg\\Anaconda3\\envs\\s2s_ingest\\lib\\site-packages\\rasterio\\transform.py:411: RuntimeWarning: invalid value encountered in cast\n",
      "  new_cols = np.floor(new_cols).astype(dtype=\"int32\")\n",
      "c:\\wbg\\Anaconda3\\envs\\s2s_ingest\\lib\\site-packages\\rasterio\\features.py:336: ShapeSkipWarning: Invalid or empty shape {'type': 'Polygon', 'coordinates': ()} at index 0 will not be rasterized.\n",
      "  warnings.warn(\n",
      "c:\\wbg\\Anaconda3\\envs\\s2s_ingest\\lib\\site-packages\\rasterio\\transform.py:410: RuntimeWarning: invalid value encountered in cast\n",
      "  new_rows = np.floor(new_rows).astype(dtype=\"int32\")\n",
      "c:\\wbg\\Anaconda3\\envs\\s2s_ingest\\lib\\site-packages\\rasterio\\transform.py:411: RuntimeWarning: invalid value encountered in cast\n",
      "  new_cols = np.floor(new_cols).astype(dtype=\"int32\")\n",
      "c:\\wbg\\Anaconda3\\envs\\s2s_ingest\\lib\\site-packages\\rasterio\\features.py:336: ShapeSkipWarning: Invalid or empty shape {'type': 'Polygon', 'coordinates': ()} at index 0 will not be rasterized.\n",
      "  warnings.warn(\n",
      "c:\\wbg\\Anaconda3\\envs\\s2s_ingest\\lib\\site-packages\\rasterio\\transform.py:410: RuntimeWarning: invalid value encountered in cast\n",
      "  new_rows = np.floor(new_rows).astype(dtype=\"int32\")\n",
      "c:\\wbg\\Anaconda3\\envs\\s2s_ingest\\lib\\site-packages\\rasterio\\transform.py:411: RuntimeWarning: invalid value encountered in cast\n",
      "  new_cols = np.floor(new_cols).astype(dtype=\"int32\")\n",
      "c:\\wbg\\Anaconda3\\envs\\s2s_ingest\\lib\\site-packages\\rasterio\\features.py:336: ShapeSkipWarning: Invalid or empty shape {'type': 'Polygon', 'coordinates': ()} at index 0 will not be rasterized.\n",
      "  warnings.warn(\n",
      "c:\\wbg\\Anaconda3\\envs\\s2s_ingest\\lib\\site-packages\\rasterio\\transform.py:410: RuntimeWarning: invalid value encountered in cast\n",
      "  new_rows = np.floor(new_rows).astype(dtype=\"int32\")\n",
      "c:\\wbg\\Anaconda3\\envs\\s2s_ingest\\lib\\site-packages\\rasterio\\transform.py:411: RuntimeWarning: invalid value encountered in cast\n",
      "  new_cols = np.floor(new_cols).astype(dtype=\"int32\")\n",
      "c:\\wbg\\Anaconda3\\envs\\s2s_ingest\\lib\\site-packages\\rasterio\\features.py:336: ShapeSkipWarning: Invalid or empty shape {'type': 'Polygon', 'coordinates': ()} at index 0 will not be rasterized.\n",
      "  warnings.warn(\n"
     ]
    },
    {
     "name": "stdout",
     "output_type": "stream",
     "text": [
      "18:57:38\tProcessing Colcx.geojson with mapbiomas_colombia_2010.tif\n"
     ]
    },
    {
     "name": "stderr",
     "output_type": "stream",
     "text": [
      "c:\\wbg\\Anaconda3\\envs\\s2s_ingest\\lib\\site-packages\\rasterio\\transform.py:410: RuntimeWarning: invalid value encountered in cast\n",
      "  new_rows = np.floor(new_rows).astype(dtype=\"int32\")\n",
      "c:\\wbg\\Anaconda3\\envs\\s2s_ingest\\lib\\site-packages\\rasterio\\transform.py:411: RuntimeWarning: invalid value encountered in cast\n",
      "  new_cols = np.floor(new_cols).astype(dtype=\"int32\")\n",
      "c:\\wbg\\Anaconda3\\envs\\s2s_ingest\\lib\\site-packages\\rasterio\\features.py:336: ShapeSkipWarning: Invalid or empty shape {'type': 'Polygon', 'coordinates': ()} at index 0 will not be rasterized.\n",
      "  warnings.warn(\n",
      "c:\\wbg\\Anaconda3\\envs\\s2s_ingest\\lib\\site-packages\\rasterio\\transform.py:410: RuntimeWarning: invalid value encountered in cast\n",
      "  new_rows = np.floor(new_rows).astype(dtype=\"int32\")\n",
      "c:\\wbg\\Anaconda3\\envs\\s2s_ingest\\lib\\site-packages\\rasterio\\transform.py:411: RuntimeWarning: invalid value encountered in cast\n",
      "  new_cols = np.floor(new_cols).astype(dtype=\"int32\")\n",
      "c:\\wbg\\Anaconda3\\envs\\s2s_ingest\\lib\\site-packages\\rasterio\\features.py:336: ShapeSkipWarning: Invalid or empty shape {'type': 'Polygon', 'coordinates': ()} at index 0 will not be rasterized.\n",
      "  warnings.warn(\n"
     ]
    },
    {
     "name": "stdout",
     "output_type": "stream",
     "text": [
      "18:57:39\tProcessing Colombia Municipalities.geojson with mapbiomas_colombia_2010.tif\n",
      "18:59:13\tProcessing Verra.geojson with mapbiomas_colombia_2010.tif\n",
      "19:00:31\tProcessing BioCarbon.geojson with mapbiomas_colombia_2011.tif\n",
      "19:00:38\tProcessing Cercarbono.geojson with mapbiomas_colombia_2011.tif\n"
     ]
    },
    {
     "name": "stderr",
     "output_type": "stream",
     "text": [
      "c:\\wbg\\Anaconda3\\envs\\s2s_ingest\\lib\\site-packages\\pyogrio\\raw.py:198: RuntimeWarning: Non closed ring detected. To avoid accepting it, set the OGR_GEOMETRY_ACCEPT_UNCLOSED_RING configuration option to NO\n",
      "  return ogr_read(\n",
      "c:\\wbg\\Anaconda3\\envs\\s2s_ingest\\lib\\site-packages\\rasterio\\transform.py:410: RuntimeWarning: invalid value encountered in cast\n",
      "  new_rows = np.floor(new_rows).astype(dtype=\"int32\")\n",
      "c:\\wbg\\Anaconda3\\envs\\s2s_ingest\\lib\\site-packages\\rasterio\\transform.py:411: RuntimeWarning: invalid value encountered in cast\n",
      "  new_cols = np.floor(new_cols).astype(dtype=\"int32\")\n",
      "c:\\wbg\\Anaconda3\\envs\\s2s_ingest\\lib\\site-packages\\rasterio\\features.py:336: ShapeSkipWarning: Invalid or empty shape {'type': 'Polygon', 'coordinates': ()} at index 0 will not be rasterized.\n",
      "  warnings.warn(\n",
      "c:\\wbg\\Anaconda3\\envs\\s2s_ingest\\lib\\site-packages\\rasterio\\transform.py:410: RuntimeWarning: invalid value encountered in cast\n",
      "  new_rows = np.floor(new_rows).astype(dtype=\"int32\")\n",
      "c:\\wbg\\Anaconda3\\envs\\s2s_ingest\\lib\\site-packages\\rasterio\\transform.py:411: RuntimeWarning: invalid value encountered in cast\n",
      "  new_cols = np.floor(new_cols).astype(dtype=\"int32\")\n",
      "c:\\wbg\\Anaconda3\\envs\\s2s_ingest\\lib\\site-packages\\rasterio\\features.py:336: ShapeSkipWarning: Invalid or empty shape {'type': 'Polygon', 'coordinates': ()} at index 0 will not be rasterized.\n",
      "  warnings.warn(\n",
      "c:\\wbg\\Anaconda3\\envs\\s2s_ingest\\lib\\site-packages\\rasterio\\transform.py:410: RuntimeWarning: invalid value encountered in cast\n",
      "  new_rows = np.floor(new_rows).astype(dtype=\"int32\")\n",
      "c:\\wbg\\Anaconda3\\envs\\s2s_ingest\\lib\\site-packages\\rasterio\\transform.py:411: RuntimeWarning: invalid value encountered in cast\n",
      "  new_cols = np.floor(new_cols).astype(dtype=\"int32\")\n",
      "c:\\wbg\\Anaconda3\\envs\\s2s_ingest\\lib\\site-packages\\rasterio\\features.py:336: ShapeSkipWarning: Invalid or empty shape {'type': 'Polygon', 'coordinates': ()} at index 0 will not be rasterized.\n",
      "  warnings.warn(\n",
      "c:\\wbg\\Anaconda3\\envs\\s2s_ingest\\lib\\site-packages\\rasterio\\transform.py:410: RuntimeWarning: invalid value encountered in cast\n",
      "  new_rows = np.floor(new_rows).astype(dtype=\"int32\")\n",
      "c:\\wbg\\Anaconda3\\envs\\s2s_ingest\\lib\\site-packages\\rasterio\\transform.py:411: RuntimeWarning: invalid value encountered in cast\n",
      "  new_cols = np.floor(new_cols).astype(dtype=\"int32\")\n",
      "c:\\wbg\\Anaconda3\\envs\\s2s_ingest\\lib\\site-packages\\rasterio\\features.py:336: ShapeSkipWarning: Invalid or empty shape {'type': 'Polygon', 'coordinates': ()} at index 0 will not be rasterized.\n",
      "  warnings.warn(\n"
     ]
    },
    {
     "name": "stdout",
     "output_type": "stream",
     "text": [
      "19:00:45\tProcessing Colcx.geojson with mapbiomas_colombia_2011.tif\n"
     ]
    },
    {
     "name": "stderr",
     "output_type": "stream",
     "text": [
      "c:\\wbg\\Anaconda3\\envs\\s2s_ingest\\lib\\site-packages\\rasterio\\transform.py:410: RuntimeWarning: invalid value encountered in cast\n",
      "  new_rows = np.floor(new_rows).astype(dtype=\"int32\")\n",
      "c:\\wbg\\Anaconda3\\envs\\s2s_ingest\\lib\\site-packages\\rasterio\\transform.py:411: RuntimeWarning: invalid value encountered in cast\n",
      "  new_cols = np.floor(new_cols).astype(dtype=\"int32\")\n",
      "c:\\wbg\\Anaconda3\\envs\\s2s_ingest\\lib\\site-packages\\rasterio\\features.py:336: ShapeSkipWarning: Invalid or empty shape {'type': 'Polygon', 'coordinates': ()} at index 0 will not be rasterized.\n",
      "  warnings.warn(\n",
      "c:\\wbg\\Anaconda3\\envs\\s2s_ingest\\lib\\site-packages\\rasterio\\transform.py:410: RuntimeWarning: invalid value encountered in cast\n",
      "  new_rows = np.floor(new_rows).astype(dtype=\"int32\")\n",
      "c:\\wbg\\Anaconda3\\envs\\s2s_ingest\\lib\\site-packages\\rasterio\\transform.py:411: RuntimeWarning: invalid value encountered in cast\n",
      "  new_cols = np.floor(new_cols).astype(dtype=\"int32\")\n",
      "c:\\wbg\\Anaconda3\\envs\\s2s_ingest\\lib\\site-packages\\rasterio\\features.py:336: ShapeSkipWarning: Invalid or empty shape {'type': 'Polygon', 'coordinates': ()} at index 0 will not be rasterized.\n",
      "  warnings.warn(\n"
     ]
    },
    {
     "name": "stdout",
     "output_type": "stream",
     "text": [
      "19:00:47\tProcessing Colombia Municipalities.geojson with mapbiomas_colombia_2011.tif\n",
      "19:02:21\tProcessing Verra.geojson with mapbiomas_colombia_2011.tif\n",
      "19:03:37\tProcessing BioCarbon.geojson with mapbiomas_colombia_2012.tif\n",
      "19:03:44\tProcessing Cercarbono.geojson with mapbiomas_colombia_2012.tif\n"
     ]
    },
    {
     "name": "stderr",
     "output_type": "stream",
     "text": [
      "c:\\wbg\\Anaconda3\\envs\\s2s_ingest\\lib\\site-packages\\pyogrio\\raw.py:198: RuntimeWarning: Non closed ring detected. To avoid accepting it, set the OGR_GEOMETRY_ACCEPT_UNCLOSED_RING configuration option to NO\n",
      "  return ogr_read(\n",
      "c:\\wbg\\Anaconda3\\envs\\s2s_ingest\\lib\\site-packages\\rasterio\\transform.py:410: RuntimeWarning: invalid value encountered in cast\n",
      "  new_rows = np.floor(new_rows).astype(dtype=\"int32\")\n",
      "c:\\wbg\\Anaconda3\\envs\\s2s_ingest\\lib\\site-packages\\rasterio\\transform.py:411: RuntimeWarning: invalid value encountered in cast\n",
      "  new_cols = np.floor(new_cols).astype(dtype=\"int32\")\n",
      "c:\\wbg\\Anaconda3\\envs\\s2s_ingest\\lib\\site-packages\\rasterio\\features.py:336: ShapeSkipWarning: Invalid or empty shape {'type': 'Polygon', 'coordinates': ()} at index 0 will not be rasterized.\n",
      "  warnings.warn(\n",
      "c:\\wbg\\Anaconda3\\envs\\s2s_ingest\\lib\\site-packages\\rasterio\\transform.py:410: RuntimeWarning: invalid value encountered in cast\n",
      "  new_rows = np.floor(new_rows).astype(dtype=\"int32\")\n",
      "c:\\wbg\\Anaconda3\\envs\\s2s_ingest\\lib\\site-packages\\rasterio\\transform.py:411: RuntimeWarning: invalid value encountered in cast\n",
      "  new_cols = np.floor(new_cols).astype(dtype=\"int32\")\n",
      "c:\\wbg\\Anaconda3\\envs\\s2s_ingest\\lib\\site-packages\\rasterio\\features.py:336: ShapeSkipWarning: Invalid or empty shape {'type': 'Polygon', 'coordinates': ()} at index 0 will not be rasterized.\n",
      "  warnings.warn(\n",
      "c:\\wbg\\Anaconda3\\envs\\s2s_ingest\\lib\\site-packages\\rasterio\\transform.py:410: RuntimeWarning: invalid value encountered in cast\n",
      "  new_rows = np.floor(new_rows).astype(dtype=\"int32\")\n",
      "c:\\wbg\\Anaconda3\\envs\\s2s_ingest\\lib\\site-packages\\rasterio\\transform.py:411: RuntimeWarning: invalid value encountered in cast\n",
      "  new_cols = np.floor(new_cols).astype(dtype=\"int32\")\n",
      "c:\\wbg\\Anaconda3\\envs\\s2s_ingest\\lib\\site-packages\\rasterio\\features.py:336: ShapeSkipWarning: Invalid or empty shape {'type': 'Polygon', 'coordinates': ()} at index 0 will not be rasterized.\n",
      "  warnings.warn(\n",
      "c:\\wbg\\Anaconda3\\envs\\s2s_ingest\\lib\\site-packages\\rasterio\\transform.py:410: RuntimeWarning: invalid value encountered in cast\n",
      "  new_rows = np.floor(new_rows).astype(dtype=\"int32\")\n",
      "c:\\wbg\\Anaconda3\\envs\\s2s_ingest\\lib\\site-packages\\rasterio\\transform.py:411: RuntimeWarning: invalid value encountered in cast\n",
      "  new_cols = np.floor(new_cols).astype(dtype=\"int32\")\n",
      "c:\\wbg\\Anaconda3\\envs\\s2s_ingest\\lib\\site-packages\\rasterio\\features.py:336: ShapeSkipWarning: Invalid or empty shape {'type': 'Polygon', 'coordinates': ()} at index 0 will not be rasterized.\n",
      "  warnings.warn(\n"
     ]
    },
    {
     "name": "stdout",
     "output_type": "stream",
     "text": [
      "19:03:50\tProcessing Colcx.geojson with mapbiomas_colombia_2012.tif\n"
     ]
    },
    {
     "name": "stderr",
     "output_type": "stream",
     "text": [
      "c:\\wbg\\Anaconda3\\envs\\s2s_ingest\\lib\\site-packages\\rasterio\\transform.py:410: RuntimeWarning: invalid value encountered in cast\n",
      "  new_rows = np.floor(new_rows).astype(dtype=\"int32\")\n",
      "c:\\wbg\\Anaconda3\\envs\\s2s_ingest\\lib\\site-packages\\rasterio\\transform.py:411: RuntimeWarning: invalid value encountered in cast\n",
      "  new_cols = np.floor(new_cols).astype(dtype=\"int32\")\n",
      "c:\\wbg\\Anaconda3\\envs\\s2s_ingest\\lib\\site-packages\\rasterio\\features.py:336: ShapeSkipWarning: Invalid or empty shape {'type': 'Polygon', 'coordinates': ()} at index 0 will not be rasterized.\n",
      "  warnings.warn(\n",
      "c:\\wbg\\Anaconda3\\envs\\s2s_ingest\\lib\\site-packages\\rasterio\\transform.py:410: RuntimeWarning: invalid value encountered in cast\n",
      "  new_rows = np.floor(new_rows).astype(dtype=\"int32\")\n",
      "c:\\wbg\\Anaconda3\\envs\\s2s_ingest\\lib\\site-packages\\rasterio\\transform.py:411: RuntimeWarning: invalid value encountered in cast\n",
      "  new_cols = np.floor(new_cols).astype(dtype=\"int32\")\n",
      "c:\\wbg\\Anaconda3\\envs\\s2s_ingest\\lib\\site-packages\\rasterio\\features.py:336: ShapeSkipWarning: Invalid or empty shape {'type': 'Polygon', 'coordinates': ()} at index 0 will not be rasterized.\n",
      "  warnings.warn(\n"
     ]
    },
    {
     "name": "stdout",
     "output_type": "stream",
     "text": [
      "19:03:51\tProcessing Colombia Municipalities.geojson with mapbiomas_colombia_2012.tif\n",
      "19:05:24\tProcessing Verra.geojson with mapbiomas_colombia_2012.tif\n",
      "19:06:43\tProcessing BioCarbon.geojson with mapbiomas_colombia_2013.tif\n",
      "19:06:49\tProcessing Cercarbono.geojson with mapbiomas_colombia_2013.tif\n"
     ]
    },
    {
     "name": "stderr",
     "output_type": "stream",
     "text": [
      "c:\\wbg\\Anaconda3\\envs\\s2s_ingest\\lib\\site-packages\\pyogrio\\raw.py:198: RuntimeWarning: Non closed ring detected. To avoid accepting it, set the OGR_GEOMETRY_ACCEPT_UNCLOSED_RING configuration option to NO\n",
      "  return ogr_read(\n",
      "c:\\wbg\\Anaconda3\\envs\\s2s_ingest\\lib\\site-packages\\rasterio\\transform.py:410: RuntimeWarning: invalid value encountered in cast\n",
      "  new_rows = np.floor(new_rows).astype(dtype=\"int32\")\n",
      "c:\\wbg\\Anaconda3\\envs\\s2s_ingest\\lib\\site-packages\\rasterio\\transform.py:411: RuntimeWarning: invalid value encountered in cast\n",
      "  new_cols = np.floor(new_cols).astype(dtype=\"int32\")\n",
      "c:\\wbg\\Anaconda3\\envs\\s2s_ingest\\lib\\site-packages\\rasterio\\features.py:336: ShapeSkipWarning: Invalid or empty shape {'type': 'Polygon', 'coordinates': ()} at index 0 will not be rasterized.\n",
      "  warnings.warn(\n",
      "c:\\wbg\\Anaconda3\\envs\\s2s_ingest\\lib\\site-packages\\rasterio\\transform.py:410: RuntimeWarning: invalid value encountered in cast\n",
      "  new_rows = np.floor(new_rows).astype(dtype=\"int32\")\n",
      "c:\\wbg\\Anaconda3\\envs\\s2s_ingest\\lib\\site-packages\\rasterio\\transform.py:411: RuntimeWarning: invalid value encountered in cast\n",
      "  new_cols = np.floor(new_cols).astype(dtype=\"int32\")\n",
      "c:\\wbg\\Anaconda3\\envs\\s2s_ingest\\lib\\site-packages\\rasterio\\features.py:336: ShapeSkipWarning: Invalid or empty shape {'type': 'Polygon', 'coordinates': ()} at index 0 will not be rasterized.\n",
      "  warnings.warn(\n",
      "c:\\wbg\\Anaconda3\\envs\\s2s_ingest\\lib\\site-packages\\rasterio\\transform.py:410: RuntimeWarning: invalid value encountered in cast\n",
      "  new_rows = np.floor(new_rows).astype(dtype=\"int32\")\n",
      "c:\\wbg\\Anaconda3\\envs\\s2s_ingest\\lib\\site-packages\\rasterio\\transform.py:411: RuntimeWarning: invalid value encountered in cast\n",
      "  new_cols = np.floor(new_cols).astype(dtype=\"int32\")\n",
      "c:\\wbg\\Anaconda3\\envs\\s2s_ingest\\lib\\site-packages\\rasterio\\features.py:336: ShapeSkipWarning: Invalid or empty shape {'type': 'Polygon', 'coordinates': ()} at index 0 will not be rasterized.\n",
      "  warnings.warn(\n",
      "c:\\wbg\\Anaconda3\\envs\\s2s_ingest\\lib\\site-packages\\rasterio\\transform.py:410: RuntimeWarning: invalid value encountered in cast\n",
      "  new_rows = np.floor(new_rows).astype(dtype=\"int32\")\n",
      "c:\\wbg\\Anaconda3\\envs\\s2s_ingest\\lib\\site-packages\\rasterio\\transform.py:411: RuntimeWarning: invalid value encountered in cast\n",
      "  new_cols = np.floor(new_cols).astype(dtype=\"int32\")\n",
      "c:\\wbg\\Anaconda3\\envs\\s2s_ingest\\lib\\site-packages\\rasterio\\features.py:336: ShapeSkipWarning: Invalid or empty shape {'type': 'Polygon', 'coordinates': ()} at index 0 will not be rasterized.\n",
      "  warnings.warn(\n"
     ]
    },
    {
     "name": "stdout",
     "output_type": "stream",
     "text": [
      "19:06:55\tProcessing Colcx.geojson with mapbiomas_colombia_2013.tif\n"
     ]
    },
    {
     "name": "stderr",
     "output_type": "stream",
     "text": [
      "c:\\wbg\\Anaconda3\\envs\\s2s_ingest\\lib\\site-packages\\rasterio\\transform.py:410: RuntimeWarning: invalid value encountered in cast\n",
      "  new_rows = np.floor(new_rows).astype(dtype=\"int32\")\n",
      "c:\\wbg\\Anaconda3\\envs\\s2s_ingest\\lib\\site-packages\\rasterio\\transform.py:411: RuntimeWarning: invalid value encountered in cast\n",
      "  new_cols = np.floor(new_cols).astype(dtype=\"int32\")\n",
      "c:\\wbg\\Anaconda3\\envs\\s2s_ingest\\lib\\site-packages\\rasterio\\features.py:336: ShapeSkipWarning: Invalid or empty shape {'type': 'Polygon', 'coordinates': ()} at index 0 will not be rasterized.\n",
      "  warnings.warn(\n",
      "c:\\wbg\\Anaconda3\\envs\\s2s_ingest\\lib\\site-packages\\rasterio\\transform.py:410: RuntimeWarning: invalid value encountered in cast\n",
      "  new_rows = np.floor(new_rows).astype(dtype=\"int32\")\n",
      "c:\\wbg\\Anaconda3\\envs\\s2s_ingest\\lib\\site-packages\\rasterio\\transform.py:411: RuntimeWarning: invalid value encountered in cast\n",
      "  new_cols = np.floor(new_cols).astype(dtype=\"int32\")\n",
      "c:\\wbg\\Anaconda3\\envs\\s2s_ingest\\lib\\site-packages\\rasterio\\features.py:336: ShapeSkipWarning: Invalid or empty shape {'type': 'Polygon', 'coordinates': ()} at index 0 will not be rasterized.\n",
      "  warnings.warn(\n"
     ]
    },
    {
     "name": "stdout",
     "output_type": "stream",
     "text": [
      "19:06:57\tProcessing Colombia Municipalities.geojson with mapbiomas_colombia_2013.tif\n",
      "19:08:31\tProcessing Verra.geojson with mapbiomas_colombia_2013.tif\n",
      "19:09:51\tProcessing BioCarbon.geojson with mapbiomas_colombia_2014.tif\n",
      "19:09:58\tProcessing Cercarbono.geojson with mapbiomas_colombia_2014.tif\n"
     ]
    },
    {
     "name": "stderr",
     "output_type": "stream",
     "text": [
      "c:\\wbg\\Anaconda3\\envs\\s2s_ingest\\lib\\site-packages\\pyogrio\\raw.py:198: RuntimeWarning: Non closed ring detected. To avoid accepting it, set the OGR_GEOMETRY_ACCEPT_UNCLOSED_RING configuration option to NO\n",
      "  return ogr_read(\n",
      "c:\\wbg\\Anaconda3\\envs\\s2s_ingest\\lib\\site-packages\\rasterio\\transform.py:410: RuntimeWarning: invalid value encountered in cast\n",
      "  new_rows = np.floor(new_rows).astype(dtype=\"int32\")\n",
      "c:\\wbg\\Anaconda3\\envs\\s2s_ingest\\lib\\site-packages\\rasterio\\transform.py:411: RuntimeWarning: invalid value encountered in cast\n",
      "  new_cols = np.floor(new_cols).astype(dtype=\"int32\")\n",
      "c:\\wbg\\Anaconda3\\envs\\s2s_ingest\\lib\\site-packages\\rasterio\\features.py:336: ShapeSkipWarning: Invalid or empty shape {'type': 'Polygon', 'coordinates': ()} at index 0 will not be rasterized.\n",
      "  warnings.warn(\n",
      "c:\\wbg\\Anaconda3\\envs\\s2s_ingest\\lib\\site-packages\\rasterio\\transform.py:410: RuntimeWarning: invalid value encountered in cast\n",
      "  new_rows = np.floor(new_rows).astype(dtype=\"int32\")\n",
      "c:\\wbg\\Anaconda3\\envs\\s2s_ingest\\lib\\site-packages\\rasterio\\transform.py:411: RuntimeWarning: invalid value encountered in cast\n",
      "  new_cols = np.floor(new_cols).astype(dtype=\"int32\")\n",
      "c:\\wbg\\Anaconda3\\envs\\s2s_ingest\\lib\\site-packages\\rasterio\\features.py:336: ShapeSkipWarning: Invalid or empty shape {'type': 'Polygon', 'coordinates': ()} at index 0 will not be rasterized.\n",
      "  warnings.warn(\n",
      "c:\\wbg\\Anaconda3\\envs\\s2s_ingest\\lib\\site-packages\\rasterio\\transform.py:410: RuntimeWarning: invalid value encountered in cast\n",
      "  new_rows = np.floor(new_rows).astype(dtype=\"int32\")\n",
      "c:\\wbg\\Anaconda3\\envs\\s2s_ingest\\lib\\site-packages\\rasterio\\transform.py:411: RuntimeWarning: invalid value encountered in cast\n",
      "  new_cols = np.floor(new_cols).astype(dtype=\"int32\")\n",
      "c:\\wbg\\Anaconda3\\envs\\s2s_ingest\\lib\\site-packages\\rasterio\\features.py:336: ShapeSkipWarning: Invalid or empty shape {'type': 'Polygon', 'coordinates': ()} at index 0 will not be rasterized.\n",
      "  warnings.warn(\n",
      "c:\\wbg\\Anaconda3\\envs\\s2s_ingest\\lib\\site-packages\\rasterio\\transform.py:410: RuntimeWarning: invalid value encountered in cast\n",
      "  new_rows = np.floor(new_rows).astype(dtype=\"int32\")\n",
      "c:\\wbg\\Anaconda3\\envs\\s2s_ingest\\lib\\site-packages\\rasterio\\transform.py:411: RuntimeWarning: invalid value encountered in cast\n",
      "  new_cols = np.floor(new_cols).astype(dtype=\"int32\")\n",
      "c:\\wbg\\Anaconda3\\envs\\s2s_ingest\\lib\\site-packages\\rasterio\\features.py:336: ShapeSkipWarning: Invalid or empty shape {'type': 'Polygon', 'coordinates': ()} at index 0 will not be rasterized.\n",
      "  warnings.warn(\n"
     ]
    },
    {
     "name": "stdout",
     "output_type": "stream",
     "text": [
      "19:10:04\tProcessing Colcx.geojson with mapbiomas_colombia_2014.tif\n"
     ]
    },
    {
     "name": "stderr",
     "output_type": "stream",
     "text": [
      "c:\\wbg\\Anaconda3\\envs\\s2s_ingest\\lib\\site-packages\\rasterio\\transform.py:410: RuntimeWarning: invalid value encountered in cast\n",
      "  new_rows = np.floor(new_rows).astype(dtype=\"int32\")\n",
      "c:\\wbg\\Anaconda3\\envs\\s2s_ingest\\lib\\site-packages\\rasterio\\transform.py:411: RuntimeWarning: invalid value encountered in cast\n",
      "  new_cols = np.floor(new_cols).astype(dtype=\"int32\")\n",
      "c:\\wbg\\Anaconda3\\envs\\s2s_ingest\\lib\\site-packages\\rasterio\\features.py:336: ShapeSkipWarning: Invalid or empty shape {'type': 'Polygon', 'coordinates': ()} at index 0 will not be rasterized.\n",
      "  warnings.warn(\n",
      "c:\\wbg\\Anaconda3\\envs\\s2s_ingest\\lib\\site-packages\\rasterio\\transform.py:410: RuntimeWarning: invalid value encountered in cast\n",
      "  new_rows = np.floor(new_rows).astype(dtype=\"int32\")\n",
      "c:\\wbg\\Anaconda3\\envs\\s2s_ingest\\lib\\site-packages\\rasterio\\transform.py:411: RuntimeWarning: invalid value encountered in cast\n",
      "  new_cols = np.floor(new_cols).astype(dtype=\"int32\")\n",
      "c:\\wbg\\Anaconda3\\envs\\s2s_ingest\\lib\\site-packages\\rasterio\\features.py:336: ShapeSkipWarning: Invalid or empty shape {'type': 'Polygon', 'coordinates': ()} at index 0 will not be rasterized.\n",
      "  warnings.warn(\n"
     ]
    },
    {
     "name": "stdout",
     "output_type": "stream",
     "text": [
      "19:10:06\tProcessing Colombia Municipalities.geojson with mapbiomas_colombia_2014.tif\n",
      "19:11:40\tProcessing Verra.geojson with mapbiomas_colombia_2014.tif\n",
      "19:13:00\tProcessing BioCarbon.geojson with mapbiomas_colombia_2015.tif\n",
      "19:13:07\tProcessing Cercarbono.geojson with mapbiomas_colombia_2015.tif\n"
     ]
    },
    {
     "name": "stderr",
     "output_type": "stream",
     "text": [
      "c:\\wbg\\Anaconda3\\envs\\s2s_ingest\\lib\\site-packages\\pyogrio\\raw.py:198: RuntimeWarning: Non closed ring detected. To avoid accepting it, set the OGR_GEOMETRY_ACCEPT_UNCLOSED_RING configuration option to NO\n",
      "  return ogr_read(\n",
      "c:\\wbg\\Anaconda3\\envs\\s2s_ingest\\lib\\site-packages\\rasterio\\transform.py:410: RuntimeWarning: invalid value encountered in cast\n",
      "  new_rows = np.floor(new_rows).astype(dtype=\"int32\")\n",
      "c:\\wbg\\Anaconda3\\envs\\s2s_ingest\\lib\\site-packages\\rasterio\\transform.py:411: RuntimeWarning: invalid value encountered in cast\n",
      "  new_cols = np.floor(new_cols).astype(dtype=\"int32\")\n",
      "c:\\wbg\\Anaconda3\\envs\\s2s_ingest\\lib\\site-packages\\rasterio\\features.py:336: ShapeSkipWarning: Invalid or empty shape {'type': 'Polygon', 'coordinates': ()} at index 0 will not be rasterized.\n",
      "  warnings.warn(\n",
      "c:\\wbg\\Anaconda3\\envs\\s2s_ingest\\lib\\site-packages\\rasterio\\transform.py:410: RuntimeWarning: invalid value encountered in cast\n",
      "  new_rows = np.floor(new_rows).astype(dtype=\"int32\")\n",
      "c:\\wbg\\Anaconda3\\envs\\s2s_ingest\\lib\\site-packages\\rasterio\\transform.py:411: RuntimeWarning: invalid value encountered in cast\n",
      "  new_cols = np.floor(new_cols).astype(dtype=\"int32\")\n",
      "c:\\wbg\\Anaconda3\\envs\\s2s_ingest\\lib\\site-packages\\rasterio\\features.py:336: ShapeSkipWarning: Invalid or empty shape {'type': 'Polygon', 'coordinates': ()} at index 0 will not be rasterized.\n",
      "  warnings.warn(\n",
      "c:\\wbg\\Anaconda3\\envs\\s2s_ingest\\lib\\site-packages\\rasterio\\transform.py:410: RuntimeWarning: invalid value encountered in cast\n",
      "  new_rows = np.floor(new_rows).astype(dtype=\"int32\")\n",
      "c:\\wbg\\Anaconda3\\envs\\s2s_ingest\\lib\\site-packages\\rasterio\\transform.py:411: RuntimeWarning: invalid value encountered in cast\n",
      "  new_cols = np.floor(new_cols).astype(dtype=\"int32\")\n",
      "c:\\wbg\\Anaconda3\\envs\\s2s_ingest\\lib\\site-packages\\rasterio\\features.py:336: ShapeSkipWarning: Invalid or empty shape {'type': 'Polygon', 'coordinates': ()} at index 0 will not be rasterized.\n",
      "  warnings.warn(\n",
      "c:\\wbg\\Anaconda3\\envs\\s2s_ingest\\lib\\site-packages\\rasterio\\transform.py:410: RuntimeWarning: invalid value encountered in cast\n",
      "  new_rows = np.floor(new_rows).astype(dtype=\"int32\")\n",
      "c:\\wbg\\Anaconda3\\envs\\s2s_ingest\\lib\\site-packages\\rasterio\\transform.py:411: RuntimeWarning: invalid value encountered in cast\n",
      "  new_cols = np.floor(new_cols).astype(dtype=\"int32\")\n",
      "c:\\wbg\\Anaconda3\\envs\\s2s_ingest\\lib\\site-packages\\rasterio\\features.py:336: ShapeSkipWarning: Invalid or empty shape {'type': 'Polygon', 'coordinates': ()} at index 0 will not be rasterized.\n",
      "  warnings.warn(\n"
     ]
    },
    {
     "name": "stdout",
     "output_type": "stream",
     "text": [
      "19:13:12\tProcessing Colcx.geojson with mapbiomas_colombia_2015.tif\n"
     ]
    },
    {
     "name": "stderr",
     "output_type": "stream",
     "text": [
      "c:\\wbg\\Anaconda3\\envs\\s2s_ingest\\lib\\site-packages\\rasterio\\transform.py:410: RuntimeWarning: invalid value encountered in cast\n",
      "  new_rows = np.floor(new_rows).astype(dtype=\"int32\")\n",
      "c:\\wbg\\Anaconda3\\envs\\s2s_ingest\\lib\\site-packages\\rasterio\\transform.py:411: RuntimeWarning: invalid value encountered in cast\n",
      "  new_cols = np.floor(new_cols).astype(dtype=\"int32\")\n",
      "c:\\wbg\\Anaconda3\\envs\\s2s_ingest\\lib\\site-packages\\rasterio\\features.py:336: ShapeSkipWarning: Invalid or empty shape {'type': 'Polygon', 'coordinates': ()} at index 0 will not be rasterized.\n",
      "  warnings.warn(\n",
      "c:\\wbg\\Anaconda3\\envs\\s2s_ingest\\lib\\site-packages\\rasterio\\transform.py:410: RuntimeWarning: invalid value encountered in cast\n",
      "  new_rows = np.floor(new_rows).astype(dtype=\"int32\")\n",
      "c:\\wbg\\Anaconda3\\envs\\s2s_ingest\\lib\\site-packages\\rasterio\\transform.py:411: RuntimeWarning: invalid value encountered in cast\n",
      "  new_cols = np.floor(new_cols).astype(dtype=\"int32\")\n",
      "c:\\wbg\\Anaconda3\\envs\\s2s_ingest\\lib\\site-packages\\rasterio\\features.py:336: ShapeSkipWarning: Invalid or empty shape {'type': 'Polygon', 'coordinates': ()} at index 0 will not be rasterized.\n",
      "  warnings.warn(\n"
     ]
    },
    {
     "name": "stdout",
     "output_type": "stream",
     "text": [
      "19:13:14\tProcessing Colombia Municipalities.geojson with mapbiomas_colombia_2015.tif\n",
      "19:14:48\tProcessing Verra.geojson with mapbiomas_colombia_2015.tif\n",
      "19:16:07\tProcessing BioCarbon.geojson with mapbiomas_colombia_2016.tif\n",
      "19:16:15\tProcessing Cercarbono.geojson with mapbiomas_colombia_2016.tif\n"
     ]
    },
    {
     "name": "stderr",
     "output_type": "stream",
     "text": [
      "c:\\wbg\\Anaconda3\\envs\\s2s_ingest\\lib\\site-packages\\pyogrio\\raw.py:198: RuntimeWarning: Non closed ring detected. To avoid accepting it, set the OGR_GEOMETRY_ACCEPT_UNCLOSED_RING configuration option to NO\n",
      "  return ogr_read(\n",
      "c:\\wbg\\Anaconda3\\envs\\s2s_ingest\\lib\\site-packages\\rasterio\\transform.py:410: RuntimeWarning: invalid value encountered in cast\n",
      "  new_rows = np.floor(new_rows).astype(dtype=\"int32\")\n",
      "c:\\wbg\\Anaconda3\\envs\\s2s_ingest\\lib\\site-packages\\rasterio\\transform.py:411: RuntimeWarning: invalid value encountered in cast\n",
      "  new_cols = np.floor(new_cols).astype(dtype=\"int32\")\n",
      "c:\\wbg\\Anaconda3\\envs\\s2s_ingest\\lib\\site-packages\\rasterio\\features.py:336: ShapeSkipWarning: Invalid or empty shape {'type': 'Polygon', 'coordinates': ()} at index 0 will not be rasterized.\n",
      "  warnings.warn(\n",
      "c:\\wbg\\Anaconda3\\envs\\s2s_ingest\\lib\\site-packages\\rasterio\\transform.py:410: RuntimeWarning: invalid value encountered in cast\n",
      "  new_rows = np.floor(new_rows).astype(dtype=\"int32\")\n",
      "c:\\wbg\\Anaconda3\\envs\\s2s_ingest\\lib\\site-packages\\rasterio\\transform.py:411: RuntimeWarning: invalid value encountered in cast\n",
      "  new_cols = np.floor(new_cols).astype(dtype=\"int32\")\n",
      "c:\\wbg\\Anaconda3\\envs\\s2s_ingest\\lib\\site-packages\\rasterio\\features.py:336: ShapeSkipWarning: Invalid or empty shape {'type': 'Polygon', 'coordinates': ()} at index 0 will not be rasterized.\n",
      "  warnings.warn(\n",
      "c:\\wbg\\Anaconda3\\envs\\s2s_ingest\\lib\\site-packages\\rasterio\\transform.py:410: RuntimeWarning: invalid value encountered in cast\n",
      "  new_rows = np.floor(new_rows).astype(dtype=\"int32\")\n",
      "c:\\wbg\\Anaconda3\\envs\\s2s_ingest\\lib\\site-packages\\rasterio\\transform.py:411: RuntimeWarning: invalid value encountered in cast\n",
      "  new_cols = np.floor(new_cols).astype(dtype=\"int32\")\n",
      "c:\\wbg\\Anaconda3\\envs\\s2s_ingest\\lib\\site-packages\\rasterio\\features.py:336: ShapeSkipWarning: Invalid or empty shape {'type': 'Polygon', 'coordinates': ()} at index 0 will not be rasterized.\n",
      "  warnings.warn(\n",
      "c:\\wbg\\Anaconda3\\envs\\s2s_ingest\\lib\\site-packages\\rasterio\\transform.py:410: RuntimeWarning: invalid value encountered in cast\n",
      "  new_rows = np.floor(new_rows).astype(dtype=\"int32\")\n",
      "c:\\wbg\\Anaconda3\\envs\\s2s_ingest\\lib\\site-packages\\rasterio\\transform.py:411: RuntimeWarning: invalid value encountered in cast\n",
      "  new_cols = np.floor(new_cols).astype(dtype=\"int32\")\n",
      "c:\\wbg\\Anaconda3\\envs\\s2s_ingest\\lib\\site-packages\\rasterio\\features.py:336: ShapeSkipWarning: Invalid or empty shape {'type': 'Polygon', 'coordinates': ()} at index 0 will not be rasterized.\n",
      "  warnings.warn(\n"
     ]
    },
    {
     "name": "stdout",
     "output_type": "stream",
     "text": [
      "19:16:21\tProcessing Colcx.geojson with mapbiomas_colombia_2016.tif\n"
     ]
    },
    {
     "name": "stderr",
     "output_type": "stream",
     "text": [
      "c:\\wbg\\Anaconda3\\envs\\s2s_ingest\\lib\\site-packages\\rasterio\\transform.py:410: RuntimeWarning: invalid value encountered in cast\n",
      "  new_rows = np.floor(new_rows).astype(dtype=\"int32\")\n",
      "c:\\wbg\\Anaconda3\\envs\\s2s_ingest\\lib\\site-packages\\rasterio\\transform.py:411: RuntimeWarning: invalid value encountered in cast\n",
      "  new_cols = np.floor(new_cols).astype(dtype=\"int32\")\n",
      "c:\\wbg\\Anaconda3\\envs\\s2s_ingest\\lib\\site-packages\\rasterio\\features.py:336: ShapeSkipWarning: Invalid or empty shape {'type': 'Polygon', 'coordinates': ()} at index 0 will not be rasterized.\n",
      "  warnings.warn(\n",
      "c:\\wbg\\Anaconda3\\envs\\s2s_ingest\\lib\\site-packages\\rasterio\\transform.py:410: RuntimeWarning: invalid value encountered in cast\n",
      "  new_rows = np.floor(new_rows).astype(dtype=\"int32\")\n",
      "c:\\wbg\\Anaconda3\\envs\\s2s_ingest\\lib\\site-packages\\rasterio\\transform.py:411: RuntimeWarning: invalid value encountered in cast\n",
      "  new_cols = np.floor(new_cols).astype(dtype=\"int32\")\n",
      "c:\\wbg\\Anaconda3\\envs\\s2s_ingest\\lib\\site-packages\\rasterio\\features.py:336: ShapeSkipWarning: Invalid or empty shape {'type': 'Polygon', 'coordinates': ()} at index 0 will not be rasterized.\n",
      "  warnings.warn(\n"
     ]
    },
    {
     "name": "stdout",
     "output_type": "stream",
     "text": [
      "19:16:23\tProcessing Colombia Municipalities.geojson with mapbiomas_colombia_2016.tif\n",
      "19:17:57\tProcessing Verra.geojson with mapbiomas_colombia_2016.tif\n",
      "19:19:15\tProcessing BioCarbon.geojson with mapbiomas_colombia_2017.tif\n",
      "19:19:22\tProcessing Cercarbono.geojson with mapbiomas_colombia_2017.tif\n"
     ]
    },
    {
     "name": "stderr",
     "output_type": "stream",
     "text": [
      "c:\\wbg\\Anaconda3\\envs\\s2s_ingest\\lib\\site-packages\\pyogrio\\raw.py:198: RuntimeWarning: Non closed ring detected. To avoid accepting it, set the OGR_GEOMETRY_ACCEPT_UNCLOSED_RING configuration option to NO\n",
      "  return ogr_read(\n",
      "c:\\wbg\\Anaconda3\\envs\\s2s_ingest\\lib\\site-packages\\rasterio\\transform.py:410: RuntimeWarning: invalid value encountered in cast\n",
      "  new_rows = np.floor(new_rows).astype(dtype=\"int32\")\n",
      "c:\\wbg\\Anaconda3\\envs\\s2s_ingest\\lib\\site-packages\\rasterio\\transform.py:411: RuntimeWarning: invalid value encountered in cast\n",
      "  new_cols = np.floor(new_cols).astype(dtype=\"int32\")\n",
      "c:\\wbg\\Anaconda3\\envs\\s2s_ingest\\lib\\site-packages\\rasterio\\features.py:336: ShapeSkipWarning: Invalid or empty shape {'type': 'Polygon', 'coordinates': ()} at index 0 will not be rasterized.\n",
      "  warnings.warn(\n",
      "c:\\wbg\\Anaconda3\\envs\\s2s_ingest\\lib\\site-packages\\rasterio\\transform.py:410: RuntimeWarning: invalid value encountered in cast\n",
      "  new_rows = np.floor(new_rows).astype(dtype=\"int32\")\n",
      "c:\\wbg\\Anaconda3\\envs\\s2s_ingest\\lib\\site-packages\\rasterio\\transform.py:411: RuntimeWarning: invalid value encountered in cast\n",
      "  new_cols = np.floor(new_cols).astype(dtype=\"int32\")\n",
      "c:\\wbg\\Anaconda3\\envs\\s2s_ingest\\lib\\site-packages\\rasterio\\features.py:336: ShapeSkipWarning: Invalid or empty shape {'type': 'Polygon', 'coordinates': ()} at index 0 will not be rasterized.\n",
      "  warnings.warn(\n",
      "c:\\wbg\\Anaconda3\\envs\\s2s_ingest\\lib\\site-packages\\rasterio\\transform.py:410: RuntimeWarning: invalid value encountered in cast\n",
      "  new_rows = np.floor(new_rows).astype(dtype=\"int32\")\n",
      "c:\\wbg\\Anaconda3\\envs\\s2s_ingest\\lib\\site-packages\\rasterio\\transform.py:411: RuntimeWarning: invalid value encountered in cast\n",
      "  new_cols = np.floor(new_cols).astype(dtype=\"int32\")\n",
      "c:\\wbg\\Anaconda3\\envs\\s2s_ingest\\lib\\site-packages\\rasterio\\features.py:336: ShapeSkipWarning: Invalid or empty shape {'type': 'Polygon', 'coordinates': ()} at index 0 will not be rasterized.\n",
      "  warnings.warn(\n",
      "c:\\wbg\\Anaconda3\\envs\\s2s_ingest\\lib\\site-packages\\rasterio\\transform.py:410: RuntimeWarning: invalid value encountered in cast\n",
      "  new_rows = np.floor(new_rows).astype(dtype=\"int32\")\n",
      "c:\\wbg\\Anaconda3\\envs\\s2s_ingest\\lib\\site-packages\\rasterio\\transform.py:411: RuntimeWarning: invalid value encountered in cast\n",
      "  new_cols = np.floor(new_cols).astype(dtype=\"int32\")\n",
      "c:\\wbg\\Anaconda3\\envs\\s2s_ingest\\lib\\site-packages\\rasterio\\features.py:336: ShapeSkipWarning: Invalid or empty shape {'type': 'Polygon', 'coordinates': ()} at index 0 will not be rasterized.\n",
      "  warnings.warn(\n"
     ]
    },
    {
     "name": "stdout",
     "output_type": "stream",
     "text": [
      "19:19:28\tProcessing Colcx.geojson with mapbiomas_colombia_2017.tif\n"
     ]
    },
    {
     "name": "stderr",
     "output_type": "stream",
     "text": [
      "c:\\wbg\\Anaconda3\\envs\\s2s_ingest\\lib\\site-packages\\rasterio\\transform.py:410: RuntimeWarning: invalid value encountered in cast\n",
      "  new_rows = np.floor(new_rows).astype(dtype=\"int32\")\n",
      "c:\\wbg\\Anaconda3\\envs\\s2s_ingest\\lib\\site-packages\\rasterio\\transform.py:411: RuntimeWarning: invalid value encountered in cast\n",
      "  new_cols = np.floor(new_cols).astype(dtype=\"int32\")\n",
      "c:\\wbg\\Anaconda3\\envs\\s2s_ingest\\lib\\site-packages\\rasterio\\features.py:336: ShapeSkipWarning: Invalid or empty shape {'type': 'Polygon', 'coordinates': ()} at index 0 will not be rasterized.\n",
      "  warnings.warn(\n",
      "c:\\wbg\\Anaconda3\\envs\\s2s_ingest\\lib\\site-packages\\rasterio\\transform.py:410: RuntimeWarning: invalid value encountered in cast\n",
      "  new_rows = np.floor(new_rows).astype(dtype=\"int32\")\n",
      "c:\\wbg\\Anaconda3\\envs\\s2s_ingest\\lib\\site-packages\\rasterio\\transform.py:411: RuntimeWarning: invalid value encountered in cast\n",
      "  new_cols = np.floor(new_cols).astype(dtype=\"int32\")\n",
      "c:\\wbg\\Anaconda3\\envs\\s2s_ingest\\lib\\site-packages\\rasterio\\features.py:336: ShapeSkipWarning: Invalid or empty shape {'type': 'Polygon', 'coordinates': ()} at index 0 will not be rasterized.\n",
      "  warnings.warn(\n"
     ]
    },
    {
     "name": "stdout",
     "output_type": "stream",
     "text": [
      "19:19:29\tProcessing Colombia Municipalities.geojson with mapbiomas_colombia_2017.tif\n",
      "19:21:03\tProcessing Verra.geojson with mapbiomas_colombia_2017.tif\n",
      "19:22:21\tProcessing BioCarbon.geojson with mapbiomas_colombia_2018.tif\n",
      "19:22:28\tProcessing Cercarbono.geojson with mapbiomas_colombia_2018.tif\n"
     ]
    },
    {
     "name": "stderr",
     "output_type": "stream",
     "text": [
      "c:\\wbg\\Anaconda3\\envs\\s2s_ingest\\lib\\site-packages\\pyogrio\\raw.py:198: RuntimeWarning: Non closed ring detected. To avoid accepting it, set the OGR_GEOMETRY_ACCEPT_UNCLOSED_RING configuration option to NO\n",
      "  return ogr_read(\n",
      "c:\\wbg\\Anaconda3\\envs\\s2s_ingest\\lib\\site-packages\\rasterio\\transform.py:410: RuntimeWarning: invalid value encountered in cast\n",
      "  new_rows = np.floor(new_rows).astype(dtype=\"int32\")\n",
      "c:\\wbg\\Anaconda3\\envs\\s2s_ingest\\lib\\site-packages\\rasterio\\transform.py:411: RuntimeWarning: invalid value encountered in cast\n",
      "  new_cols = np.floor(new_cols).astype(dtype=\"int32\")\n",
      "c:\\wbg\\Anaconda3\\envs\\s2s_ingest\\lib\\site-packages\\rasterio\\features.py:336: ShapeSkipWarning: Invalid or empty shape {'type': 'Polygon', 'coordinates': ()} at index 0 will not be rasterized.\n",
      "  warnings.warn(\n",
      "c:\\wbg\\Anaconda3\\envs\\s2s_ingest\\lib\\site-packages\\rasterio\\transform.py:410: RuntimeWarning: invalid value encountered in cast\n",
      "  new_rows = np.floor(new_rows).astype(dtype=\"int32\")\n",
      "c:\\wbg\\Anaconda3\\envs\\s2s_ingest\\lib\\site-packages\\rasterio\\transform.py:411: RuntimeWarning: invalid value encountered in cast\n",
      "  new_cols = np.floor(new_cols).astype(dtype=\"int32\")\n",
      "c:\\wbg\\Anaconda3\\envs\\s2s_ingest\\lib\\site-packages\\rasterio\\features.py:336: ShapeSkipWarning: Invalid or empty shape {'type': 'Polygon', 'coordinates': ()} at index 0 will not be rasterized.\n",
      "  warnings.warn(\n",
      "c:\\wbg\\Anaconda3\\envs\\s2s_ingest\\lib\\site-packages\\rasterio\\transform.py:410: RuntimeWarning: invalid value encountered in cast\n",
      "  new_rows = np.floor(new_rows).astype(dtype=\"int32\")\n",
      "c:\\wbg\\Anaconda3\\envs\\s2s_ingest\\lib\\site-packages\\rasterio\\transform.py:411: RuntimeWarning: invalid value encountered in cast\n",
      "  new_cols = np.floor(new_cols).astype(dtype=\"int32\")\n",
      "c:\\wbg\\Anaconda3\\envs\\s2s_ingest\\lib\\site-packages\\rasterio\\features.py:336: ShapeSkipWarning: Invalid or empty shape {'type': 'Polygon', 'coordinates': ()} at index 0 will not be rasterized.\n",
      "  warnings.warn(\n",
      "c:\\wbg\\Anaconda3\\envs\\s2s_ingest\\lib\\site-packages\\rasterio\\transform.py:410: RuntimeWarning: invalid value encountered in cast\n",
      "  new_rows = np.floor(new_rows).astype(dtype=\"int32\")\n",
      "c:\\wbg\\Anaconda3\\envs\\s2s_ingest\\lib\\site-packages\\rasterio\\transform.py:411: RuntimeWarning: invalid value encountered in cast\n",
      "  new_cols = np.floor(new_cols).astype(dtype=\"int32\")\n",
      "c:\\wbg\\Anaconda3\\envs\\s2s_ingest\\lib\\site-packages\\rasterio\\features.py:336: ShapeSkipWarning: Invalid or empty shape {'type': 'Polygon', 'coordinates': ()} at index 0 will not be rasterized.\n",
      "  warnings.warn(\n"
     ]
    },
    {
     "name": "stdout",
     "output_type": "stream",
     "text": [
      "19:22:34\tProcessing Colcx.geojson with mapbiomas_colombia_2018.tif\n"
     ]
    },
    {
     "name": "stderr",
     "output_type": "stream",
     "text": [
      "c:\\wbg\\Anaconda3\\envs\\s2s_ingest\\lib\\site-packages\\rasterio\\transform.py:410: RuntimeWarning: invalid value encountered in cast\n",
      "  new_rows = np.floor(new_rows).astype(dtype=\"int32\")\n",
      "c:\\wbg\\Anaconda3\\envs\\s2s_ingest\\lib\\site-packages\\rasterio\\transform.py:411: RuntimeWarning: invalid value encountered in cast\n",
      "  new_cols = np.floor(new_cols).astype(dtype=\"int32\")\n",
      "c:\\wbg\\Anaconda3\\envs\\s2s_ingest\\lib\\site-packages\\rasterio\\features.py:336: ShapeSkipWarning: Invalid or empty shape {'type': 'Polygon', 'coordinates': ()} at index 0 will not be rasterized.\n",
      "  warnings.warn(\n",
      "c:\\wbg\\Anaconda3\\envs\\s2s_ingest\\lib\\site-packages\\rasterio\\transform.py:410: RuntimeWarning: invalid value encountered in cast\n",
      "  new_rows = np.floor(new_rows).astype(dtype=\"int32\")\n",
      "c:\\wbg\\Anaconda3\\envs\\s2s_ingest\\lib\\site-packages\\rasterio\\transform.py:411: RuntimeWarning: invalid value encountered in cast\n",
      "  new_cols = np.floor(new_cols).astype(dtype=\"int32\")\n",
      "c:\\wbg\\Anaconda3\\envs\\s2s_ingest\\lib\\site-packages\\rasterio\\features.py:336: ShapeSkipWarning: Invalid or empty shape {'type': 'Polygon', 'coordinates': ()} at index 0 will not be rasterized.\n",
      "  warnings.warn(\n"
     ]
    },
    {
     "name": "stdout",
     "output_type": "stream",
     "text": [
      "19:22:36\tProcessing Colombia Municipalities.geojson with mapbiomas_colombia_2018.tif\n",
      "19:24:08\tProcessing Verra.geojson with mapbiomas_colombia_2018.tif\n",
      "19:25:30\tProcessing BioCarbon.geojson with mapbiomas_colombia_2019.tif\n",
      "19:25:37\tProcessing Cercarbono.geojson with mapbiomas_colombia_2019.tif\n"
     ]
    },
    {
     "name": "stderr",
     "output_type": "stream",
     "text": [
      "c:\\wbg\\Anaconda3\\envs\\s2s_ingest\\lib\\site-packages\\pyogrio\\raw.py:198: RuntimeWarning: Non closed ring detected. To avoid accepting it, set the OGR_GEOMETRY_ACCEPT_UNCLOSED_RING configuration option to NO\n",
      "  return ogr_read(\n",
      "c:\\wbg\\Anaconda3\\envs\\s2s_ingest\\lib\\site-packages\\rasterio\\transform.py:410: RuntimeWarning: invalid value encountered in cast\n",
      "  new_rows = np.floor(new_rows).astype(dtype=\"int32\")\n",
      "c:\\wbg\\Anaconda3\\envs\\s2s_ingest\\lib\\site-packages\\rasterio\\transform.py:411: RuntimeWarning: invalid value encountered in cast\n",
      "  new_cols = np.floor(new_cols).astype(dtype=\"int32\")\n",
      "c:\\wbg\\Anaconda3\\envs\\s2s_ingest\\lib\\site-packages\\rasterio\\features.py:336: ShapeSkipWarning: Invalid or empty shape {'type': 'Polygon', 'coordinates': ()} at index 0 will not be rasterized.\n",
      "  warnings.warn(\n",
      "c:\\wbg\\Anaconda3\\envs\\s2s_ingest\\lib\\site-packages\\rasterio\\transform.py:410: RuntimeWarning: invalid value encountered in cast\n",
      "  new_rows = np.floor(new_rows).astype(dtype=\"int32\")\n",
      "c:\\wbg\\Anaconda3\\envs\\s2s_ingest\\lib\\site-packages\\rasterio\\transform.py:411: RuntimeWarning: invalid value encountered in cast\n",
      "  new_cols = np.floor(new_cols).astype(dtype=\"int32\")\n",
      "c:\\wbg\\Anaconda3\\envs\\s2s_ingest\\lib\\site-packages\\rasterio\\features.py:336: ShapeSkipWarning: Invalid or empty shape {'type': 'Polygon', 'coordinates': ()} at index 0 will not be rasterized.\n",
      "  warnings.warn(\n",
      "c:\\wbg\\Anaconda3\\envs\\s2s_ingest\\lib\\site-packages\\rasterio\\transform.py:410: RuntimeWarning: invalid value encountered in cast\n",
      "  new_rows = np.floor(new_rows).astype(dtype=\"int32\")\n",
      "c:\\wbg\\Anaconda3\\envs\\s2s_ingest\\lib\\site-packages\\rasterio\\transform.py:411: RuntimeWarning: invalid value encountered in cast\n",
      "  new_cols = np.floor(new_cols).astype(dtype=\"int32\")\n",
      "c:\\wbg\\Anaconda3\\envs\\s2s_ingest\\lib\\site-packages\\rasterio\\features.py:336: ShapeSkipWarning: Invalid or empty shape {'type': 'Polygon', 'coordinates': ()} at index 0 will not be rasterized.\n",
      "  warnings.warn(\n",
      "c:\\wbg\\Anaconda3\\envs\\s2s_ingest\\lib\\site-packages\\rasterio\\transform.py:410: RuntimeWarning: invalid value encountered in cast\n",
      "  new_rows = np.floor(new_rows).astype(dtype=\"int32\")\n",
      "c:\\wbg\\Anaconda3\\envs\\s2s_ingest\\lib\\site-packages\\rasterio\\transform.py:411: RuntimeWarning: invalid value encountered in cast\n",
      "  new_cols = np.floor(new_cols).astype(dtype=\"int32\")\n",
      "c:\\wbg\\Anaconda3\\envs\\s2s_ingest\\lib\\site-packages\\rasterio\\features.py:336: ShapeSkipWarning: Invalid or empty shape {'type': 'Polygon', 'coordinates': ()} at index 0 will not be rasterized.\n",
      "  warnings.warn(\n"
     ]
    },
    {
     "name": "stdout",
     "output_type": "stream",
     "text": [
      "19:25:42\tProcessing Colcx.geojson with mapbiomas_colombia_2019.tif\n"
     ]
    },
    {
     "name": "stderr",
     "output_type": "stream",
     "text": [
      "c:\\wbg\\Anaconda3\\envs\\s2s_ingest\\lib\\site-packages\\rasterio\\transform.py:410: RuntimeWarning: invalid value encountered in cast\n",
      "  new_rows = np.floor(new_rows).astype(dtype=\"int32\")\n",
      "c:\\wbg\\Anaconda3\\envs\\s2s_ingest\\lib\\site-packages\\rasterio\\transform.py:411: RuntimeWarning: invalid value encountered in cast\n",
      "  new_cols = np.floor(new_cols).astype(dtype=\"int32\")\n",
      "c:\\wbg\\Anaconda3\\envs\\s2s_ingest\\lib\\site-packages\\rasterio\\features.py:336: ShapeSkipWarning: Invalid or empty shape {'type': 'Polygon', 'coordinates': ()} at index 0 will not be rasterized.\n",
      "  warnings.warn(\n",
      "c:\\wbg\\Anaconda3\\envs\\s2s_ingest\\lib\\site-packages\\rasterio\\transform.py:410: RuntimeWarning: invalid value encountered in cast\n",
      "  new_rows = np.floor(new_rows).astype(dtype=\"int32\")\n",
      "c:\\wbg\\Anaconda3\\envs\\s2s_ingest\\lib\\site-packages\\rasterio\\transform.py:411: RuntimeWarning: invalid value encountered in cast\n",
      "  new_cols = np.floor(new_cols).astype(dtype=\"int32\")\n",
      "c:\\wbg\\Anaconda3\\envs\\s2s_ingest\\lib\\site-packages\\rasterio\\features.py:336: ShapeSkipWarning: Invalid or empty shape {'type': 'Polygon', 'coordinates': ()} at index 0 will not be rasterized.\n",
      "  warnings.warn(\n"
     ]
    },
    {
     "name": "stdout",
     "output_type": "stream",
     "text": [
      "19:25:44\tProcessing Colombia Municipalities.geojson with mapbiomas_colombia_2019.tif\n",
      "19:27:16\tProcessing Verra.geojson with mapbiomas_colombia_2019.tif\n",
      "19:28:36\tProcessing BioCarbon.geojson with mapbiomas_colombia_2020.tif\n",
      "19:28:43\tProcessing Cercarbono.geojson with mapbiomas_colombia_2020.tif\n"
     ]
    },
    {
     "name": "stderr",
     "output_type": "stream",
     "text": [
      "c:\\wbg\\Anaconda3\\envs\\s2s_ingest\\lib\\site-packages\\pyogrio\\raw.py:198: RuntimeWarning: Non closed ring detected. To avoid accepting it, set the OGR_GEOMETRY_ACCEPT_UNCLOSED_RING configuration option to NO\n",
      "  return ogr_read(\n",
      "c:\\wbg\\Anaconda3\\envs\\s2s_ingest\\lib\\site-packages\\rasterio\\transform.py:410: RuntimeWarning: invalid value encountered in cast\n",
      "  new_rows = np.floor(new_rows).astype(dtype=\"int32\")\n",
      "c:\\wbg\\Anaconda3\\envs\\s2s_ingest\\lib\\site-packages\\rasterio\\transform.py:411: RuntimeWarning: invalid value encountered in cast\n",
      "  new_cols = np.floor(new_cols).astype(dtype=\"int32\")\n",
      "c:\\wbg\\Anaconda3\\envs\\s2s_ingest\\lib\\site-packages\\rasterio\\features.py:336: ShapeSkipWarning: Invalid or empty shape {'type': 'Polygon', 'coordinates': ()} at index 0 will not be rasterized.\n",
      "  warnings.warn(\n",
      "c:\\wbg\\Anaconda3\\envs\\s2s_ingest\\lib\\site-packages\\rasterio\\transform.py:410: RuntimeWarning: invalid value encountered in cast\n",
      "  new_rows = np.floor(new_rows).astype(dtype=\"int32\")\n",
      "c:\\wbg\\Anaconda3\\envs\\s2s_ingest\\lib\\site-packages\\rasterio\\transform.py:411: RuntimeWarning: invalid value encountered in cast\n",
      "  new_cols = np.floor(new_cols).astype(dtype=\"int32\")\n",
      "c:\\wbg\\Anaconda3\\envs\\s2s_ingest\\lib\\site-packages\\rasterio\\features.py:336: ShapeSkipWarning: Invalid or empty shape {'type': 'Polygon', 'coordinates': ()} at index 0 will not be rasterized.\n",
      "  warnings.warn(\n",
      "c:\\wbg\\Anaconda3\\envs\\s2s_ingest\\lib\\site-packages\\rasterio\\transform.py:410: RuntimeWarning: invalid value encountered in cast\n",
      "  new_rows = np.floor(new_rows).astype(dtype=\"int32\")\n",
      "c:\\wbg\\Anaconda3\\envs\\s2s_ingest\\lib\\site-packages\\rasterio\\transform.py:411: RuntimeWarning: invalid value encountered in cast\n",
      "  new_cols = np.floor(new_cols).astype(dtype=\"int32\")\n",
      "c:\\wbg\\Anaconda3\\envs\\s2s_ingest\\lib\\site-packages\\rasterio\\features.py:336: ShapeSkipWarning: Invalid or empty shape {'type': 'Polygon', 'coordinates': ()} at index 0 will not be rasterized.\n",
      "  warnings.warn(\n",
      "c:\\wbg\\Anaconda3\\envs\\s2s_ingest\\lib\\site-packages\\rasterio\\transform.py:410: RuntimeWarning: invalid value encountered in cast\n",
      "  new_rows = np.floor(new_rows).astype(dtype=\"int32\")\n",
      "c:\\wbg\\Anaconda3\\envs\\s2s_ingest\\lib\\site-packages\\rasterio\\transform.py:411: RuntimeWarning: invalid value encountered in cast\n",
      "  new_cols = np.floor(new_cols).astype(dtype=\"int32\")\n",
      "c:\\wbg\\Anaconda3\\envs\\s2s_ingest\\lib\\site-packages\\rasterio\\features.py:336: ShapeSkipWarning: Invalid or empty shape {'type': 'Polygon', 'coordinates': ()} at index 0 will not be rasterized.\n",
      "  warnings.warn(\n"
     ]
    },
    {
     "name": "stdout",
     "output_type": "stream",
     "text": [
      "19:28:49\tProcessing Colcx.geojson with mapbiomas_colombia_2020.tif\n"
     ]
    },
    {
     "name": "stderr",
     "output_type": "stream",
     "text": [
      "c:\\wbg\\Anaconda3\\envs\\s2s_ingest\\lib\\site-packages\\rasterio\\transform.py:410: RuntimeWarning: invalid value encountered in cast\n",
      "  new_rows = np.floor(new_rows).astype(dtype=\"int32\")\n",
      "c:\\wbg\\Anaconda3\\envs\\s2s_ingest\\lib\\site-packages\\rasterio\\transform.py:411: RuntimeWarning: invalid value encountered in cast\n",
      "  new_cols = np.floor(new_cols).astype(dtype=\"int32\")\n",
      "c:\\wbg\\Anaconda3\\envs\\s2s_ingest\\lib\\site-packages\\rasterio\\features.py:336: ShapeSkipWarning: Invalid or empty shape {'type': 'Polygon', 'coordinates': ()} at index 0 will not be rasterized.\n",
      "  warnings.warn(\n",
      "c:\\wbg\\Anaconda3\\envs\\s2s_ingest\\lib\\site-packages\\rasterio\\transform.py:410: RuntimeWarning: invalid value encountered in cast\n",
      "  new_rows = np.floor(new_rows).astype(dtype=\"int32\")\n",
      "c:\\wbg\\Anaconda3\\envs\\s2s_ingest\\lib\\site-packages\\rasterio\\transform.py:411: RuntimeWarning: invalid value encountered in cast\n",
      "  new_cols = np.floor(new_cols).astype(dtype=\"int32\")\n",
      "c:\\wbg\\Anaconda3\\envs\\s2s_ingest\\lib\\site-packages\\rasterio\\features.py:336: ShapeSkipWarning: Invalid or empty shape {'type': 'Polygon', 'coordinates': ()} at index 0 will not be rasterized.\n",
      "  warnings.warn(\n"
     ]
    },
    {
     "name": "stdout",
     "output_type": "stream",
     "text": [
      "19:28:51\tProcessing Colombia Municipalities.geojson with mapbiomas_colombia_2020.tif\n",
      "19:30:24\tProcessing Verra.geojson with mapbiomas_colombia_2020.tif\n",
      "19:31:43\tProcessing BioCarbon.geojson with mapbiomas_colombia_2021.tif\n",
      "19:31:50\tProcessing Cercarbono.geojson with mapbiomas_colombia_2021.tif\n"
     ]
    },
    {
     "name": "stderr",
     "output_type": "stream",
     "text": [
      "c:\\wbg\\Anaconda3\\envs\\s2s_ingest\\lib\\site-packages\\pyogrio\\raw.py:198: RuntimeWarning: Non closed ring detected. To avoid accepting it, set the OGR_GEOMETRY_ACCEPT_UNCLOSED_RING configuration option to NO\n",
      "  return ogr_read(\n",
      "c:\\wbg\\Anaconda3\\envs\\s2s_ingest\\lib\\site-packages\\rasterio\\transform.py:410: RuntimeWarning: invalid value encountered in cast\n",
      "  new_rows = np.floor(new_rows).astype(dtype=\"int32\")\n",
      "c:\\wbg\\Anaconda3\\envs\\s2s_ingest\\lib\\site-packages\\rasterio\\transform.py:411: RuntimeWarning: invalid value encountered in cast\n",
      "  new_cols = np.floor(new_cols).astype(dtype=\"int32\")\n",
      "c:\\wbg\\Anaconda3\\envs\\s2s_ingest\\lib\\site-packages\\rasterio\\features.py:336: ShapeSkipWarning: Invalid or empty shape {'type': 'Polygon', 'coordinates': ()} at index 0 will not be rasterized.\n",
      "  warnings.warn(\n",
      "c:\\wbg\\Anaconda3\\envs\\s2s_ingest\\lib\\site-packages\\rasterio\\transform.py:410: RuntimeWarning: invalid value encountered in cast\n",
      "  new_rows = np.floor(new_rows).astype(dtype=\"int32\")\n",
      "c:\\wbg\\Anaconda3\\envs\\s2s_ingest\\lib\\site-packages\\rasterio\\transform.py:411: RuntimeWarning: invalid value encountered in cast\n",
      "  new_cols = np.floor(new_cols).astype(dtype=\"int32\")\n",
      "c:\\wbg\\Anaconda3\\envs\\s2s_ingest\\lib\\site-packages\\rasterio\\features.py:336: ShapeSkipWarning: Invalid or empty shape {'type': 'Polygon', 'coordinates': ()} at index 0 will not be rasterized.\n",
      "  warnings.warn(\n",
      "c:\\wbg\\Anaconda3\\envs\\s2s_ingest\\lib\\site-packages\\rasterio\\transform.py:410: RuntimeWarning: invalid value encountered in cast\n",
      "  new_rows = np.floor(new_rows).astype(dtype=\"int32\")\n",
      "c:\\wbg\\Anaconda3\\envs\\s2s_ingest\\lib\\site-packages\\rasterio\\transform.py:411: RuntimeWarning: invalid value encountered in cast\n",
      "  new_cols = np.floor(new_cols).astype(dtype=\"int32\")\n",
      "c:\\wbg\\Anaconda3\\envs\\s2s_ingest\\lib\\site-packages\\rasterio\\features.py:336: ShapeSkipWarning: Invalid or empty shape {'type': 'Polygon', 'coordinates': ()} at index 0 will not be rasterized.\n",
      "  warnings.warn(\n",
      "c:\\wbg\\Anaconda3\\envs\\s2s_ingest\\lib\\site-packages\\rasterio\\transform.py:410: RuntimeWarning: invalid value encountered in cast\n",
      "  new_rows = np.floor(new_rows).astype(dtype=\"int32\")\n",
      "c:\\wbg\\Anaconda3\\envs\\s2s_ingest\\lib\\site-packages\\rasterio\\transform.py:411: RuntimeWarning: invalid value encountered in cast\n",
      "  new_cols = np.floor(new_cols).astype(dtype=\"int32\")\n",
      "c:\\wbg\\Anaconda3\\envs\\s2s_ingest\\lib\\site-packages\\rasterio\\features.py:336: ShapeSkipWarning: Invalid or empty shape {'type': 'Polygon', 'coordinates': ()} at index 0 will not be rasterized.\n",
      "  warnings.warn(\n"
     ]
    },
    {
     "name": "stdout",
     "output_type": "stream",
     "text": [
      "19:31:56\tProcessing Colcx.geojson with mapbiomas_colombia_2021.tif\n"
     ]
    },
    {
     "name": "stderr",
     "output_type": "stream",
     "text": [
      "c:\\wbg\\Anaconda3\\envs\\s2s_ingest\\lib\\site-packages\\rasterio\\transform.py:410: RuntimeWarning: invalid value encountered in cast\n",
      "  new_rows = np.floor(new_rows).astype(dtype=\"int32\")\n",
      "c:\\wbg\\Anaconda3\\envs\\s2s_ingest\\lib\\site-packages\\rasterio\\transform.py:411: RuntimeWarning: invalid value encountered in cast\n",
      "  new_cols = np.floor(new_cols).astype(dtype=\"int32\")\n",
      "c:\\wbg\\Anaconda3\\envs\\s2s_ingest\\lib\\site-packages\\rasterio\\features.py:336: ShapeSkipWarning: Invalid or empty shape {'type': 'Polygon', 'coordinates': ()} at index 0 will not be rasterized.\n",
      "  warnings.warn(\n",
      "c:\\wbg\\Anaconda3\\envs\\s2s_ingest\\lib\\site-packages\\rasterio\\transform.py:410: RuntimeWarning: invalid value encountered in cast\n",
      "  new_rows = np.floor(new_rows).astype(dtype=\"int32\")\n",
      "c:\\wbg\\Anaconda3\\envs\\s2s_ingest\\lib\\site-packages\\rasterio\\transform.py:411: RuntimeWarning: invalid value encountered in cast\n",
      "  new_cols = np.floor(new_cols).astype(dtype=\"int32\")\n",
      "c:\\wbg\\Anaconda3\\envs\\s2s_ingest\\lib\\site-packages\\rasterio\\features.py:336: ShapeSkipWarning: Invalid or empty shape {'type': 'Polygon', 'coordinates': ()} at index 0 will not be rasterized.\n",
      "  warnings.warn(\n"
     ]
    },
    {
     "name": "stdout",
     "output_type": "stream",
     "text": [
      "19:31:57\tProcessing Colombia Municipalities.geojson with mapbiomas_colombia_2021.tif\n",
      "19:33:29\tProcessing Verra.geojson with mapbiomas_colombia_2021.tif\n",
      "19:34:48\tProcessing BioCarbon.geojson with mapbiomas_colombia_2022.tif\n",
      "19:34:54\tProcessing Cercarbono.geojson with mapbiomas_colombia_2022.tif\n"
     ]
    },
    {
     "name": "stderr",
     "output_type": "stream",
     "text": [
      "c:\\wbg\\Anaconda3\\envs\\s2s_ingest\\lib\\site-packages\\pyogrio\\raw.py:198: RuntimeWarning: Non closed ring detected. To avoid accepting it, set the OGR_GEOMETRY_ACCEPT_UNCLOSED_RING configuration option to NO\n",
      "  return ogr_read(\n",
      "c:\\wbg\\Anaconda3\\envs\\s2s_ingest\\lib\\site-packages\\rasterio\\transform.py:410: RuntimeWarning: invalid value encountered in cast\n",
      "  new_rows = np.floor(new_rows).astype(dtype=\"int32\")\n",
      "c:\\wbg\\Anaconda3\\envs\\s2s_ingest\\lib\\site-packages\\rasterio\\transform.py:411: RuntimeWarning: invalid value encountered in cast\n",
      "  new_cols = np.floor(new_cols).astype(dtype=\"int32\")\n",
      "c:\\wbg\\Anaconda3\\envs\\s2s_ingest\\lib\\site-packages\\rasterio\\features.py:336: ShapeSkipWarning: Invalid or empty shape {'type': 'Polygon', 'coordinates': ()} at index 0 will not be rasterized.\n",
      "  warnings.warn(\n",
      "c:\\wbg\\Anaconda3\\envs\\s2s_ingest\\lib\\site-packages\\rasterio\\transform.py:410: RuntimeWarning: invalid value encountered in cast\n",
      "  new_rows = np.floor(new_rows).astype(dtype=\"int32\")\n",
      "c:\\wbg\\Anaconda3\\envs\\s2s_ingest\\lib\\site-packages\\rasterio\\transform.py:411: RuntimeWarning: invalid value encountered in cast\n",
      "  new_cols = np.floor(new_cols).astype(dtype=\"int32\")\n",
      "c:\\wbg\\Anaconda3\\envs\\s2s_ingest\\lib\\site-packages\\rasterio\\features.py:336: ShapeSkipWarning: Invalid or empty shape {'type': 'Polygon', 'coordinates': ()} at index 0 will not be rasterized.\n",
      "  warnings.warn(\n",
      "c:\\wbg\\Anaconda3\\envs\\s2s_ingest\\lib\\site-packages\\rasterio\\transform.py:410: RuntimeWarning: invalid value encountered in cast\n",
      "  new_rows = np.floor(new_rows).astype(dtype=\"int32\")\n",
      "c:\\wbg\\Anaconda3\\envs\\s2s_ingest\\lib\\site-packages\\rasterio\\transform.py:411: RuntimeWarning: invalid value encountered in cast\n",
      "  new_cols = np.floor(new_cols).astype(dtype=\"int32\")\n",
      "c:\\wbg\\Anaconda3\\envs\\s2s_ingest\\lib\\site-packages\\rasterio\\features.py:336: ShapeSkipWarning: Invalid or empty shape {'type': 'Polygon', 'coordinates': ()} at index 0 will not be rasterized.\n",
      "  warnings.warn(\n",
      "c:\\wbg\\Anaconda3\\envs\\s2s_ingest\\lib\\site-packages\\rasterio\\transform.py:410: RuntimeWarning: invalid value encountered in cast\n",
      "  new_rows = np.floor(new_rows).astype(dtype=\"int32\")\n",
      "c:\\wbg\\Anaconda3\\envs\\s2s_ingest\\lib\\site-packages\\rasterio\\transform.py:411: RuntimeWarning: invalid value encountered in cast\n",
      "  new_cols = np.floor(new_cols).astype(dtype=\"int32\")\n",
      "c:\\wbg\\Anaconda3\\envs\\s2s_ingest\\lib\\site-packages\\rasterio\\features.py:336: ShapeSkipWarning: Invalid or empty shape {'type': 'Polygon', 'coordinates': ()} at index 0 will not be rasterized.\n",
      "  warnings.warn(\n"
     ]
    },
    {
     "name": "stdout",
     "output_type": "stream",
     "text": [
      "19:35:00\tProcessing Colcx.geojson with mapbiomas_colombia_2022.tif\n"
     ]
    },
    {
     "name": "stderr",
     "output_type": "stream",
     "text": [
      "c:\\wbg\\Anaconda3\\envs\\s2s_ingest\\lib\\site-packages\\rasterio\\transform.py:410: RuntimeWarning: invalid value encountered in cast\n",
      "  new_rows = np.floor(new_rows).astype(dtype=\"int32\")\n",
      "c:\\wbg\\Anaconda3\\envs\\s2s_ingest\\lib\\site-packages\\rasterio\\transform.py:411: RuntimeWarning: invalid value encountered in cast\n",
      "  new_cols = np.floor(new_cols).astype(dtype=\"int32\")\n",
      "c:\\wbg\\Anaconda3\\envs\\s2s_ingest\\lib\\site-packages\\rasterio\\features.py:336: ShapeSkipWarning: Invalid or empty shape {'type': 'Polygon', 'coordinates': ()} at index 0 will not be rasterized.\n",
      "  warnings.warn(\n",
      "c:\\wbg\\Anaconda3\\envs\\s2s_ingest\\lib\\site-packages\\rasterio\\transform.py:410: RuntimeWarning: invalid value encountered in cast\n",
      "  new_rows = np.floor(new_rows).astype(dtype=\"int32\")\n",
      "c:\\wbg\\Anaconda3\\envs\\s2s_ingest\\lib\\site-packages\\rasterio\\transform.py:411: RuntimeWarning: invalid value encountered in cast\n",
      "  new_cols = np.floor(new_cols).astype(dtype=\"int32\")\n",
      "c:\\wbg\\Anaconda3\\envs\\s2s_ingest\\lib\\site-packages\\rasterio\\features.py:336: ShapeSkipWarning: Invalid or empty shape {'type': 'Polygon', 'coordinates': ()} at index 0 will not be rasterized.\n",
      "  warnings.warn(\n"
     ]
    },
    {
     "name": "stdout",
     "output_type": "stream",
     "text": [
      "19:35:01\tProcessing Colombia Municipalities.geojson with mapbiomas_colombia_2022.tif\n",
      "19:36:33\tProcessing Verra.geojson with mapbiomas_colombia_2022.tif\n",
      "19:37:51\tProcessing BioCarbon.geojson with mapbiomas_colombia_2023.tif\n",
      "19:37:58\tProcessing Cercarbono.geojson with mapbiomas_colombia_2023.tif\n"
     ]
    },
    {
     "name": "stderr",
     "output_type": "stream",
     "text": [
      "c:\\wbg\\Anaconda3\\envs\\s2s_ingest\\lib\\site-packages\\pyogrio\\raw.py:198: RuntimeWarning: Non closed ring detected. To avoid accepting it, set the OGR_GEOMETRY_ACCEPT_UNCLOSED_RING configuration option to NO\n",
      "  return ogr_read(\n",
      "c:\\wbg\\Anaconda3\\envs\\s2s_ingest\\lib\\site-packages\\rasterio\\transform.py:410: RuntimeWarning: invalid value encountered in cast\n",
      "  new_rows = np.floor(new_rows).astype(dtype=\"int32\")\n",
      "c:\\wbg\\Anaconda3\\envs\\s2s_ingest\\lib\\site-packages\\rasterio\\transform.py:411: RuntimeWarning: invalid value encountered in cast\n",
      "  new_cols = np.floor(new_cols).astype(dtype=\"int32\")\n",
      "c:\\wbg\\Anaconda3\\envs\\s2s_ingest\\lib\\site-packages\\rasterio\\features.py:336: ShapeSkipWarning: Invalid or empty shape {'type': 'Polygon', 'coordinates': ()} at index 0 will not be rasterized.\n",
      "  warnings.warn(\n",
      "c:\\wbg\\Anaconda3\\envs\\s2s_ingest\\lib\\site-packages\\rasterio\\transform.py:410: RuntimeWarning: invalid value encountered in cast\n",
      "  new_rows = np.floor(new_rows).astype(dtype=\"int32\")\n",
      "c:\\wbg\\Anaconda3\\envs\\s2s_ingest\\lib\\site-packages\\rasterio\\transform.py:411: RuntimeWarning: invalid value encountered in cast\n",
      "  new_cols = np.floor(new_cols).astype(dtype=\"int32\")\n",
      "c:\\wbg\\Anaconda3\\envs\\s2s_ingest\\lib\\site-packages\\rasterio\\features.py:336: ShapeSkipWarning: Invalid or empty shape {'type': 'Polygon', 'coordinates': ()} at index 0 will not be rasterized.\n",
      "  warnings.warn(\n",
      "c:\\wbg\\Anaconda3\\envs\\s2s_ingest\\lib\\site-packages\\rasterio\\transform.py:410: RuntimeWarning: invalid value encountered in cast\n",
      "  new_rows = np.floor(new_rows).astype(dtype=\"int32\")\n",
      "c:\\wbg\\Anaconda3\\envs\\s2s_ingest\\lib\\site-packages\\rasterio\\transform.py:411: RuntimeWarning: invalid value encountered in cast\n",
      "  new_cols = np.floor(new_cols).astype(dtype=\"int32\")\n",
      "c:\\wbg\\Anaconda3\\envs\\s2s_ingest\\lib\\site-packages\\rasterio\\features.py:336: ShapeSkipWarning: Invalid or empty shape {'type': 'Polygon', 'coordinates': ()} at index 0 will not be rasterized.\n",
      "  warnings.warn(\n",
      "c:\\wbg\\Anaconda3\\envs\\s2s_ingest\\lib\\site-packages\\rasterio\\transform.py:410: RuntimeWarning: invalid value encountered in cast\n",
      "  new_rows = np.floor(new_rows).astype(dtype=\"int32\")\n",
      "c:\\wbg\\Anaconda3\\envs\\s2s_ingest\\lib\\site-packages\\rasterio\\transform.py:411: RuntimeWarning: invalid value encountered in cast\n",
      "  new_cols = np.floor(new_cols).astype(dtype=\"int32\")\n",
      "c:\\wbg\\Anaconda3\\envs\\s2s_ingest\\lib\\site-packages\\rasterio\\features.py:336: ShapeSkipWarning: Invalid or empty shape {'type': 'Polygon', 'coordinates': ()} at index 0 will not be rasterized.\n",
      "  warnings.warn(\n"
     ]
    },
    {
     "name": "stdout",
     "output_type": "stream",
     "text": [
      "19:38:03\tProcessing Colcx.geojson with mapbiomas_colombia_2023.tif\n"
     ]
    },
    {
     "name": "stderr",
     "output_type": "stream",
     "text": [
      "c:\\wbg\\Anaconda3\\envs\\s2s_ingest\\lib\\site-packages\\rasterio\\transform.py:410: RuntimeWarning: invalid value encountered in cast\n",
      "  new_rows = np.floor(new_rows).astype(dtype=\"int32\")\n",
      "c:\\wbg\\Anaconda3\\envs\\s2s_ingest\\lib\\site-packages\\rasterio\\transform.py:411: RuntimeWarning: invalid value encountered in cast\n",
      "  new_cols = np.floor(new_cols).astype(dtype=\"int32\")\n",
      "c:\\wbg\\Anaconda3\\envs\\s2s_ingest\\lib\\site-packages\\rasterio\\features.py:336: ShapeSkipWarning: Invalid or empty shape {'type': 'Polygon', 'coordinates': ()} at index 0 will not be rasterized.\n",
      "  warnings.warn(\n",
      "c:\\wbg\\Anaconda3\\envs\\s2s_ingest\\lib\\site-packages\\rasterio\\transform.py:410: RuntimeWarning: invalid value encountered in cast\n",
      "  new_rows = np.floor(new_rows).astype(dtype=\"int32\")\n",
      "c:\\wbg\\Anaconda3\\envs\\s2s_ingest\\lib\\site-packages\\rasterio\\transform.py:411: RuntimeWarning: invalid value encountered in cast\n",
      "  new_cols = np.floor(new_cols).astype(dtype=\"int32\")\n",
      "c:\\wbg\\Anaconda3\\envs\\s2s_ingest\\lib\\site-packages\\rasterio\\features.py:336: ShapeSkipWarning: Invalid or empty shape {'type': 'Polygon', 'coordinates': ()} at index 0 will not be rasterized.\n",
      "  warnings.warn(\n"
     ]
    },
    {
     "name": "stdout",
     "output_type": "stream",
     "text": [
      "19:38:05\tProcessing Colombia Municipalities.geojson with mapbiomas_colombia_2023.tif\n",
      "19:39:36\tProcessing Verra.geojson with mapbiomas_colombia_2023.tif\n"
     ]
    }
   ],
   "source": [
    "for lc_tiff in lc_tiffs:\n",
    "    cur_tiff = rasterio.open(lc_tiff)\n",
    "    all_res = []\n",
    "    for aoi_file in aoi_files:\n",
    "        tPrint(\n",
    "            f\"Processing {os.path.basename(aoi_file)} with {os.path.basename(lc_tiff)}\"\n",
    "        )\n",
    "        aoi = gpd.read_file(aoi_file)\n",
    "        if aoi.crs != cur_tiff.crs:\n",
    "            aoi = aoi.to_crs(cur_tiff.crs)\n",
    "        res = rMisc.zonalStats(aoi, cur_tiff, rastType=\"C\", unqVals=lc_unq)\n",
    "        res = pd.DataFrame(res, columns=[f\"c{x}\" for x in lc_unq])\n",
    "        for col in res.columns:\n",
    "            aoi[col] = res[col].values\n",
    "        all_res.append(aoi)\n",
    "    cur_year_res = pd.concat(all_res)\n",
    "    cur_year_res.to_csv(\n",
    "        os.path.join(zonal_output_folder, f\"{os.path.basename(lc_tiff)}_zonal.csv\"),\n",
    "        index=False,\n",
    "    )"
   ]
  },
  {
   "cell_type": "code",
   "execution_count": 36,
   "metadata": {},
   "outputs": [
    {
     "data": {
      "text/html": [
       "<div>\n",
       "<style scoped>\n",
       "    .dataframe tbody tr th:only-of-type {\n",
       "        vertical-align: middle;\n",
       "    }\n",
       "\n",
       "    .dataframe tbody tr th {\n",
       "        vertical-align: top;\n",
       "    }\n",
       "\n",
       "    .dataframe thead th {\n",
       "        text-align: right;\n",
       "    }\n",
       "</style>\n",
       "<table border=\"1\" class=\"dataframe\">\n",
       "  <thead>\n",
       "    <tr style=\"text-align: right;\">\n",
       "      <th></th>\n",
       "      <th>Name</th>\n",
       "      <th>Description</th>\n",
       "      <th>source</th>\n",
       "      <th>source_file</th>\n",
       "      <th>geometry</th>\n",
       "      <th>c1</th>\n",
       "      <th>c3</th>\n",
       "      <th>c5</th>\n",
       "      <th>c6</th>\n",
       "      <th>c49</th>\n",
       "      <th>...</th>\n",
       "      <th>c23</th>\n",
       "      <th>c24</th>\n",
       "      <th>c30</th>\n",
       "      <th>c68</th>\n",
       "      <th>c25</th>\n",
       "      <th>c26</th>\n",
       "      <th>c33</th>\n",
       "      <th>c31</th>\n",
       "      <th>c34</th>\n",
       "      <th>c27</th>\n",
       "    </tr>\n",
       "  </thead>\n",
       "  <tbody>\n",
       "    <tr>\n",
       "      <th>0</th>\n",
       "      <td>Monterrey</td>\n",
       "      <td>&lt;html xmlns:fo=\"http://www.w3.org/1999/XSL/For...</td>\n",
       "      <td>BioCarbon</td>\n",
       "      <td>BCR-CO-173-14-001.kml</td>\n",
       "      <td>MULTIPOLYGON Z (((-74.90459 9.67208 0, -74.905...</td>\n",
       "      <td>0</td>\n",
       "      <td>53922</td>\n",
       "      <td>0</td>\n",
       "      <td>380</td>\n",
       "      <td>0</td>\n",
       "      <td>...</td>\n",
       "      <td>0</td>\n",
       "      <td>16</td>\n",
       "      <td>37</td>\n",
       "      <td>0</td>\n",
       "      <td>36</td>\n",
       "      <td>0</td>\n",
       "      <td>782</td>\n",
       "      <td>0</td>\n",
       "      <td>0</td>\n",
       "      <td>0</td>\n",
       "    </tr>\n",
       "    <tr>\n",
       "      <th>1</th>\n",
       "      <td>Punto Nuevo</td>\n",
       "      <td>&lt;html xmlns:fo=\"http://www.w3.org/1999/XSL/For...</td>\n",
       "      <td>BioCarbon</td>\n",
       "      <td>BCR-CO-173-14-001.kml</td>\n",
       "      <td>POLYGON Z ((-73.91527 9.84866 0, -73.91513 9.8...</td>\n",
       "      <td>0</td>\n",
       "      <td>601</td>\n",
       "      <td>0</td>\n",
       "      <td>216</td>\n",
       "      <td>0</td>\n",
       "      <td>...</td>\n",
       "      <td>0</td>\n",
       "      <td>0</td>\n",
       "      <td>0</td>\n",
       "      <td>0</td>\n",
       "      <td>0</td>\n",
       "      <td>0</td>\n",
       "      <td>0</td>\n",
       "      <td>0</td>\n",
       "      <td>0</td>\n",
       "      <td>0</td>\n",
       "    </tr>\n",
       "    <tr>\n",
       "      <th>2</th>\n",
       "      <td></td>\n",
       "      <td></td>\n",
       "      <td>BioCarbon</td>\n",
       "      <td>BCR-CO-259-14-002.kml</td>\n",
       "      <td>POLYGON ((-71.69321 3.66253, -71.6928 3.6628, ...</td>\n",
       "      <td>0</td>\n",
       "      <td>9</td>\n",
       "      <td>0</td>\n",
       "      <td>19</td>\n",
       "      <td>0</td>\n",
       "      <td>...</td>\n",
       "      <td>0</td>\n",
       "      <td>0</td>\n",
       "      <td>0</td>\n",
       "      <td>0</td>\n",
       "      <td>0</td>\n",
       "      <td>0</td>\n",
       "      <td>0</td>\n",
       "      <td>0</td>\n",
       "      <td>0</td>\n",
       "      <td>0</td>\n",
       "    </tr>\n",
       "    <tr>\n",
       "      <th>3</th>\n",
       "      <td></td>\n",
       "      <td></td>\n",
       "      <td>BioCarbon</td>\n",
       "      <td>BCR-CO-259-14-002.kml</td>\n",
       "      <td>MULTIPOLYGON (((-71.66731 3.65838, -71.66726 3...</td>\n",
       "      <td>0</td>\n",
       "      <td>3</td>\n",
       "      <td>0</td>\n",
       "      <td>38</td>\n",
       "      <td>0</td>\n",
       "      <td>...</td>\n",
       "      <td>0</td>\n",
       "      <td>0</td>\n",
       "      <td>0</td>\n",
       "      <td>0</td>\n",
       "      <td>0</td>\n",
       "      <td>0</td>\n",
       "      <td>0</td>\n",
       "      <td>0</td>\n",
       "      <td>0</td>\n",
       "      <td>0</td>\n",
       "    </tr>\n",
       "    <tr>\n",
       "      <th>4</th>\n",
       "      <td></td>\n",
       "      <td></td>\n",
       "      <td>BioCarbon</td>\n",
       "      <td>BCR-CO-259-14-002.kml</td>\n",
       "      <td>POLYGON ((-71.71204 3.64704, -71.71237 3.64713...</td>\n",
       "      <td>0</td>\n",
       "      <td>0</td>\n",
       "      <td>0</td>\n",
       "      <td>1</td>\n",
       "      <td>0</td>\n",
       "      <td>...</td>\n",
       "      <td>0</td>\n",
       "      <td>0</td>\n",
       "      <td>0</td>\n",
       "      <td>0</td>\n",
       "      <td>0</td>\n",
       "      <td>0</td>\n",
       "      <td>0</td>\n",
       "      <td>0</td>\n",
       "      <td>0</td>\n",
       "      <td>0</td>\n",
       "    </tr>\n",
       "    <tr>\n",
       "      <th>...</th>\n",
       "      <td>...</td>\n",
       "      <td>...</td>\n",
       "      <td>...</td>\n",
       "      <td>...</td>\n",
       "      <td>...</td>\n",
       "      <td>...</td>\n",
       "      <td>...</td>\n",
       "      <td>...</td>\n",
       "      <td>...</td>\n",
       "      <td>...</td>\n",
       "      <td>...</td>\n",
       "      <td>...</td>\n",
       "      <td>...</td>\n",
       "      <td>...</td>\n",
       "      <td>...</td>\n",
       "      <td>...</td>\n",
       "      <td>...</td>\n",
       "      <td>...</td>\n",
       "      <td>...</td>\n",
       "      <td>...</td>\n",
       "      <td>...</td>\n",
       "    </tr>\n",
       "    <tr>\n",
       "      <th>2005</th>\n",
       "      <td>Lote 6</td>\n",
       "      <td>&lt;html xmlns:fo=\"http://www.w3.org/1999/XSL/For...</td>\n",
       "      <td>BioCarbon</td>\n",
       "      <td>PCR-CO-JCR-14-001.kml</td>\n",
       "      <td>POLYGON Z ((-76.54741 8.68028 0, -76.54731 8.6...</td>\n",
       "      <td>0</td>\n",
       "      <td>2</td>\n",
       "      <td>0</td>\n",
       "      <td>0</td>\n",
       "      <td>0</td>\n",
       "      <td>...</td>\n",
       "      <td>0</td>\n",
       "      <td>0</td>\n",
       "      <td>0</td>\n",
       "      <td>0</td>\n",
       "      <td>0</td>\n",
       "      <td>0</td>\n",
       "      <td>0</td>\n",
       "      <td>0</td>\n",
       "      <td>0</td>\n",
       "      <td>0</td>\n",
       "    </tr>\n",
       "    <tr>\n",
       "      <th>2006</th>\n",
       "      <td>Lote 6</td>\n",
       "      <td>&lt;html xmlns:fo=\"http://www.w3.org/1999/XSL/For...</td>\n",
       "      <td>BioCarbon</td>\n",
       "      <td>PCR-CO-JCR-14-001.kml</td>\n",
       "      <td>POLYGON Z ((-76.54706 8.68031 0, -76.54731 8.6...</td>\n",
       "      <td>0</td>\n",
       "      <td>0</td>\n",
       "      <td>0</td>\n",
       "      <td>0</td>\n",
       "      <td>0</td>\n",
       "      <td>...</td>\n",
       "      <td>0</td>\n",
       "      <td>0</td>\n",
       "      <td>0</td>\n",
       "      <td>0</td>\n",
       "      <td>0</td>\n",
       "      <td>0</td>\n",
       "      <td>0</td>\n",
       "      <td>0</td>\n",
       "      <td>0</td>\n",
       "      <td>0</td>\n",
       "    </tr>\n",
       "    <tr>\n",
       "      <th>2007</th>\n",
       "      <td>Lote 8a</td>\n",
       "      <td>&lt;html xmlns:fo=\"http://www.w3.org/1999/XSL/For...</td>\n",
       "      <td>BioCarbon</td>\n",
       "      <td>PCR-CO-JCR-14-001.kml</td>\n",
       "      <td>POLYGON Z ((-76.54637 8.67625 0, -76.54668 8.6...</td>\n",
       "      <td>0</td>\n",
       "      <td>1</td>\n",
       "      <td>0</td>\n",
       "      <td>0</td>\n",
       "      <td>0</td>\n",
       "      <td>...</td>\n",
       "      <td>0</td>\n",
       "      <td>0</td>\n",
       "      <td>0</td>\n",
       "      <td>0</td>\n",
       "      <td>0</td>\n",
       "      <td>0</td>\n",
       "      <td>0</td>\n",
       "      <td>0</td>\n",
       "      <td>0</td>\n",
       "      <td>0</td>\n",
       "    </tr>\n",
       "    <tr>\n",
       "      <th>2008</th>\n",
       "      <td>Lote 8a</td>\n",
       "      <td>&lt;html xmlns:fo=\"http://www.w3.org/1999/XSL/For...</td>\n",
       "      <td>BioCarbon</td>\n",
       "      <td>PCR-CO-JCR-14-001.kml</td>\n",
       "      <td>POLYGON Z ((-76.54771 8.67705 0, -76.54769 8.6...</td>\n",
       "      <td>0</td>\n",
       "      <td>0</td>\n",
       "      <td>0</td>\n",
       "      <td>0</td>\n",
       "      <td>0</td>\n",
       "      <td>...</td>\n",
       "      <td>0</td>\n",
       "      <td>0</td>\n",
       "      <td>0</td>\n",
       "      <td>0</td>\n",
       "      <td>0</td>\n",
       "      <td>0</td>\n",
       "      <td>0</td>\n",
       "      <td>0</td>\n",
       "      <td>0</td>\n",
       "      <td>0</td>\n",
       "    </tr>\n",
       "    <tr>\n",
       "      <th>2009</th>\n",
       "      <td>Lote 8a</td>\n",
       "      <td>&lt;html xmlns:fo=\"http://www.w3.org/1999/XSL/For...</td>\n",
       "      <td>BioCarbon</td>\n",
       "      <td>PCR-CO-JCR-14-001.kml</td>\n",
       "      <td>POLYGON Z ((-76.55019 8.67642 0, -76.55031 8.6...</td>\n",
       "      <td>0</td>\n",
       "      <td>0</td>\n",
       "      <td>0</td>\n",
       "      <td>0</td>\n",
       "      <td>0</td>\n",
       "      <td>...</td>\n",
       "      <td>0</td>\n",
       "      <td>0</td>\n",
       "      <td>0</td>\n",
       "      <td>0</td>\n",
       "      <td>0</td>\n",
       "      <td>0</td>\n",
       "      <td>0</td>\n",
       "      <td>0</td>\n",
       "      <td>0</td>\n",
       "      <td>0</td>\n",
       "    </tr>\n",
       "  </tbody>\n",
       "</table>\n",
       "<p>2010 rows × 32 columns</p>\n",
       "</div>"
      ],
      "text/plain": [
       "             Name                                        Description  \\\n",
       "0       Monterrey  <html xmlns:fo=\"http://www.w3.org/1999/XSL/For...   \n",
       "1     Punto Nuevo  <html xmlns:fo=\"http://www.w3.org/1999/XSL/For...   \n",
       "2                                                                      \n",
       "3                                                                      \n",
       "4                                                                      \n",
       "...           ...                                                ...   \n",
       "2005       Lote 6  <html xmlns:fo=\"http://www.w3.org/1999/XSL/For...   \n",
       "2006       Lote 6  <html xmlns:fo=\"http://www.w3.org/1999/XSL/For...   \n",
       "2007      Lote 8a  <html xmlns:fo=\"http://www.w3.org/1999/XSL/For...   \n",
       "2008      Lote 8a  <html xmlns:fo=\"http://www.w3.org/1999/XSL/For...   \n",
       "2009      Lote 8a  <html xmlns:fo=\"http://www.w3.org/1999/XSL/For...   \n",
       "\n",
       "         source            source_file  \\\n",
       "0     BioCarbon  BCR-CO-173-14-001.kml   \n",
       "1     BioCarbon  BCR-CO-173-14-001.kml   \n",
       "2     BioCarbon  BCR-CO-259-14-002.kml   \n",
       "3     BioCarbon  BCR-CO-259-14-002.kml   \n",
       "4     BioCarbon  BCR-CO-259-14-002.kml   \n",
       "...         ...                    ...   \n",
       "2005  BioCarbon  PCR-CO-JCR-14-001.kml   \n",
       "2006  BioCarbon  PCR-CO-JCR-14-001.kml   \n",
       "2007  BioCarbon  PCR-CO-JCR-14-001.kml   \n",
       "2008  BioCarbon  PCR-CO-JCR-14-001.kml   \n",
       "2009  BioCarbon  PCR-CO-JCR-14-001.kml   \n",
       "\n",
       "                                               geometry  c1     c3  c5   c6  \\\n",
       "0     MULTIPOLYGON Z (((-74.90459 9.67208 0, -74.905...   0  53922   0  380   \n",
       "1     POLYGON Z ((-73.91527 9.84866 0, -73.91513 9.8...   0    601   0  216   \n",
       "2     POLYGON ((-71.69321 3.66253, -71.6928 3.6628, ...   0      9   0   19   \n",
       "3     MULTIPOLYGON (((-71.66731 3.65838, -71.66726 3...   0      3   0   38   \n",
       "4     POLYGON ((-71.71204 3.64704, -71.71237 3.64713...   0      0   0    1   \n",
       "...                                                 ...  ..    ...  ..  ...   \n",
       "2005  POLYGON Z ((-76.54741 8.68028 0, -76.54731 8.6...   0      2   0    0   \n",
       "2006  POLYGON Z ((-76.54706 8.68031 0, -76.54731 8.6...   0      0   0    0   \n",
       "2007  POLYGON Z ((-76.54637 8.67625 0, -76.54668 8.6...   0      1   0    0   \n",
       "2008  POLYGON Z ((-76.54771 8.67705 0, -76.54769 8.6...   0      0   0    0   \n",
       "2009  POLYGON Z ((-76.55019 8.67642 0, -76.55031 8.6...   0      0   0    0   \n",
       "\n",
       "      c49  ...  c23  c24  c30  c68  c25  c26  c33  c31  c34  c27  \n",
       "0       0  ...    0   16   37    0   36    0  782    0    0    0  \n",
       "1       0  ...    0    0    0    0    0    0    0    0    0    0  \n",
       "2       0  ...    0    0    0    0    0    0    0    0    0    0  \n",
       "3       0  ...    0    0    0    0    0    0    0    0    0    0  \n",
       "4       0  ...    0    0    0    0    0    0    0    0    0    0  \n",
       "...   ...  ...  ...  ...  ...  ...  ...  ...  ...  ...  ...  ...  \n",
       "2005    0  ...    0    0    0    0    0    0    0    0    0    0  \n",
       "2006    0  ...    0    0    0    0    0    0    0    0    0    0  \n",
       "2007    0  ...    0    0    0    0    0    0    0    0    0    0  \n",
       "2008    0  ...    0    0    0    0    0    0    0    0    0    0  \n",
       "2009    0  ...    0    0    0    0    0    0    0    0    0    0  \n",
       "\n",
       "[2010 rows x 32 columns]"
      ]
     },
     "execution_count": 36,
     "metadata": {},
     "output_type": "execute_result"
    }
   ],
   "source": [
    "all_res[0]"
   ]
  },
  {
   "cell_type": "code",
   "execution_count": null,
   "metadata": {},
   "outputs": [],
   "source": []
  }
 ],
 "metadata": {
  "kernelspec": {
   "display_name": "s2s_ingest",
   "language": "python",
   "name": "python3"
  },
  "language_info": {
   "codemirror_mode": {
    "name": "ipython",
    "version": 3
   },
   "file_extension": ".py",
   "mimetype": "text/x-python",
   "name": "python",
   "nbconvert_exporter": "python",
   "pygments_lexer": "ipython3",
   "version": "3.10.16"
  }
 },
 "nbformat": 4,
 "nbformat_minor": 2
}
