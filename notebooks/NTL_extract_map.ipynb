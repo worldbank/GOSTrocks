{
 "cells": [
  {
   "cell_type": "code",
   "execution_count": null,
   "metadata": {},
   "outputs": [],
   "source": [
    "import sys\n",
    "import os\n",
    "import rasterio\n",
    "import imageio\n",
    "\n",
    "import geopandas as gpd\n",
    "import matplotlib.pyplot as plt\n",
    "import rasterio.plot\n",
    "\n",
    "from shapely.geometry import Point, box\n",
    "from rasterio.windows import from_bounds\n",
    "\n",
    "sys.path.insert(0, r\"C:\\WBG\\Work\\Code\\GOSTrocks\\src\")\n",
    "\n",
    "import GOSTrocks.dataMisc as dMisc\n",
    "\n",
    "# Make jupyter notebook autoreload modules\n",
    "%load_ext autoreload\n",
    "%autoreload 2\n",
    "\n",
    "# Mute InsecureRequestWarning\n",
    "import requests\n",
    "from requests.packages.urllib3.exceptions import InsecureRequestWarning\n",
    "\n",
    "requests.packages.urllib3.disable_warnings(InsecureRequestWarning)"
   ]
  },
  {
   "cell_type": "code",
   "execution_count": null,
   "metadata": {},
   "outputs": [],
   "source": [
    "iso3 = \"MOZ\"\n",
    "out_folder = \"C:/WBG/Work/Projects/NTL_animation/{}\".format(iso3)\n",
    "ntl_data_folder = os.path.join(out_folder, \"ntl_data\")\n",
    "map_folder = os.path.join(out_folder, \"maps\")\n",
    "if not os.path.exists(map_folder):\n",
    "    os.makedirs(map_folder)\n",
    "admin0_bounds_file = r\"C:\\WBG\\Work\\data\\ADMIN\\BETTER_FORMATS\\WB_GAD_ADM0_complete.gpkg\"\n",
    "ocean_mask = r\"C:\\WBG\\Work\\data\\ADMIN\\BETTER_FORMATS\\ocean_mask.gpkg\"\n",
    "\n",
    "all_Admin = gpd.read_file(admin0_bounds_file)\n",
    "admin_bounds = all_Admin[all_Admin[\"ISO_A3\"] == iso3]\n",
    "other_admin_bounds = all_Admin[all_Admin[\"ISO_A3\"] != iso3]\n",
    "ocean_mask = gpd.read_file(ocean_mask)\n",
    "\n",
    "\"\"\"\n",
    "s2s_client = Space2StatsClient(verify_ssl=False)\n",
    "admin_bounds = s2s_client.fetch_admin_boundaries(iso3, \"ADM2\")\n",
    "\"\"\"\n",
    "all_ntl_files = dMisc.aws_search_ntl()\n",
    "# Enable if you want to download the NLT monthly files directly\n",
    "# ntl_data = ntlMisc.extract_monthly_ntl(admin_bounds, ntl_data_folder, sel_files=all_ntl_files[:2])"
   ]
  },
  {
   "cell_type": "code",
   "execution_count": null,
   "metadata": {},
   "outputs": [],
   "source": [
    "# Turn feature points into a geodataframe\n",
    "sel_points = [\n",
    "    [32.44409468679876, -25.778349011951352],\n",
    "    [32.45707495887211, -25.798569132332307],\n",
    "    [32.47687067993886, -25.881611483098663],\n",
    "]\n",
    "sel_points_geom = [Point(x) for x in sel_points]\n",
    "sel_points = gpd.GeoDataFrame(geometry=sel_points_geom, crs=4326)\n",
    "sel_points.to_file(\"C:/WBG/Work/Temp/sel_points.gpkg\", driver=\"GPKG\")"
   ]
  },
  {
   "cell_type": "code",
   "execution_count": null,
   "metadata": {},
   "outputs": [],
   "source": [
    "def map_ntl(sel_image, b, admin, ocean, out_file=\"\"):\n",
    "    year = os.path.basename(sel_image).split(\"_\")[2][:4]\n",
    "    with rasterio.Env(GDAL_HTTP_UNSAFESSL=\"YES\"):\n",
    "        selR = rasterio.open(sel_image)\n",
    "        # Set extent to the whole country\n",
    "        sel_window = from_bounds(b[0], b[1], b[2], b[3], selR.transform)\n",
    "        sel_transform = selR.window_transform(sel_window)\n",
    "\n",
    "        data = selR.read(1, window=sel_window)\n",
    "\n",
    "        fig, ax = plt.subplots(figsize=(10, 8))\n",
    "        rasterio.plot.show(\n",
    "            data, transform=sel_transform, ax=ax, cmap=\"magma\", vmin=0, vmax=50\n",
    "        )\n",
    "\n",
    "        admin.plot(\n",
    "            ax=ax, facecolor=\"black\", edgecolor=\"grey\"\n",
    "        )  # Adjust colors as needed\n",
    "        ocean.plot(ax=ax, facecolor=\"#000435\", edgecolor=\"grey\")  # Ocean mask\n",
    "        sel_points.plot(\n",
    "            ax=ax, color=\"#e1e8e3\", marker=\"x\", markersize=50, label=\"Selected Points\"\n",
    "        )  # Plot selected points\n",
    "\n",
    "        ax.set_xlim(b[0], b[2])\n",
    "        ax.set_ylim(b[1], b[3])\n",
    "        plt.text(b[2], b[3], year, fontsize=12, ha=\"right\", va=\"top\", color=\"white\")\n",
    "\n",
    "        if out_file != \"\":\n",
    "            plt.savefig(out_map, dpi=300, bbox_inches=\"tight\")\n",
    "        else:\n",
    "            plt.show()\n",
    "\n",
    "\n",
    "sel_box = box(*sel_points.total_bounds).buffer(0.1)\n",
    "map_ntl(all_ntl_files[0], sel_box.bounds, other_admin_bounds, ocean_mask)"
   ]
  },
  {
   "cell_type": "code",
   "execution_count": 25,
   "metadata": {},
   "outputs": [],
   "source": [
    "for sel_image in all_ntl_files:\n",
    "    # Open with rasterio and set environment to ignore ssl errors\n",
    "    out_map = os.path.join(\n",
    "        map_folder, \"ntl_{}.png\".format(sel_image.split(\"/\")[-1].split(\".\")[0])\n",
    "    )\n",
    "    if not os.path.exists(out_map):\n",
    "        map_ntl(sel_image, sel_box.bounds, other_admin_bounds, ocean_mask, out_map)"
   ]
  },
  {
   "cell_type": "markdown",
   "metadata": {},
   "source": [
    "# Trun produced images into an animated GIF"
   ]
  },
  {
   "cell_type": "code",
   "execution_count": 26,
   "metadata": {},
   "outputs": [
    {
     "name": "stderr",
     "output_type": "stream",
     "text": [
      "C:\\Users\\WB411133\\AppData\\Local\\Temp\\ipykernel_31692\\1055495744.py:5: DeprecationWarning: Starting with ImageIO v3 the behavior of this function will switch to that of iio.v3.imread. To keep the current behavior (and make this warning disappear) use `import imageio.v2 as imageio` or call `imageio.v2.imread` directly.\n",
      "  all_images.append(imageio.imread(f))\n"
     ]
    }
   ],
   "source": [
    "images = [\n",
    "    os.path.join(map_folder, f)\n",
    "    for f in os.listdir(map_folder)\n",
    "    if \"npp\" in f and f.endswith(\".png\")\n",
    "]\n",
    "images.sort()  # Sort images by name to ensure chronological order\n",
    "all_images = []\n",
    "for f in images:\n",
    "    all_images.append(imageio.imread(f))\n",
    "imageio.mimsave(\n",
    "    os.path.join(map_folder, \"ntl_animation.gif\"), all_images, duration=2, loop=0\n",
    ")"
   ]
  },
  {
   "cell_type": "code",
   "execution_count": null,
   "metadata": {},
   "outputs": [],
   "source": []
  }
 ],
 "metadata": {
  "kernelspec": {
   "display_name": "s2s_ingest",
   "language": "python",
   "name": "python3"
  },
  "language_info": {
   "codemirror_mode": {
    "name": "ipython",
    "version": 3
   },
   "file_extension": ".py",
   "mimetype": "text/x-python",
   "name": "python",
   "nbconvert_exporter": "python",
   "pygments_lexer": "ipython3",
   "version": "3.10.16"
  }
 },
 "nbformat": 4,
 "nbformat_minor": 2
}
