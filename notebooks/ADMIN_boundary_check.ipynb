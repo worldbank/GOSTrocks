{
 "cells": [
  {
   "cell_type": "markdown",
   "metadata": {},
   "source": [
    "# Chack delivered boundareis\n",
    "\n",
    "1. Null values in required categories (ISO3, WB_STATUS, etc)\n",
    "2. Double null values in P_CODE_1/2 and P_CODE_1/2_t\n",
    "3. Search for multi-part polygons and double check if they are real\n",
    "4. Topological errors (holes and overlaps)"
   ]
  },
  {
   "cell_type": "code",
   "execution_count": null,
   "metadata": {
    "vscode": {
     "languageId": "plaintext"
    }
   },
   "outputs": [],
   "source": []
  }
 ],
 "metadata": {
  "language_info": {
   "name": "python"
  }
 },
 "nbformat": 4,
 "nbformat_minor": 2
}
