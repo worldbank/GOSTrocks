{
 "cells": [
  {
   "cell_type": "markdown",
   "metadata": {},
   "source": [
    "# Exploring the ACLED API\n",
    "\n",
    "The dataMisc function contains code to search the ACLED API"
   ]
  },
  {
   "cell_type": "code",
   "execution_count": 3,
   "metadata": {},
   "outputs": [
    {
     "name": "stdout",
     "output_type": "stream",
     "text": [
      "The autoreload extension is already loaded. To reload it, use:\n",
      "  %reload_ext autoreload\n"
     ]
    }
   ],
   "source": [
    "import sys, os, requests, json\n",
    "import pycountry\n",
    "\n",
    "import pandas as pd\n",
    "import geopandas as gpd\n",
    "\n",
    "sys.path.insert(0, \"../src\")\n",
    "\n",
    "import GOSTrocks.dataMisc as dMisc\n",
    "\n",
    "%load_ext autoreload\n",
    "%autoreload 2"
   ]
  },
  {
   "cell_type": "code",
   "execution_count": 4,
   "metadata": {},
   "outputs": [],
   "source": [
    "creds = dMisc.get_acled_creds()\n",
    "email = creds['email']\n",
    "api_key = creds['api_key']\n",
    "\n",
    "iso3 = \"KEN\"\n",
    "country_coding = pycountry.countries.get(alpha_3=iso3)\n",
    "iso_code = country_coding.numeric\n",
    "start_date = \"2024-01-01\"\n"
   ]
  },
  {
   "cell_type": "code",
   "execution_count": 5,
   "metadata": {},
   "outputs": [
    {
     "data": {
      "text/plain": [
       "year  event_type                \n",
       "2024  Battles                        178\n",
       "      Explosions/Remote violence      25\n",
       "      Protests                      1671\n",
       "      Riots                          917\n",
       "      Strategic developments         291\n",
       "      Violence against civilians     273\n",
       "2025  Battles                         18\n",
       "      Explosions/Remote violence       4\n",
       "      Protests                       257\n",
       "      Riots                          159\n",
       "      Strategic developments          42\n",
       "      Violence against civilians      62\n",
       "Name: event_date, dtype: int64"
      ]
     },
     "execution_count": 5,
     "metadata": {},
     "output_type": "execute_result"
    }
   ],
   "source": [
    "# Fetch all ACLED events since 2024-01-01 in selected country\n",
    "acled_data = dMisc.acled_search(api_key, email, iso3=iso_code, start_date=start_date)\n",
    "acled_data.groupby(['year', 'event_type']).count()['event_date']"
   ]
  },
  {
   "cell_type": "code",
   "execution_count": 6,
   "metadata": {},
   "outputs": [],
   "source": [
    "# Fetch adm1 boundaries for selected ISO3\n",
    "# adm0 = dMisc.get_geoboundaries(iso3, \"ADM0\")\n",
    "adm1 = dMisc.get_geoboundaries(iso3, \"ADM1\")"
   ]
  },
  {
   "cell_type": "code",
   "execution_count": 7,
   "metadata": {},
   "outputs": [
    {
     "name": "stderr",
     "output_type": "stream",
     "text": [
      "C:\\Users\\WB411133\\AppData\\Local\\Temp\\ipykernel_32752\\1060312689.py:2: DeprecationWarning: The 'unary_union' attribute is deprecated, use the 'union_all()' method instead.\n",
      "  query_geom = adm1.loc[adm1['shapeName'] == \"Nairobi\"].unary_union\n"
     ]
    },
    {
     "data": {
      "text/plain": [
       "year  event_type                \n",
       "1997  Battles                        4\n",
       "      Explosions/Remote violence     1\n",
       "      Protests                       8\n",
       "      Riots                         17\n",
       "      Strategic developments         1\n",
       "                                    ..\n",
       "2025  Battles                        1\n",
       "      Protests                      47\n",
       "      Riots                         31\n",
       "      Strategic developments        13\n",
       "      Violence against civilians     8\n",
       "Name: event_date, Length: 147, dtype: int64"
      ]
     },
     "execution_count": 7,
     "metadata": {},
     "output_type": "execute_result"
    }
   ],
   "source": [
    "# Query all events that are within the capital\n",
    "query_geom = adm1.loc[adm1['shapeName'] == \"Nairobi\"].union_all()\n",
    "acled_data = dMisc.acled_search(api_key, email, bounding_box=query_geom.bounds)\n",
    "acled_data.groupby(['year', 'event_type']).count()['event_date']"
   ]
  },
  {
   "cell_type": "code",
   "execution_count": 8,
   "metadata": {},
   "outputs": [
    {
     "data": {
      "text/html": [
       "<div>\n",
       "<style scoped>\n",
       "    .dataframe tbody tr th:only-of-type {\n",
       "        vertical-align: middle;\n",
       "    }\n",
       "\n",
       "    .dataframe tbody tr th {\n",
       "        vertical-align: top;\n",
       "    }\n",
       "\n",
       "    .dataframe thead th {\n",
       "        text-align: right;\n",
       "    }\n",
       "</style>\n",
       "<table border=\"1\" class=\"dataframe\">\n",
       "  <thead>\n",
       "    <tr style=\"text-align: right;\">\n",
       "      <th></th>\n",
       "      <th></th>\n",
       "      <th>geo_precision</th>\n",
       "    </tr>\n",
       "    <tr>\n",
       "      <th>year</th>\n",
       "      <th>event_type</th>\n",
       "      <th></th>\n",
       "    </tr>\n",
       "  </thead>\n",
       "  <tbody>\n",
       "    <tr>\n",
       "      <th rowspan=\"5\" valign=\"top\">1997</th>\n",
       "      <th>Battles</th>\n",
       "      <td>4</td>\n",
       "    </tr>\n",
       "    <tr>\n",
       "      <th>Explosions/Remote violence</th>\n",
       "      <td>1</td>\n",
       "    </tr>\n",
       "    <tr>\n",
       "      <th>Protests</th>\n",
       "      <td>8</td>\n",
       "    </tr>\n",
       "    <tr>\n",
       "      <th>Riots</th>\n",
       "      <td>17</td>\n",
       "    </tr>\n",
       "    <tr>\n",
       "      <th>Strategic developments</th>\n",
       "      <td>1</td>\n",
       "    </tr>\n",
       "    <tr>\n",
       "      <th>...</th>\n",
       "      <th>...</th>\n",
       "      <td>...</td>\n",
       "    </tr>\n",
       "    <tr>\n",
       "      <th rowspan=\"5\" valign=\"top\">2025</th>\n",
       "      <th>Battles</th>\n",
       "      <td>1</td>\n",
       "    </tr>\n",
       "    <tr>\n",
       "      <th>Protests</th>\n",
       "      <td>47</td>\n",
       "    </tr>\n",
       "    <tr>\n",
       "      <th>Riots</th>\n",
       "      <td>31</td>\n",
       "    </tr>\n",
       "    <tr>\n",
       "      <th>Strategic developments</th>\n",
       "      <td>13</td>\n",
       "    </tr>\n",
       "    <tr>\n",
       "      <th>Violence against civilians</th>\n",
       "      <td>8</td>\n",
       "    </tr>\n",
       "  </tbody>\n",
       "</table>\n",
       "<p>147 rows × 1 columns</p>\n",
       "</div>"
      ],
      "text/plain": [
       "                                 geo_precision\n",
       "year event_type                               \n",
       "1997 Battles                                 4\n",
       "     Explosions/Remote violence              1\n",
       "     Protests                                8\n",
       "     Riots                                  17\n",
       "     Strategic developments                  1\n",
       "...                                        ...\n",
       "2025 Battles                                 1\n",
       "     Protests                               47\n",
       "     Riots                                  31\n",
       "     Strategic developments                 13\n",
       "     Violence against civilians              8\n",
       "\n",
       "[147 rows x 1 columns]"
      ]
     },
     "execution_count": 8,
     "metadata": {},
     "output_type": "execute_result"
    }
   ],
   "source": [
    "# Query all events that are within the capital with explicit field selection\n",
    "query_geom = adm1.loc[adm1['shapeName'] == \"Nairobi\"].union_all()\n",
    "### Defining the fields to be returned shortens the response time from 10.6 seconds to 6.2 seconds\n",
    "cled_data = dMisc.acled_search(api_key, email, bounding_box=query_geom.bounds, fields=['year','event_type', 'geo_precision'])\n",
    "acled_data.groupby(['year', 'event_type']).count()"
   ]
  },
  {
   "cell_type": "code",
   "execution_count": null,
   "metadata": {},
   "outputs": [],
   "source": [
    "acled_data"
   ]
  },
  {
   "cell_type": "code",
   "execution_count": null,
   "metadata": {},
   "outputs": [],
   "source": []
  }
 ],
 "metadata": {
  "kernelspec": {
   "display_name": "s2s",
   "language": "python",
   "name": "python3"
  },
  "language_info": {
   "codemirror_mode": {
    "name": "ipython",
    "version": 3
   },
   "file_extension": ".py",
   "mimetype": "text/x-python",
   "name": "python",
   "nbconvert_exporter": "python",
   "pygments_lexer": "ipython3",
   "version": "3.11.11"
  }
 },
 "nbformat": 4,
 "nbformat_minor": 2
}
