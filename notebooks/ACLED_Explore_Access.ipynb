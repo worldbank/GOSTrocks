{
 "cells": [
  {
   "cell_type": "markdown",
   "metadata": {},
   "source": [
    "# Exploring the ACLED API\n",
    "\n",
    "The dataMisc function contains code to search the ACLED API"
   ]
  },
  {
   "cell_type": "code",
   "execution_count": 2,
   "metadata": {},
   "outputs": [],
   "source": [
    "import sys, os, requests, json\n",
    "import pycountry\n",
    "\n",
    "import pandas as pd\n",
    "import geopandas as gpd\n",
    "\n",
    "sys.path.insert(0, \"../src\")\n",
    "\n",
    "import GOSTrocks.dataMisc as dMisc\n",
    "\n",
    "%load_ext autoreload\n",
    "%autoreload 2"
   ]
  },
  {
   "cell_type": "code",
   "execution_count": null,
   "metadata": {},
   "outputs": [],
   "source": [
    "creds = dMisc.get_acled_creds()\n",
    "email = creds['email']\n",
    "api_key = creds['api_key']\n",
    "\n",
    "iso3 = \"KEN\"\n",
    "country_coding = pycountry.countries.get(alpha_3=iso3)\n",
    "iso_code = country_coding.numeric\n",
    "start_date = \"2024-01-01\"\n"
   ]
  },
  {
   "cell_type": "code",
   "execution_count": null,
   "metadata": {},
   "outputs": [],
   "source": [
    "# Fetch all ACLED events since 2024-01-01 in selected country\n",
    "acled_data = dMisc.acled_search(api_key, email, iso3=iso_code, start_date=start_date)\n",
    "acled_data.groupby(['year', 'event_type']).count()['event_date']"
   ]
  },
  {
   "cell_type": "code",
   "execution_count": null,
   "metadata": {},
   "outputs": [],
   "source": [
    "# Fetch adm1 boundaries for selected ISO3\n",
    "# adm0 = dMisc.get_geoboundaries(iso3, \"ADM0\")\n",
    "adm1 = dMisc.get_geoboundaries(iso3, \"ADM1\")"
   ]
  },
  {
   "cell_type": "code",
   "execution_count": null,
   "metadata": {},
   "outputs": [],
   "source": [
    "# Query all events that are within the capital\n",
    "query_geom = adm1.loc[adm1['shapeName'] == \"Nairobi\"].unary_union\n",
    "acled_data = dMisc.acled_search(api_key, email, bounding_box=query_geom.bounds)\n",
    "acled_data.groupby(['year', 'event_type']).count()['event_date']"
   ]
  },
  {
   "cell_type": "code",
   "execution_count": null,
   "metadata": {},
   "outputs": [],
   "source": [
    "acled_data.shape"
   ]
  },
  {
   "cell_type": "code",
   "execution_count": null,
   "metadata": {},
   "outputs": [],
   "source": []
  }
 ],
 "metadata": {
  "kernelspec": {
   "display_name": "s2s",
   "language": "python",
   "name": "python3"
  },
  "language_info": {
   "codemirror_mode": {
    "name": "ipython",
    "version": 3
   },
   "file_extension": ".py",
   "mimetype": "text/x-python",
   "name": "python",
   "nbconvert_exporter": "python",
   "pygments_lexer": "ipython3",
   "version": "3.11.10"
  }
 },
 "nbformat": 4,
 "nbformat_minor": 2
}
