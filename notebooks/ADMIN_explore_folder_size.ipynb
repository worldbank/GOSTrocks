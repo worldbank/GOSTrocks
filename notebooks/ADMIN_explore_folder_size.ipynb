{
 "cells": [
  {
   "cell_type": "code",
   "execution_count": 11,
   "metadata": {},
   "outputs": [],
   "source": [
    "import sys\n",
    "import os\n",
    "import pandas as pd\n",
    "\n",
    "sys.path.insert(0, \"../src\")\n",
    "\n",
    "\n",
    "def get_folder_size(folder_path):\n",
    "    \"\"\"\n",
    "    Calculates the total size of a folder in bytes, including all subdirectories and files.\n",
    "\n",
    "    Args:\n",
    "        folder_path (str): The path to the folder.\n",
    "\n",
    "    Returns:\n",
    "        int: The total size of the folder in bytes.\n",
    "    \"\"\"\n",
    "    total_size = 0\n",
    "    for dirpath, dirnames, filenames in os.walk(folder_path):\n",
    "        for f in filenames:\n",
    "            fp = os.path.join(dirpath, f)\n",
    "            # Use os.path.getsize() to get the size of each file\n",
    "            # Handle potential errors like broken symbolic links or permission issues\n",
    "            try:\n",
    "                total_size += os.path.getsize(fp)\n",
    "            except (FileNotFoundError, PermissionError):\n",
    "                # Skip files that cannot be accessed\n",
    "                continue\n",
    "    return total_size"
   ]
  },
  {
   "cell_type": "code",
   "execution_count": null,
   "metadata": {},
   "outputs": [],
   "source": []
  },
  {
   "cell_type": "code",
   "execution_count": 13,
   "metadata": {},
   "outputs": [],
   "source": [
    "base_folder = \"S://Applications\"\n",
    "res = []\n",
    "for dir in os.listdir(base_folder):\n",
    "    folder_path = os.path.join(base_folder, dir)\n",
    "    if os.path.isdir(folder_path):\n",
    "        folder_size = get_folder_size(folder_path)\n",
    "        # tPrint(f\"Folder: {folder_path}, Size: {folder_size / 1e9:.2f} GB\")\n",
    "        res.append([folder_path, folder_size / 1e9])\n",
    "\n",
    "res_df = pd.DataFrame(res, columns=[\"Folder\", \"Size (GB)\"])\n",
    "res_df = res_df.sort_values(by=\"Size (GB)\", ascending=False)\n",
    "res_df"
   ]
  },
  {
   "cell_type": "code",
   "execution_count": null,
   "metadata": {},
   "outputs": [],
   "source": []
  }
 ],
 "metadata": {
  "kernelspec": {
   "display_name": "s2s_ingest",
   "language": "python",
   "name": "python3"
  },
  "language_info": {
   "codemirror_mode": {
    "name": "ipython",
    "version": 3
   },
   "file_extension": ".py",
   "mimetype": "text/x-python",
   "name": "python",
   "nbconvert_exporter": "python",
   "pygments_lexer": "ipython3",
   "version": "3.10.16"
  }
 },
 "nbformat": 4,
 "nbformat_minor": 2
}
