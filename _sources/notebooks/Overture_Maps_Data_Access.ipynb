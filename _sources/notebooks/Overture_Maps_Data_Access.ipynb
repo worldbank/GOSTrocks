{
 "cells": [
  {
   "cell_type": "code",
   "execution_count": 1,
   "metadata": {},
   "outputs": [],
   "source": [
    "# Downloading data from Overture Maps on Aamzon S3\n",
    "### Relying on https://pypi.org/project/overturemapsdownloader/"
   ]
  },
  {
   "cell_type": "code",
   "execution_count": 42,
   "metadata": {},
   "outputs": [],
   "source": [
    "import duckdb\n",
    "from typing import Any\n",
    "import json\n",
    "import geopandas as gpd\n",
    "\n",
    "from osgeo import ogr\n",
    "from shapely import wkb\n"
   ]
  },
  {
   "cell_type": "code",
   "execution_count": 34,
   "metadata": {},
   "outputs": [
    {
     "name": "stdout",
     "output_type": "stream",
     "text": [
      "[(42,)]\n"
     ]
    }
   ],
   "source": [
    "con = duckdb.connect()\n",
    "print(con.execute('SELECT 42').fetchall())\n",
    "# To install an extension (this is usually done only once)\n",
    "try:\n",
    "    con.install_extension('httpfs')\n",
    "    con.install_extension('spatial')\n",
    "    con.load_extension('httpfs')\n",
    "    con.load_extension('spatial')\n",
    "    con.execute(\"SET s3_region='us-west-2'\")\n",
    "except Exception as e:\n",
    "    print(f\"Failed to install extension: {e}\")"
   ]
  },
  {
   "cell_type": "code",
   "execution_count": 35,
   "metadata": {},
   "outputs": [],
   "source": [
    "# Define the query to read from S3 and filter the data\n",
    "query = '''\n",
    "SELECT\n",
    "    type,\n",
    "    subType,\n",
    "    localityType,\n",
    "    adminLevel,\n",
    "    isoCountryCodeAlpha2,\n",
    "    JSON(names) AS names,\n",
    "    JSON(sources) AS sources,\n",
    "    ST_GeomFromWkb(geometry) AS geometry\n",
    "FROM read_parquet(\n",
    "    's3://overturemaps-us-west-2/release/2023-07-26-alpha.0/theme=admins/type=*/*',\n",
    "    filename=true,\n",
    "    hive_partitioning=1\n",
    ")\n",
    "WHERE adminLevel = 2\n",
    "    AND ST_GeometryType(ST_GeomFromWkb(geometry)) IN ('POLYGON','MULTIPOLYGON')\n",
    "LIMIT 5\n",
    "'''"
   ]
  },
  {
   "cell_type": "code",
   "execution_count": 36,
   "metadata": {},
   "outputs": [
    {
     "data": {
      "application/vnd.jupyter.widget-view+json": {
       "model_id": "57c0effa632a4cc5b3c187fb3535e945",
       "version_major": 2,
       "version_minor": 0
      },
      "text/plain": [
       "FloatProgress(value=0.0, layout=Layout(width='auto'), style=ProgressStyle(bar_color='black'))"
      ]
     },
     "metadata": {},
     "output_type": "display_data"
    },
    {
     "ename": "IOException",
     "evalue": "IO Error: Connection error for HTTP HEAD to 'https://overturemaps-us-west-2.s3.amazonaws.com/release/2023-07-26-alpha.0/theme%3Dadmins/type%3Dlocality/20230725_211237_00132_5p54t_e608b636-1b9e-4e3c-ad00-d93fb09ed323'",
     "output_type": "error",
     "traceback": [
      "\u001b[1;31m---------------------------------------------------------------------------\u001b[0m",
      "\u001b[1;31mIOException\u001b[0m                               Traceback (most recent call last)",
      "Cell \u001b[1;32mIn[36], line 3\u001b[0m\n\u001b[0;32m      1\u001b[0m \u001b[38;5;66;03m# Execute the query and store the result\u001b[39;00m\n\u001b[0;32m      2\u001b[0m df \u001b[38;5;241m=\u001b[39m con\u001b[38;5;241m.\u001b[39mexecute(query)\u001b[38;5;241m.\u001b[39mfetchdf()\n\u001b[1;32m----> 3\u001b[0m result \u001b[38;5;241m=\u001b[39m \u001b[43mcon\u001b[49m\u001b[38;5;241;43m.\u001b[39;49m\u001b[43mexecute\u001b[49m\u001b[43m(\u001b[49m\u001b[43mquery\u001b[49m\u001b[43m)\u001b[49m\u001b[38;5;241m.\u001b[39mfetchall()\n",
      "\u001b[1;31mIOException\u001b[0m: IO Error: Connection error for HTTP HEAD to 'https://overturemaps-us-west-2.s3.amazonaws.com/release/2023-07-26-alpha.0/theme%3Dadmins/type%3Dlocality/20230725_211237_00132_5p54t_e608b636-1b9e-4e3c-ad00-d93fb09ed323'"
     ]
    }
   ],
   "source": [
    "# Execute the query and store the result\n",
    "df = con.execute(query).fetchdf()"
   ]
  },
  {
   "cell_type": "code",
   "execution_count": null,
   "metadata": {},
   "outputs": [],
   "source": [
    "# Try to convert it to a Shapely geometry object\n",
    "def try_wkb_loads(data):\n",
    "    try:\n",
    "        return wkb.loads(data)\n",
    "    except Exception as e:\n",
    "        print(f\"Failed to convert geometry: {e}\")\n",
    "        return None\n",
    "    \n",
    "df['geometry'] = df['geometry'].apply(try_wkb_loads)\n",
    "gdf = gpd.GeoDataFrame(df, geometry='geometry', crs=4326)"
   ]
  },
  {
   "cell_type": "code",
   "execution_count": null,
   "metadata": {},
   "outputs": [],
   "source": [
    "gdf"
   ]
  },
  {
   "cell_type": "code",
   "execution_count": null,
   "metadata": {},
   "outputs": [],
   "source": []
  },
  {
   "cell_type": "code",
   "execution_count": 13,
   "metadata": {},
   "outputs": [],
   "source": [
    "import dask.dataframe as dd\n",
    "import geopandas as gpd\n",
    "import dask_geopandas as dgpd \n",
    "\n",
    "from shapely.geometry import box"
   ]
  },
  {
   "cell_type": "code",
   "execution_count": 14,
   "metadata": {},
   "outputs": [],
   "source": [
    "iso3 = 'KHM'"
   ]
  },
  {
   "cell_type": "code",
   "execution_count": 28,
   "metadata": {},
   "outputs": [],
   "source": [
    "df = dd.read_parquet(\n",
    "    's3://overturemaps-us-west-2/release/2023-07-26-alpha.0/theme=places/type=place/*',\n",
    "    columns=['bbox', 'geometry'],\n",
    "    engine='pyarrow',\n",
    "    index='id',\n",
    "    dtype_backend='pyarrow',\n",
    "    storage_options={\"anon\": True},\n",
    "    parquet_file_extensions=False,\n",
    ")"
   ]
  },
  {
   "cell_type": "code",
   "execution_count": 30,
   "metadata": {},
   "outputs": [
    {
     "data": {
      "text/plain": [
       "'POLYGON ((107.61454796756243 10.48654368737523, 107.61454796756243 14.570583807834282, 102.34809939983302 14.570583807834282, 102.34809939983302 10.48654368737523, 107.61454796756243 10.48654368737523))'"
      ]
     },
     "execution_count": 30,
     "metadata": {},
     "output_type": "execute_result"
    }
   ],
   "source": [
    "# Get extent of selected country as a bounding box polygon\n",
    "world_filepath = gpd.datasets.get_path('naturalearth_lowres')\n",
    "world = gpd.read_file(world_filepath)\n",
    "\n",
    "sel_country = world[world['iso_a3'] == iso3]\n",
    "country_box = box(*sel_country.total_bounds)\n",
    "str(country_box)"
   ]
  },
  {
   "cell_type": "code",
   "execution_count": 25,
   "metadata": {},
   "outputs": [
    {
     "ename": "AttributeError",
     "evalue": "'Series' object has no attribute 'within'",
     "output_type": "error",
     "traceback": [
      "\u001b[1;31m---------------------------------------------------------------------------\u001b[0m",
      "\u001b[1;31mAttributeError\u001b[0m                            Traceback (most recent call last)",
      "File \u001b[1;32mc:\\wbg\\Anaconda3\\envs\\omaps\\Lib\\site-packages\\dask_expr\\_core.py:457\u001b[0m, in \u001b[0;36mExpr.__getattr__\u001b[1;34m(self, key)\u001b[0m\n\u001b[0;32m    456\u001b[0m \u001b[38;5;28;01mtry\u001b[39;00m:\n\u001b[1;32m--> 457\u001b[0m     \u001b[38;5;28;01mreturn\u001b[39;00m \u001b[38;5;28;43mobject\u001b[39;49m\u001b[38;5;241;43m.\u001b[39;49m\u001b[38;5;21;43m__getattribute__\u001b[39;49m\u001b[43m(\u001b[49m\u001b[38;5;28;43mself\u001b[39;49m\u001b[43m,\u001b[49m\u001b[43m \u001b[49m\u001b[43mkey\u001b[49m\u001b[43m)\u001b[49m\n\u001b[0;32m    458\u001b[0m \u001b[38;5;28;01mexcept\u001b[39;00m \u001b[38;5;167;01mAttributeError\u001b[39;00m \u001b[38;5;28;01mas\u001b[39;00m err:\n",
      "\u001b[1;31mAttributeError\u001b[0m: 'Projection' object has no attribute 'within'",
      "\nDuring handling of the above exception, another exception occurred:\n",
      "\u001b[1;31mAttributeError\u001b[0m                            Traceback (most recent call last)",
      "File \u001b[1;32mc:\\wbg\\Anaconda3\\envs\\omaps\\Lib\\site-packages\\dask_expr\\_collection.py:517\u001b[0m, in \u001b[0;36mFrameBase.__getattr__\u001b[1;34m(self, key)\u001b[0m\n\u001b[0;32m    514\u001b[0m \u001b[38;5;28;01mtry\u001b[39;00m:\n\u001b[0;32m    515\u001b[0m     \u001b[38;5;66;03m# Fall back to `expr` API\u001b[39;00m\n\u001b[0;32m    516\u001b[0m     \u001b[38;5;66;03m# (Making sure to convert to/from Expr)\u001b[39;00m\n\u001b[1;32m--> 517\u001b[0m     val \u001b[38;5;241m=\u001b[39m \u001b[38;5;28mgetattr\u001b[39m(\u001b[38;5;28mself\u001b[39m\u001b[38;5;241m.\u001b[39mexpr, key)\n\u001b[0;32m    518\u001b[0m     \u001b[38;5;28;01mif\u001b[39;00m \u001b[38;5;28mcallable\u001b[39m(val):\n",
      "File \u001b[1;32mc:\\wbg\\Anaconda3\\envs\\omaps\\Lib\\site-packages\\dask_expr\\_core.py:478\u001b[0m, in \u001b[0;36mExpr.__getattr__\u001b[1;34m(self, key)\u001b[0m\n\u001b[0;32m    477\u001b[0m link \u001b[38;5;241m=\u001b[39m \u001b[38;5;124m\"\u001b[39m\u001b[38;5;124mhttps://github.com/dask-contrib/dask-expr/blob/main/README.md#api-coverage\u001b[39m\u001b[38;5;124m\"\u001b[39m\n\u001b[1;32m--> 478\u001b[0m \u001b[38;5;28;01mraise\u001b[39;00m \u001b[38;5;167;01mAttributeError\u001b[39;00m(\n\u001b[0;32m    479\u001b[0m     \u001b[38;5;124mf\u001b[39m\u001b[38;5;124m\"\u001b[39m\u001b[38;5;132;01m{\u001b[39;00merr\u001b[38;5;132;01m}\u001b[39;00m\u001b[38;5;130;01m\\n\u001b[39;00m\u001b[38;5;130;01m\\n\u001b[39;00m\u001b[38;5;124m\"\u001b[39m\n\u001b[0;32m    480\u001b[0m     \u001b[38;5;124m\"\u001b[39m\u001b[38;5;124mThis often means that you are attempting to use an unsupported \u001b[39m\u001b[38;5;124m\"\u001b[39m\n\u001b[0;32m    481\u001b[0m     \u001b[38;5;124mf\u001b[39m\u001b[38;5;124m\"\u001b[39m\u001b[38;5;124mAPI function. Current API coverage is documented here: \u001b[39m\u001b[38;5;132;01m{\u001b[39;00mlink\u001b[38;5;132;01m}\u001b[39;00m\u001b[38;5;124m.\u001b[39m\u001b[38;5;124m\"\u001b[39m\n\u001b[0;32m    482\u001b[0m )\n",
      "\u001b[1;31mAttributeError\u001b[0m: 'Projection' object has no attribute 'within'\n\nThis often means that you are attempting to use an unsupported API function. Current API coverage is documented here: https://github.com/dask-contrib/dask-expr/blob/main/README.md#api-coverage.",
      "\nDuring handling of the above exception, another exception occurred:\n",
      "\u001b[1;31mAttributeError\u001b[0m                            Traceback (most recent call last)",
      "Cell \u001b[1;32mIn[25], line 4\u001b[0m\n\u001b[0;32m      1\u001b[0m geometry \u001b[38;5;241m=\u001b[39m df[\u001b[38;5;124m\"\u001b[39m\u001b[38;5;124mgeometry\u001b[39m\u001b[38;5;124m\"\u001b[39m]\u001b[38;5;241m.\u001b[39mmap_partitions(gpd\u001b[38;5;241m.\u001b[39mGeoSeries\u001b[38;5;241m.\u001b[39mfrom_wkt, meta\u001b[38;5;241m=\u001b[39mgpd\u001b[38;5;241m.\u001b[39mGeoSeries(name\u001b[38;5;241m=\u001b[39m\u001b[38;5;124m\"\u001b[39m\u001b[38;5;124mgeometry\u001b[39m\u001b[38;5;124m\"\u001b[39m)) \u001b[38;5;66;03m#.set_crs(4326)\u001b[39;00m\n\u001b[0;32m      2\u001b[0m gdf \u001b[38;5;241m=\u001b[39m dgpd\u001b[38;5;241m.\u001b[39mfrom_dask_dataframe(df, geometry\u001b[38;5;241m=\u001b[39mgeometry)\n\u001b[1;32m----> 4\u001b[0m clipped_gdf \u001b[38;5;241m=\u001b[39m gdf[\u001b[43mgdf\u001b[49m\u001b[38;5;241;43m.\u001b[39;49m\u001b[43mgeometry\u001b[49m\u001b[38;5;241;43m.\u001b[39;49m\u001b[43mwithin\u001b[49m(country_box)]\n\u001b[0;32m      5\u001b[0m \u001b[38;5;28mprint\u001b[39m(clipped_gdf\u001b[38;5;241m.\u001b[39mhead())\n",
      "File \u001b[1;32mc:\\wbg\\Anaconda3\\envs\\omaps\\Lib\\site-packages\\dask_expr\\_collection.py:523\u001b[0m, in \u001b[0;36mFrameBase.__getattr__\u001b[1;34m(self, key)\u001b[0m\n\u001b[0;32m    520\u001b[0m     \u001b[38;5;28;01mreturn\u001b[39;00m val\n\u001b[0;32m    521\u001b[0m \u001b[38;5;28;01mexcept\u001b[39;00m \u001b[38;5;167;01mAttributeError\u001b[39;00m:\n\u001b[0;32m    522\u001b[0m     \u001b[38;5;66;03m# Raise original error\u001b[39;00m\n\u001b[1;32m--> 523\u001b[0m     \u001b[38;5;28;01mraise\u001b[39;00m err\n",
      "File \u001b[1;32mc:\\wbg\\Anaconda3\\envs\\omaps\\Lib\\site-packages\\dask_expr\\_collection.py:512\u001b[0m, in \u001b[0;36mFrameBase.__getattr__\u001b[1;34m(self, key)\u001b[0m\n\u001b[0;32m    509\u001b[0m \u001b[38;5;28;01mdef\u001b[39;00m \u001b[38;5;21m__getattr__\u001b[39m(\u001b[38;5;28mself\u001b[39m, key):\n\u001b[0;32m    510\u001b[0m     \u001b[38;5;28;01mtry\u001b[39;00m:\n\u001b[0;32m    511\u001b[0m         \u001b[38;5;66;03m# Prioritize `FrameBase` attributes\u001b[39;00m\n\u001b[1;32m--> 512\u001b[0m         \u001b[38;5;28;01mreturn\u001b[39;00m \u001b[38;5;28;43mobject\u001b[39;49m\u001b[38;5;241;43m.\u001b[39;49m\u001b[38;5;21;43m__getattribute__\u001b[39;49m\u001b[43m(\u001b[49m\u001b[38;5;28;43mself\u001b[39;49m\u001b[43m,\u001b[49m\u001b[43m \u001b[49m\u001b[43mkey\u001b[49m\u001b[43m)\u001b[49m\n\u001b[0;32m    513\u001b[0m     \u001b[38;5;28;01mexcept\u001b[39;00m \u001b[38;5;167;01mAttributeError\u001b[39;00m \u001b[38;5;28;01mas\u001b[39;00m err:\n\u001b[0;32m    514\u001b[0m         \u001b[38;5;28;01mtry\u001b[39;00m:\n\u001b[0;32m    515\u001b[0m             \u001b[38;5;66;03m# Fall back to `expr` API\u001b[39;00m\n\u001b[0;32m    516\u001b[0m             \u001b[38;5;66;03m# (Making sure to convert to/from Expr)\u001b[39;00m\n",
      "\u001b[1;31mAttributeError\u001b[0m: 'Series' object has no attribute 'within'"
     ]
    }
   ],
   "source": [
    "geometry = df[\"geometry\"].map_partitions(gpd.GeoSeries.from_wkt, meta=gpd.GeoSeries(name=\"geometry\")) #.set_crs(4326)\n",
    "gdf = dgpd.from_dask_dataframe(df, geometry=geometry)\n",
    "\n",
    "clipped_gdf = gdf[gdf.geometry.within(country_box)]\n",
    "print(clipped_gdf.head())"
   ]
  },
  {
   "cell_type": "code",
   "execution_count": 24,
   "metadata": {},
   "outputs": [
    {
     "data": {
      "text/plain": [
       "dask_expr._collection.Series"
      ]
     },
     "execution_count": 24,
     "metadata": {},
     "output_type": "execute_result"
    }
   ],
   "source": [
    "geometry.__class__"
   ]
  },
  {
   "cell_type": "code",
   "execution_count": null,
   "metadata": {},
   "outputs": [],
   "source": []
  }
 ],
 "metadata": {
  "kernelspec": {
   "display_name": "urban_test",
   "language": "python",
   "name": "python3"
  },
  "language_info": {
   "codemirror_mode": {
    "name": "ipython",
    "version": 3
   },
   "file_extension": ".py",
   "mimetype": "text/x-python",
   "name": "python",
   "nbconvert_exporter": "python",
   "pygments_lexer": "ipython3",
   "version": "3.11.8"
  }
 },
 "nbformat": 4,
 "nbformat_minor": 2
}
