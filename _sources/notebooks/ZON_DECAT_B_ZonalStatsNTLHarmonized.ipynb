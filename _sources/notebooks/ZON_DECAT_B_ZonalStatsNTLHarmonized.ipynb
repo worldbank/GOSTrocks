{
 "cells": [
  {
   "cell_type": "code",
   "execution_count": 106,
   "metadata": {},
   "outputs": [],
   "source": [
    "import sys\n",
    "import os\n",
    "import rasterio\n",
    "\n",
    "import pandas as pd\n",
    "import geopandas as gpd\n",
    "\n",
    "from rasterio import MemoryFile\n",
    "from contextlib import contextmanager\n",
    "\n",
    "sys.path.append(\"../src\")\n",
    "\n",
    "import GOSTRocks.rasterMisc as rMisc\n",
    "from GOSTRocks.misc import tPrint"
   ]
  },
  {
   "cell_type": "code",
   "execution_count": 107,
   "metadata": {},
   "outputs": [],
   "source": [
    "in_admin_file = \"/home/public/Data/COUNTRY/ETH/ADMIN/gadm36_2_hoa.shp\"\n",
    "inD = gpd.read_file(in_admin_file)\n",
    "\n",
    "ntl_folder = \"/home/public/Data/GLOBAL/NighttimeLights/LI_HARMONIZED\"\n",
    "ntl_files = [os.path.join(ntl_folder, x) for x in os.listdir(ntl_folder)]"
   ]
  },
  {
   "cell_type": "code",
   "execution_count": 108,
   "metadata": {},
   "outputs": [],
   "source": [
    "@contextmanager\n",
    "def create_rasterio_inmemory(src, curData):\n",
    "    \"\"\"Create a rasterio object in memory from a\n",
    "\n",
    "    :param: src - data dictionary describing the rasterio template i.e. - rasterio.open().profile\n",
    "    :param: curData - numpy array from which to create rasterio object\n",
    "    \"\"\"\n",
    "    with MemoryFile() as memFile:\n",
    "        with memFile.open(**src) as dataset:\n",
    "            dataset.write(curData)\n",
    "            del curData\n",
    "\n",
    "        with memFile.open() as dataset:\n",
    "            yield (dataset)"
   ]
  },
  {
   "cell_type": "code",
   "execution_count": 75,
   "metadata": {
    "scrolled": true
   },
   "outputs": [
    {
     "name": "stdout",
     "output_type": "stream",
     "text": [
      "10:21:08\t2008_calDMSP: 7\n",
      "10:21:11\t2008_calDMSP: 20\n",
      "10:21:14\t2008_calDMSP: 30\n",
      "10:21:18\t2009_calDMSP: 7\n",
      "10:21:21\t2009_calDMSP: 20\n",
      "10:21:24\t2009_calDMSP: 30\n",
      "10:21:27\t2010_calDMSP: 7\n",
      "10:21:30\t2010_calDMSP: 20\n",
      "10:21:33\t2010_calDMSP: 30\n",
      "10:21:37\t2011_calDMSP: 7\n",
      "10:21:39\t2011_calDMSP: 20\n",
      "10:21:42\t2011_calDMSP: 30\n",
      "10:21:46\t2012_calDMSP: 7\n",
      "10:21:49\t2012_calDMSP: 20\n",
      "10:21:51\t2012_calDMSP: 30\n",
      "10:21:54\t2013_calDMSP: 7\n",
      "10:21:57\t2013_calDMSP: 20\n",
      "10:22:00\t2013_calDMSP: 30\n",
      "10:22:03\t2014_simVIIRS: 7\n",
      "10:22:05\t2014_simVIIRS: 20\n",
      "10:22:08\t2014_simVIIRS: 30\n",
      "10:22:11\t2015_simVIIRS: 7\n",
      "10:22:14\t2015_simVIIRS: 20\n",
      "10:22:16\t2015_simVIIRS: 30\n",
      "10:22:20\t2016_simVIIRS: 7\n",
      "10:22:22\t2016_simVIIRS: 20\n",
      "10:22:25\t2016_simVIIRS: 30\n",
      "10:22:28\t2017_simVIIRS: 7\n",
      "10:22:30\t2017_simVIIRS: 20\n",
      "10:22:33\t2017_simVIIRS: 30\n",
      "10:22:36\t2018_simVIIRS: 7\n",
      "10:22:39\t2018_simVIIRS: 20\n",
      "10:22:41\t2018_simVIIRS: 30\n",
      "10:22:45\t1992_calDMSP: 7\n",
      "10:22:47\t1992_calDMSP: 20\n",
      "10:22:50\t1992_calDMSP: 30\n",
      "10:22:53\t1993_calDMSP: 7\n",
      "10:22:55\t1993_calDMSP: 20\n",
      "10:22:58\t1993_calDMSP: 30\n",
      "10:23:01\t1994_calDMSP: 7\n",
      "10:23:04\t1994_calDMSP: 20\n",
      "10:23:06\t1994_calDMSP: 30\n",
      "10:23:09\t1995_calDMSP: 7\n",
      "10:23:12\t1995_calDMSP: 20\n",
      "10:23:14\t1995_calDMSP: 30\n",
      "10:23:18\t1996_calDMSP: 7\n",
      "10:23:20\t1996_calDMSP: 20\n",
      "10:23:23\t1996_calDMSP: 30\n",
      "10:23:27\t1997_calDMSP: 7\n",
      "10:23:29\t1997_calDMSP: 20\n",
      "10:23:32\t1997_calDMSP: 30\n",
      "10:23:35\t1998_calDMSP: 7\n",
      "10:23:38\t1998_calDMSP: 20\n",
      "10:23:41\t1998_calDMSP: 30\n",
      "10:23:44\t1999_calDMSP: 7\n",
      "10:23:47\t1999_calDMSP: 20\n",
      "10:23:50\t1999_calDMSP: 30\n",
      "10:23:53\t2000_calDMSP: 7\n",
      "10:23:56\t2000_calDMSP: 20\n",
      "10:23:58\t2000_calDMSP: 30\n",
      "10:24:01\t2001_calDMSP: 7\n",
      "10:24:04\t2001_calDMSP: 20\n",
      "10:24:07\t2001_calDMSP: 30\n",
      "10:24:10\t2002_calDMSP: 7\n",
      "10:24:12\t2002_calDMSP: 20\n",
      "10:24:15\t2002_calDMSP: 30\n",
      "10:24:18\t2003_calDMSP: 7\n",
      "10:24:21\t2003_calDMSP: 20\n",
      "10:24:24\t2003_calDMSP: 30\n",
      "10:24:28\t2004_calDMSP: 7\n",
      "10:24:30\t2004_calDMSP: 20\n",
      "10:24:33\t2004_calDMSP: 30\n",
      "10:24:37\t2005_calDMSP: 7\n",
      "10:24:40\t2005_calDMSP: 20\n",
      "10:24:42\t2005_calDMSP: 30\n",
      "10:24:46\t2006_calDMSP: 7\n",
      "10:24:48\t2006_calDMSP: 20\n",
      "10:24:51\t2006_calDMSP: 30\n",
      "10:24:54\t2007_calDMSP: 7\n",
      "10:24:57\t2007_calDMSP: 20\n",
      "10:24:59\t2007_calDMSP: 30\n",
      "10:25:03\t2013_simVIIRS: 7\n",
      "10:25:05\t2013_simVIIRS: 20\n",
      "10:25:08\t2013_simVIIRS: 30\n"
     ]
    }
   ],
   "source": [
    "ntl_file = ntl_files[0]\n",
    "for ntl_file in ntl_files:\n",
    "    file_name = \"_\".join(os.path.basename(ntl_file.replace(\".tif\", \"\")).split(\"_\")[-2:])\n",
    "    inR = rasterio.open(ntl_file)\n",
    "    rData = inR.read()\n",
    "    for thresh in [7, 20, 30]:\n",
    "        tPrint(f\"{file_name}: {thresh}\")\n",
    "        curData = (rData > thresh) * rData\n",
    "        with create_rasterio_inmemory(inR.profile, curData) as curR:\n",
    "            res = rMisc.zonalStats(inD, curR)\n",
    "            xx = pd.DataFrame(res, columns=[\"SUM\", \"MIN\", \"MAX\", \"MEAN\"])\n",
    "            inD[f\"{file_name}_{thresh}\"] = xx[\"SUM\"]"
   ]
  },
  {
   "cell_type": "code",
   "execution_count": 104,
   "metadata": {},
   "outputs": [],
   "source": [
    "inD = inD.reindex(sorted(inD.columns), axis=1)\n",
    "finalD = inD.copy()\n",
    "for col in finalD.columns:\n",
    "    try:\n",
    "        finalD[col] = finalD[col].astype(float)\n",
    "    except:\n",
    "        pass"
   ]
  },
  {
   "cell_type": "code",
   "execution_count": 103,
   "metadata": {},
   "outputs": [],
   "source": [
    "finalD.to_file(\n",
    "    \"/home/wb411133/Code/gostrocks/data/RAW/gadm2_HoA_SoL.geojson\", driver=\"GeoJSON\"\n",
    ")\n",
    "pd.DataFrame(finalD.drop([\"geometry\"], axis=1)).to_csv(\n",
    "    \"/home/wb411133/Code/gostrocks/data/RAW/gadm2_HoA_SoL.csv\"\n",
    ")"
   ]
  }
 ],
 "metadata": {
  "kernelspec": {
   "display_name": "Python (geog)",
   "language": "python",
   "name": "geog"
  },
  "language_info": {
   "codemirror_mode": {
    "name": "ipython",
    "version": 3
   },
   "file_extension": ".py",
   "mimetype": "text/x-python",
   "name": "python",
   "nbconvert_exporter": "python",
   "pygments_lexer": "ipython3",
   "version": "3.9.7"
  }
 },
 "nbformat": 4,
 "nbformat_minor": 2
}
