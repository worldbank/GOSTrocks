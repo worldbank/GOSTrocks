{
 "cells": [
  {
   "cell_type": "markdown",
   "id": "19a7c712",
   "metadata": {},
   "source": [
    "# Extracting Data for Country by ISO3\n",
    "\n",
    "The Fathom flood data are stored as individual tiles, organized into folders per model on the GOST AWS bucket. We have generated virtual rasters (.vrt) for each model, making reading and extracting easier."
   ]
  },
  {
   "cell_type": "code",
   "execution_count": 2,
   "id": "021f6828",
   "metadata": {},
   "outputs": [],
   "source": [
    "import sys\n",
    "import os\n",
    "import boto3\n",
    "import rasterio\n",
    "\n",
    "import geopandas as gpd\n",
    "\n",
    "sys.path.insert(0, \"../../src\")\n",
    "\n",
    "import GOSTrocks.dataMisc as dMisc\n",
    "import GOSTrocks.rasterMisc as rMisc\n",
    "from GOSTrocks.misc import tPrint"
   ]
  },
  {
   "cell_type": "code",
   "execution_count": 5,
   "id": "e567134e",
   "metadata": {},
   "outputs": [
    {
     "data": {
      "text/plain": [
       "'c:\\\\WBG\\\\Work\\\\Code\\\\GOSTrocks\\\\src'"
      ]
     },
     "execution_count": 5,
     "metadata": {},
     "output_type": "execute_result"
    }
   ],
   "source": [
    "os.path.abspath(\"../../src\")"
   ]
  },
  {
   "cell_type": "code",
   "execution_count": 2,
   "id": "87475280",
   "metadata": {},
   "outputs": [],
   "source": [
    "iso3 = \"KEN\"\n",
    "out_folder = f\"/home/wb411133/temp/FATHOM/{iso3}\"\n",
    "if not os.path.exists(out_folder):\n",
    "    os.makedirs(out_folder)\n",
    "    \n",
    "# This demo uses the default national boundaries included with GeoPandas, but this can be changed here\n",
    "world_filepath = gpd.datasets.get_path('naturalearth_lowres')\n",
    "world = gpd.read_file(world_filepath)\n",
    "inB = world.loc[world['iso_a3'] == iso3].copy()"
   ]
  },
  {
   "cell_type": "code",
   "execution_count": 4,
   "id": "af38e413",
   "metadata": {},
   "outputs": [],
   "source": [
    "# Select layer to downlaod\n",
    "flood_type = [\"COASTAL\",\"FLUVIAL\",\"PLUVIAL\"]\n",
    "defence = [\"DEFENDED\"]\n",
    "return_period = ['1in5','1in10','1in50']\n",
    "climate_model = [\"PERCENTILE50\"]\n",
    "year = [\"2020\"]\n",
    "\n",
    "# all_vrts is a pandas dataframe with all the vrt paths to the global datasets, with columns defining\n",
    "# the various models' defining attributes\n",
    "all_vrts = dMisc.get_fathom_vrts(True)\n",
    "sel_images = all_vrts.loc[(all_vrts['FLOOD_TYPE'].isin(flood_type)) & (all_vrts['DEFENCE'].isin(defence)) & \n",
    "             (all_vrts['RETURN'].isin(return_period))  & (all_vrts['CLIMATE_MODEL'].isin(climate_model))]"
   ]
  },
  {
   "cell_type": "code",
   "execution_count": 4,
   "id": "fd239144",
   "metadata": {},
   "outputs": [
    {
     "data": {
      "text/html": [
       "<div>\n",
       "<style scoped>\n",
       "    .dataframe tbody tr th:only-of-type {\n",
       "        vertical-align: middle;\n",
       "    }\n",
       "\n",
       "    .dataframe tbody tr th {\n",
       "        vertical-align: top;\n",
       "    }\n",
       "\n",
       "    .dataframe thead th {\n",
       "        text-align: right;\n",
       "    }\n",
       "</style>\n",
       "<table border=\"1\" class=\"dataframe\">\n",
       "  <thead>\n",
       "    <tr style=\"text-align: right;\">\n",
       "      <th></th>\n",
       "      <th>RETURN</th>\n",
       "      <th>FLOOD_TYPE</th>\n",
       "      <th>DEFENCE</th>\n",
       "      <th>DEPTH</th>\n",
       "      <th>YEAR</th>\n",
       "      <th>CLIMATE_MODEL</th>\n",
       "      <th>PATH</th>\n",
       "    </tr>\n",
       "  </thead>\n",
       "  <tbody>\n",
       "    <tr>\n",
       "      <th>0</th>\n",
       "      <td>1in10</td>\n",
       "      <td>COASTAL</td>\n",
       "      <td>DEFENDED</td>\n",
       "      <td>DEPTH</td>\n",
       "      <td>2020</td>\n",
       "      <td>PERCENTILE50</td>\n",
       "      <td>s3://wbg-geography01/FATHOM/GLOBAL-1ARCSEC-NW_...</td>\n",
       "    </tr>\n",
       "    <tr>\n",
       "      <th>1</th>\n",
       "      <td>1in10</td>\n",
       "      <td>COASTAL</td>\n",
       "      <td>DEFENDED</td>\n",
       "      <td>DEPTH</td>\n",
       "      <td>2030</td>\n",
       "      <td>SSP1_2.6</td>\n",
       "      <td>s3://wbg-geography01/FATHOM/GLOBAL-1ARCSEC-NW_...</td>\n",
       "    </tr>\n",
       "    <tr>\n",
       "      <th>2</th>\n",
       "      <td>1in10</td>\n",
       "      <td>COASTAL</td>\n",
       "      <td>DEFENDED</td>\n",
       "      <td>DEPTH</td>\n",
       "      <td>2030</td>\n",
       "      <td>SSP2_4.5</td>\n",
       "      <td>s3://wbg-geography01/FATHOM/GLOBAL-1ARCSEC-NW_...</td>\n",
       "    </tr>\n",
       "    <tr>\n",
       "      <th>3</th>\n",
       "      <td>1in10</td>\n",
       "      <td>COASTAL</td>\n",
       "      <td>DEFENDED</td>\n",
       "      <td>DEPTH</td>\n",
       "      <td>2030</td>\n",
       "      <td>SSP3_7.0</td>\n",
       "      <td>s3://wbg-geography01/FATHOM/GLOBAL-1ARCSEC-NW_...</td>\n",
       "    </tr>\n",
       "    <tr>\n",
       "      <th>4</th>\n",
       "      <td>1in10</td>\n",
       "      <td>COASTAL</td>\n",
       "      <td>DEFENDED</td>\n",
       "      <td>DEPTH</td>\n",
       "      <td>2030</td>\n",
       "      <td>SSP5_8.5</td>\n",
       "      <td>s3://wbg-geography01/FATHOM/GLOBAL-1ARCSEC-NW_...</td>\n",
       "    </tr>\n",
       "  </tbody>\n",
       "</table>\n",
       "</div>"
      ],
      "text/plain": [
       "  RETURN FLOOD_TYPE   DEFENCE  DEPTH  YEAR CLIMATE_MODEL  \\\n",
       "0  1in10    COASTAL  DEFENDED  DEPTH  2020  PERCENTILE50   \n",
       "1  1in10    COASTAL  DEFENDED  DEPTH  2030      SSP1_2.6   \n",
       "2  1in10    COASTAL  DEFENDED  DEPTH  2030      SSP2_4.5   \n",
       "3  1in10    COASTAL  DEFENDED  DEPTH  2030      SSP3_7.0   \n",
       "4  1in10    COASTAL  DEFENDED  DEPTH  2030      SSP5_8.5   \n",
       "\n",
       "                                                PATH  \n",
       "0  s3://wbg-geography01/FATHOM/GLOBAL-1ARCSEC-NW_...  \n",
       "1  s3://wbg-geography01/FATHOM/GLOBAL-1ARCSEC-NW_...  \n",
       "2  s3://wbg-geography01/FATHOM/GLOBAL-1ARCSEC-NW_...  \n",
       "3  s3://wbg-geography01/FATHOM/GLOBAL-1ARCSEC-NW_...  \n",
       "4  s3://wbg-geography01/FATHOM/GLOBAL-1ARCSEC-NW_...  "
      ]
     },
     "execution_count": 4,
     "metadata": {},
     "output_type": "execute_result"
    }
   ],
   "source": [
    "all_vrts.head()"
   ]
  },
  {
   "cell_type": "code",
   "execution_count": 5,
   "id": "ae96ba27",
   "metadata": {},
   "outputs": [
    {
     "data": {
      "text/html": [
       "<div>\n",
       "<style scoped>\n",
       "    .dataframe tbody tr th:only-of-type {\n",
       "        vertical-align: middle;\n",
       "    }\n",
       "\n",
       "    .dataframe tbody tr th {\n",
       "        vertical-align: top;\n",
       "    }\n",
       "\n",
       "    .dataframe thead th {\n",
       "        text-align: right;\n",
       "    }\n",
       "</style>\n",
       "<table border=\"1\" class=\"dataframe\">\n",
       "  <thead>\n",
       "    <tr style=\"text-align: right;\">\n",
       "      <th></th>\n",
       "      <th>RETURN</th>\n",
       "      <th>FLOOD_TYPE</th>\n",
       "      <th>DEFENCE</th>\n",
       "      <th>DEPTH</th>\n",
       "      <th>YEAR</th>\n",
       "      <th>CLIMATE_MODEL</th>\n",
       "      <th>PATH</th>\n",
       "    </tr>\n",
       "  </thead>\n",
       "  <tbody>\n",
       "    <tr>\n",
       "      <th>0</th>\n",
       "      <td>1in10</td>\n",
       "      <td>COASTAL</td>\n",
       "      <td>DEFENDED</td>\n",
       "      <td>DEPTH</td>\n",
       "      <td>2020</td>\n",
       "      <td>PERCENTILE50</td>\n",
       "      <td>s3://wbg-geography01/FATHOM/GLOBAL-1ARCSEC-NW_...</td>\n",
       "    </tr>\n",
       "    <tr>\n",
       "      <th>26</th>\n",
       "      <td>1in10</td>\n",
       "      <td>FLUVIAL</td>\n",
       "      <td>DEFENDED</td>\n",
       "      <td>DEPTH</td>\n",
       "      <td>2020</td>\n",
       "      <td>PERCENTILE50</td>\n",
       "      <td>s3://wbg-geography01/FATHOM/GLOBAL-1ARCSEC-NW_...</td>\n",
       "    </tr>\n",
       "    <tr>\n",
       "      <th>52</th>\n",
       "      <td>1in10</td>\n",
       "      <td>PLUVIAL</td>\n",
       "      <td>DEFENDED</td>\n",
       "      <td>DEPTH</td>\n",
       "      <td>2020</td>\n",
       "      <td>PERCENTILE50</td>\n",
       "      <td>s3://wbg-geography01/FATHOM/GLOBAL-1ARCSEC-NW_...</td>\n",
       "    </tr>\n",
       "    <tr>\n",
       "      <th>325</th>\n",
       "      <td>1in5</td>\n",
       "      <td>COASTAL</td>\n",
       "      <td>DEFENDED</td>\n",
       "      <td>DEPTH</td>\n",
       "      <td>2020</td>\n",
       "      <td>PERCENTILE50</td>\n",
       "      <td>s3://wbg-geography01/FATHOM/GLOBAL-1ARCSEC-NW_...</td>\n",
       "    </tr>\n",
       "    <tr>\n",
       "      <th>351</th>\n",
       "      <td>1in5</td>\n",
       "      <td>FLUVIAL</td>\n",
       "      <td>DEFENDED</td>\n",
       "      <td>DEPTH</td>\n",
       "      <td>2020</td>\n",
       "      <td>PERCENTILE50</td>\n",
       "      <td>s3://wbg-geography01/FATHOM/GLOBAL-1ARCSEC-NW_...</td>\n",
       "    </tr>\n",
       "  </tbody>\n",
       "</table>\n",
       "</div>"
      ],
      "text/plain": [
       "    RETURN FLOOD_TYPE   DEFENCE  DEPTH  YEAR CLIMATE_MODEL  \\\n",
       "0    1in10    COASTAL  DEFENDED  DEPTH  2020  PERCENTILE50   \n",
       "26   1in10    FLUVIAL  DEFENDED  DEPTH  2020  PERCENTILE50   \n",
       "52   1in10    PLUVIAL  DEFENDED  DEPTH  2020  PERCENTILE50   \n",
       "325   1in5    COASTAL  DEFENDED  DEPTH  2020  PERCENTILE50   \n",
       "351   1in5    FLUVIAL  DEFENDED  DEPTH  2020  PERCENTILE50   \n",
       "\n",
       "                                                  PATH  \n",
       "0    s3://wbg-geography01/FATHOM/GLOBAL-1ARCSEC-NW_...  \n",
       "26   s3://wbg-geography01/FATHOM/GLOBAL-1ARCSEC-NW_...  \n",
       "52   s3://wbg-geography01/FATHOM/GLOBAL-1ARCSEC-NW_...  \n",
       "325  s3://wbg-geography01/FATHOM/GLOBAL-1ARCSEC-NW_...  \n",
       "351  s3://wbg-geography01/FATHOM/GLOBAL-1ARCSEC-NW_...  "
      ]
     },
     "execution_count": 5,
     "metadata": {},
     "output_type": "execute_result"
    }
   ],
   "source": [
    "sel_images.head()"
   ]
  },
  {
   "cell_type": "code",
   "execution_count": 6,
   "id": "bf49fd1b",
   "metadata": {},
   "outputs": [
    {
     "name": "stdout",
     "output_type": "stream",
     "text": [
      "08:31:04\tGLOBAL-1ARCSEC-NW_OFFSET-1in10-COASTAL-DEFENDED-DEPTH-2020-PERCENTILE50-v3.0.vrt\n",
      "08:31:04\tGLOBAL-1ARCSEC-NW_OFFSET-1in10-FLUVIAL-DEFENDED-DEPTH-2020-PERCENTILE50-v3.0.vrt\n",
      "08:31:04\tGLOBAL-1ARCSEC-NW_OFFSET-1in10-PLUVIAL-DEFENDED-DEPTH-2020-PERCENTILE50-v3.0.vrt\n",
      "08:31:04\tGLOBAL-1ARCSEC-NW_OFFSET-1in5-COASTAL-DEFENDED-DEPTH-2020-PERCENTILE50-v3.0.vrt\n",
      "08:31:04\tGLOBAL-1ARCSEC-NW_OFFSET-1in5-FLUVIAL-DEFENDED-DEPTH-2020-PERCENTILE50-v3.0.vrt\n",
      "08:31:04\tGLOBAL-1ARCSEC-NW_OFFSET-1in5-PLUVIAL-DEFENDED-DEPTH-2020-PERCENTILE50-v3.0.vrt\n",
      "08:31:04\tGLOBAL-1ARCSEC-NW_OFFSET-1in50-COASTAL-DEFENDED-DEPTH-2020-PERCENTILE50-v3.0.vrt\n",
      "08:31:04\tGLOBAL-1ARCSEC-NW_OFFSET-1in50-FLUVIAL-DEFENDED-DEPTH-2020-PERCENTILE50-v3.0.vrt\n",
      "08:31:04\tGLOBAL-1ARCSEC-NW_OFFSET-1in50-PLUVIAL-DEFENDED-DEPTH-2020-PERCENTILE50-v3.0.vrt\n"
     ]
    }
   ],
   "source": [
    "# For each image in the selected images dataframe, we clip out the area of interest\n",
    "#     which is defined by the ioso3 code, but could be any GeoDataFrame\n",
    "\n",
    "for idx, row in sel_images.iterrows():    \n",
    "    out_file = os.path.join(out_folder, os.path.basename(row['PATH']))\n",
    "    if not os.path.exists(out_file):\n",
    "        cur_r = rasterio.open(row['PATH'])\n",
    "        rMisc.clipRaster(cur_r, inB, out_file)\n",
    "    tPrint(os.path.basename(row['PATH']))"
   ]
  }
 ],
 "metadata": {
  "kernelspec": {
   "display_name": "urban_test",
   "language": "python",
   "name": "python3"
  },
  "language_info": {
   "codemirror_mode": {
    "name": "ipython",
    "version": 3
   },
   "file_extension": ".py",
   "mimetype": "text/x-python",
   "name": "python",
   "nbconvert_exporter": "python",
   "pygments_lexer": "ipython3",
   "version": "3.12.2"
  }
 },
 "nbformat": 4,
 "nbformat_minor": 5
}
